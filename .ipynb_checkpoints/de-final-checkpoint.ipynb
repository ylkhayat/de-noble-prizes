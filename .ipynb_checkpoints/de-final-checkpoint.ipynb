{
 "cells": [
  {
   "cell_type": "markdown",
   "metadata": {},
   "source": [
    "# Course Project\n",
    "## CSEN 1095 - Data Engineering\n",
    "### _German University in Cairo_\n",
    "\n",
    "Collaborators:\n",
    "- Nada Hammouda\n",
    "- Aya Ibrahim -37-1574\n",
    "- Habiba ElHussein\n",
    "- Youssef Tarek - 37-3865"
   ]
  },
  {
   "cell_type": "markdown",
   "metadata": {},
   "source": [
    "<div style=\"background-color:rgba(0, 0, 0, 0.6); text-align:center; vertical-align: middle; padding:40px 0;color:rgb(255,255,255);\">\n",
    "    <h1>Visual History of Nobel Prize Winners</h1>\n",
    "</div>\n",
    "\n"
   ]
  },
  {
   "cell_type": "markdown",
   "metadata": {},
   "source": [
    "- Project Website: https://yousseftarekkh.github.io/de-noble-prizes/\n",
    "- Github: https://github.com/yousseftarekkh/de-noble-prizes/"
   ]
  },
  {
   "cell_type": "markdown",
   "metadata": {},
   "source": [
    "## Overview & Motivation\n",
    "\n",
    "This project aims to apply several steps of data refactoring and cleaning in order to visually analyze and introduce potential data fixes to the acquired data set. Such steps can help further identify relations, recognize hidden patterns in different countries, pay attention to trending categories and generally reach conclusions and answers about many proposed questions among the data records which in our case represents **<span style=\"color:brown\">Nobel Prize winners</span>**.\n",
    "\n",
    "The following research will be held in a **Q&A** driven structure; meaning we will propose potential questions and put effort into trying to derive answers and conclusions.\n",
    "\n",
    "Initially, we used the following data set found at https://www.datacamp.com/projects/441. Additional data sets may be used in order to succesfully form a tidy data with less missing values and for the sake of adding more valuable records to the existing data set. All used references will be included in the next section."
   ]
  },
  {
   "cell_type": "markdown",
   "metadata": {},
   "source": [
    "## Related Work\n",
    "\n",
    "We have been influenced by a lot of work after a research we conducted on this particular topic and we found the following sites interesting for a certain cause.\n",
    "- https://www.datacamp.com/projects/441 - The mentioned project tasks included some interesting questions we needed to find answers to, thus we decided to re-engineer the data to properly formulate answers.\n",
    "- https://www.kaggle.com/devisangeetha/nobel-prize-winners-story - Inspired on how well and organized that research was and the outcome that this research helped discovering.\n",
    "- https://www.nobelprize.org/prizes/facts/nobel-prize-facts/ - Website contains a large bulk of Nobel Prize winners facts including both interesting and shocking events in the history."
   ]
  },
  {
   "cell_type": "markdown",
   "metadata": {},
   "source": [
    "## Questions\n",
    "\n",
    "The main questions that motivated that project were:\n",
    "    1. \n",
    "    1. What are the categories that hold the most noble prizes ?\n",
    "    2. Who are the youngest and the oldest noble prize winners ?\n",
    "    3. Who is the first female to win a noble prize ?\n",
    "    4. Is there a relation between the nobel prize winners?\n",
    "    5. \n"
   ]
  },
  {
   "cell_type": "markdown",
   "metadata": {},
   "source": [
    "Modules we will be using are listed bellow."
   ]
  },
  {
   "cell_type": "code",
   "execution_count": 2,
   "metadata": {},
   "outputs": [],
   "source": [
    "import pandas as pd\n",
    "import numpy as np\n",
    "import matplotlib.pyplot as plt"
   ]
  },
  {
   "cell_type": "markdown",
   "metadata": {},
   "source": [
    "In order to get a better look at the data, we will preview a sample to visually analyze the attributes assigned to each record. "
   ]
  },
  {
   "cell_type": "code",
   "execution_count": 3,
   "metadata": {},
   "outputs": [
    {
     "data": {
      "text/html": [
       "<div>\n",
       "<style scoped>\n",
       "    .dataframe tbody tr th:only-of-type {\n",
       "        vertical-align: middle;\n",
       "    }\n",
       "\n",
       "    .dataframe tbody tr th {\n",
       "        vertical-align: top;\n",
       "    }\n",
       "\n",
       "    .dataframe thead th {\n",
       "        text-align: right;\n",
       "    }\n",
       "</style>\n",
       "<table border=\"1\" class=\"dataframe\">\n",
       "  <thead>\n",
       "    <tr style=\"text-align: right;\">\n",
       "      <th></th>\n",
       "      <th>Year</th>\n",
       "      <th>Category</th>\n",
       "      <th>Prize</th>\n",
       "      <th>Motivation</th>\n",
       "      <th>Prize Share</th>\n",
       "      <th>Laureate ID</th>\n",
       "      <th>Laureate Type</th>\n",
       "      <th>Full Name</th>\n",
       "      <th>Birth Date</th>\n",
       "      <th>Birth City</th>\n",
       "      <th>Birth Country</th>\n",
       "      <th>Sex</th>\n",
       "      <th>Organization Name</th>\n",
       "      <th>Organization City</th>\n",
       "      <th>Organization Country</th>\n",
       "      <th>Death Date</th>\n",
       "      <th>Death City</th>\n",
       "      <th>Death Country</th>\n",
       "    </tr>\n",
       "  </thead>\n",
       "  <tbody>\n",
       "    <tr>\n",
       "      <th>399</th>\n",
       "      <td>1967</td>\n",
       "      <td>Medicine</td>\n",
       "      <td>The Nobel Prize in Physiology or Medicine 1967</td>\n",
       "      <td>\"for their discoveries concerning the primary ...</td>\n",
       "      <td>1/3</td>\n",
       "      <td>387</td>\n",
       "      <td>Individual</td>\n",
       "      <td>George Wald</td>\n",
       "      <td>1906-11-18</td>\n",
       "      <td>New York, NY</td>\n",
       "      <td>United States of America</td>\n",
       "      <td>Male</td>\n",
       "      <td>Harvard University</td>\n",
       "      <td>Cambridge, MA</td>\n",
       "      <td>United States of America</td>\n",
       "      <td>1997-04-12</td>\n",
       "      <td>Cambridge, MA</td>\n",
       "      <td>United States of America</td>\n",
       "    </tr>\n",
       "    <tr>\n",
       "      <th>615</th>\n",
       "      <td>1989</td>\n",
       "      <td>Chemistry</td>\n",
       "      <td>The Nobel Prize in Chemistry 1989</td>\n",
       "      <td>\"for their discovery of catalytic properties o...</td>\n",
       "      <td>1/2</td>\n",
       "      <td>274</td>\n",
       "      <td>Individual</td>\n",
       "      <td>Thomas R. Cech</td>\n",
       "      <td>1947-12-08</td>\n",
       "      <td>Chicago, IL</td>\n",
       "      <td>United States of America</td>\n",
       "      <td>Male</td>\n",
       "      <td>University of Colorado</td>\n",
       "      <td>Boulder, CO</td>\n",
       "      <td>United States of America</td>\n",
       "      <td>NaN</td>\n",
       "      <td>NaN</td>\n",
       "      <td>NaN</td>\n",
       "    </tr>\n",
       "    <tr>\n",
       "      <th>495</th>\n",
       "      <td>1977</td>\n",
       "      <td>Medicine</td>\n",
       "      <td>The Nobel Prize in Physiology or Medicine 1977</td>\n",
       "      <td>\"for their discoveries concerning the peptide ...</td>\n",
       "      <td>1/4</td>\n",
       "      <td>411</td>\n",
       "      <td>Individual</td>\n",
       "      <td>Roger Guillemin</td>\n",
       "      <td>1924-01-11</td>\n",
       "      <td>Dijon</td>\n",
       "      <td>France</td>\n",
       "      <td>Male</td>\n",
       "      <td>The Salk Institute</td>\n",
       "      <td>San Diego, CA</td>\n",
       "      <td>United States of America</td>\n",
       "      <td>NaN</td>\n",
       "      <td>NaN</td>\n",
       "      <td>NaN</td>\n",
       "    </tr>\n",
       "  </tbody>\n",
       "</table>\n",
       "</div>"
      ],
      "text/plain": [
       "     Year   Category                                           Prize  \\\n",
       "399  1967   Medicine  The Nobel Prize in Physiology or Medicine 1967   \n",
       "615  1989  Chemistry               The Nobel Prize in Chemistry 1989   \n",
       "495  1977   Medicine  The Nobel Prize in Physiology or Medicine 1977   \n",
       "\n",
       "                                            Motivation Prize Share  \\\n",
       "399  \"for their discoveries concerning the primary ...         1/3   \n",
       "615  \"for their discovery of catalytic properties o...         1/2   \n",
       "495  \"for their discoveries concerning the peptide ...         1/4   \n",
       "\n",
       "     Laureate ID Laureate Type        Full Name  Birth Date    Birth City  \\\n",
       "399          387    Individual      George Wald  1906-11-18  New York, NY   \n",
       "615          274    Individual   Thomas R. Cech  1947-12-08   Chicago, IL   \n",
       "495          411    Individual  Roger Guillemin  1924-01-11         Dijon   \n",
       "\n",
       "                Birth Country   Sex       Organization Name Organization City  \\\n",
       "399  United States of America  Male      Harvard University     Cambridge, MA   \n",
       "615  United States of America  Male  University of Colorado       Boulder, CO   \n",
       "495                    France  Male      The Salk Institute     San Diego, CA   \n",
       "\n",
       "         Organization Country  Death Date     Death City  \\\n",
       "399  United States of America  1997-04-12  Cambridge, MA   \n",
       "615  United States of America         NaN            NaN   \n",
       "495  United States of America         NaN            NaN   \n",
       "\n",
       "                Death Country  \n",
       "399  United States of America  \n",
       "615                       NaN  \n",
       "495                       NaN  "
      ]
     },
     "execution_count": 3,
     "metadata": {},
     "output_type": "execute_result"
    }
   ],
   "source": [
    "nps_df = pd.read_csv(\"data/archive.csv\")\n",
    "nps_df.sample(3)"
   ]
  },
  {
   "cell_type": "markdown",
   "metadata": {},
   "source": [
    "After having a look at the columns, we need to examine some columns of concerns which could help us in picking the right methods to perform data cleaning."
   ]
  },
  {
   "cell_type": "code",
   "execution_count": 107,
   "metadata": {},
   "outputs": [],
   "source": [
    "def renameNan(n):\n",
    "    key, value = n\n",
    "    if key != key:\n",
    "        return (\"none\",value)\n",
    "    return (key, value)"
   ]
  },
  {
   "cell_type": "code",
   "execution_count": 109,
   "metadata": {},
   "outputs": [
    {
     "data": {
      "image/png": "[encoded data removed]",
      "text/plain": [
       "<Figure size 432x288 with 3 Axes>"
      ]
     },
     "metadata": {
      "needs_background": "light"
     },
     "output_type": "display_data"
    }
   ],
   "source": [
    "ind = np.arange(2)\n",
    "width = 0.35\n",
    "fig, axs = plt.subplots(1,3)\n",
    "items = nps_df['Laureate Type'].value_counts(dropna=False)\n",
    "laureates_types = list(items.items())\n",
    "items = nps_df['Sex'].value_counts(dropna=False)\n",
    "items_na = nps_df['Sex'].isnull().sum(axis = 0)\n",
    "gender = list(map(renameNan, items.items()))\n",
    "laureates_types_count = [[ i for i, j in laureates_types ], \n",
    "       [ j for i, j in laureates_types ]] \n",
    "gender_count = [[ i for i, j in gender ], \n",
    "       [ j for i, j in gender ]]\n",
    "axs[0].bar(ind, laureates_types_count[1], width,color=\"#af5d62\", tick_label = laureates_types_count[0])\n",
    "axs[0].set_title(\"Laureate Type\")\n",
    "axs[0].textcoords=\"offset points\"\n",
    "\n",
    "axs[1].axis('off')\n",
    "ind = np.arange(3)\n",
    "width = 0.35\n",
    "axs[2].bar(ind, gender_count[1], width, color=\"#1b9c84\", tick_label = gender_count[0])\n",
    "axs[2].set_title(\"Gender\")\n",
    "\n",
    "\n",
    "plt.show()"
   ]
  },
  {
   "cell_type": "markdown",
   "metadata": {},
   "source": [
    "From the above graphs, we see that the data is not entirely consistent since the records contain both `Individual` and `Organization` values for the <span style=\"color:#c7254e; padding: 2px 4px;background-color:#f9f2f4;borer-radius: 4px;\">Laureate Type</span> winning the nobel prizes. Moreover indicated by the <span style=\"color:#c7254e; padding: 2px 4px;background-color:#f9f2f4;borer-radius: 4px;\">Sex</span> column which denotes that the data contains attribute variations which are crucial for some of the questions.\n",
    "\n",
    "Next step for our data cleaning process is to strictly indicate that some of the missing values are not missing due to falsified data nor noise existence, simply irrelevant attribute for certain records. Thus we must inspect the occurence of the missing values in each column and re-engineer the entire column if the missing value exceeded a significant percentage from the data set."
   ]
  },
  {
   "cell_type": "code",
   "execution_count": 110,
   "metadata": {},
   "outputs": [
    {
     "data": {
      "text/plain": [
       "Motivation               88\n",
       "Birth Date               29\n",
       "Birth City               28\n",
       "Birth Country            26\n",
       "Sex                      26\n",
       "Organization Name       247\n",
       "Organization City       253\n",
       "Organization Country    253\n",
       "Death Date              352\n",
       "Death City              370\n",
       "Death Country           364\n",
       "dtype: int64"
      ]
     },
     "execution_count": 110,
     "metadata": {},
     "output_type": "execute_result"
    }
   ],
   "source": [
    "missing_values_count = nps_df.isnull().sum()\n",
    "missing_values_count[missing_values_count > 0]"
   ]
  },
  {
   "cell_type": "markdown",
   "metadata": {},
   "source": [
    "Apparently, multiple columns include missing values. Thus we will calculate the percentage of the missing values among the entire data set."
   ]
  },
  {
   "cell_type": "code",
   "execution_count": 115,
   "metadata": {},
   "outputs": [
    {
     "name": "stdout",
     "output_type": "stream",
     "text": [
      "12.0%\n"
     ]
    }
   ],
   "source": [
    "total_cells_nfl = np.product(nps_df.shape) \n",
    "total_missing_nfl = missing_values_count.sum()\n",
    "\n",
    "percentage_missign_values_nfl = (total_missing_nfl/total_cells_nfl) * 100\n",
    "print(str(percentage_missign_values_nfl.round())+'%')"
   ]
  },
  {
   "cell_type": "code",
   "execution_count": null,
   "metadata": {},
   "outputs": [],
   "source": [
    "nps_df[nps_df['Sex'].isnull()].sample(3)"
   ]
  },
  {
   "cell_type": "markdown",
   "metadata": {},
   "source": [
    "Laureate Types can have more than one value."
   ]
  },
  {
   "cell_type": "code",
   "execution_count": null,
   "metadata": {},
   "outputs": [],
   "source": []
  },
  {
   "cell_type": "markdown",
   "metadata": {},
   "source": [
    "Changing the null values of the <span style=\"color:#c7254e; padding: 2px 4px;background-color:#f9f2f4;borer-radius: 4px;\">Birth Date</span> column to `none` as it does not exist\n",
    "\n",
    "Changing the null values of the <span style=\"color:#c7254e; padding: 2px 4px;background-color:#f9f2f4;borer-radius: 4px;\">Birth City</span> column to `none` as it does not exist\n",
    "\n",
    "Changing the null values of the <span style=\"color:#c7254e; padding: 2px 4px;background-color:#f9f2f4;borer-radius: 4px;\">Birth Country</span> column to `none` as it does not exist"
   ]
  },
  {
   "cell_type": "code",
   "execution_count": null,
   "metadata": {},
   "outputs": [],
   "source": [
    "cleaned_nps_df = nps_df.copy()\n",
    "\n",
    "cleaned_nps_df.loc[cleaned_nps_df['Sex'].isnull() & (cleaned_nps_df['Laureate Type'] == 'Organization'), 'Sex'] = 'Organization'\n",
    "print(cleaned_nps_df[cleaned_nps_df['Sex']== 'Organization']['Full Name'])\n",
    "\n",
    "cleaned_nps_df.loc[cleaned_nps_df['Birth Date'].isnull() & (cleaned_nps_df['Laureate Type'] == 'Organization') & \n",
    "         (cleaned_nps_df['Sex'] == 'Organization'), 'Birth Date'] = 'none'\n",
    "\n",
    "\n",
    "cleaned_nps_df.loc[cleaned_nps_df['Birth City'].isnull() & (cleaned_nps_df['Laureate Type'] == 'Organization') & \n",
    "         (cleaned_nps_df['Sex'] == 'Organization'), 'Birth City'] = 'none'\n",
    "\n",
    "\n",
    "\n",
    "cleaned_nps_df.loc[cleaned_nps_df['Birth Country'].isnull() & (cleaned_nps_df['Laureate Type'] == 'Organization') & \n",
    "         (cleaned_nps_df['Sex'] == 'Organization'), 'Birth Country'] = 'none'\n",
    "\n",
    "missing_values_count = cleaned_nps_df.isnull().sum()\n",
    "missing_values_count[missing_values_count > 0]"
   ]
  },
  {
   "cell_type": "code",
   "execution_count": null,
   "metadata": {},
   "outputs": [],
   "source": [
    "\n",
    "cleaned_nps_df.loc[cleaned_nps_df['Organization Country'].isnull(), 'Organization City'].unique()"
   ]
  },
  {
   "cell_type": "code",
   "execution_count": null,
   "metadata": {},
   "outputs": [],
   "source": [
    "cleaned_nps_df.loc[cleaned_nps_df['Organization City'] == 'Tunis', 'Organization Country'] = 'Tunis'\n",
    "\n",
    "missing_values_count = cleaned_nps_df.isnull().sum()\n",
    "missing_values_count[missing_values_count > 0]"
   ]
  },
  {
   "cell_type": "markdown",
   "metadata": {},
   "source": [
    "Imputing the <span style=\"color:#c7254e; padding: 2px 4px;background-color:#f9f2f4;borer-radius: 4px;\">Organization Name</span> from <span style=\"color:#c7254e; padding: 2px 4px;background-color:#f9f2f4;borer-radius: 4px;\">Full Name</span> based on the fact that the name of organization is the <span style=\"color:#c7254e; padding: 2px 4px;background-color:#f9f2f4;borer-radius: 4px;\">Full Name</span> when the laureate type is <span style=\"color:#c7254e; padding: 2px 4px;background-color:#f9f2f4;borer-radius: 4px;\">Organization</span>"
   ]
  },
  {
   "cell_type": "code",
   "execution_count": null,
   "metadata": {},
   "outputs": [],
   "source": [
    "cleaned_nps_df.loc[cleaned_nps_df['Organization Name'].isnull() & (cleaned_nps_df['Laureate Type'] == 'Organization') &\n",
    "         (cleaned_nps_df['Sex'] == 'Organization'), 'Organization Name'] = cleaned_nps_df['Full Name']\n",
    "\n",
    "missing_values_count = cleaned_nps_df.isnull().sum()\n",
    "missing_values_count[missing_values_count > 0]"
   ]
  },
  {
   "cell_type": "markdown",
   "metadata": {},
   "source": [
    "### Question 1: What are the categories that hold the most noble prizes ?\n",
    "As seen below to answer this question, the data is grouped by the types of categories offered for noble prizes and then the grouped data is sorted in a descending order, so we can see that the field of medicine holds the most noble prizes followed by the field of physics."
   ]
  },
  {
   "cell_type": "code",
   "execution_count": null,
   "metadata": {},
   "outputs": [],
   "source": [
    "print(cleaned_nps_df.groupby(['Category']).size().sort_values(ascending=False))\n",
    "cleaned_nps_df.groupby(['Category']).size().plot(kind='bar')\n",
    "plt.show()"
   ]
  },
  {
   "cell_type": "markdown",
   "metadata": {},
   "source": [
    "### Question 2: Who are the youngest and the oldest noble prize winners ?\n",
    "First of all a new column holding the age is added to the data which represents the age of the noble prize winner at the time of winning the prize, it was calculated by subtracting the birth date of the winner from the year of the prize. To get the youngest and the oldest winner the minimum and the maximum values of the age column were obtained"
   ]
  },
  {
   "cell_type": "code",
   "execution_count": null,
   "metadata": {},
   "outputs": [],
   "source": [
    "cleaned_nps_df['Birth Date'] = pd.to_datetime(cleaned_nps_df[\"Birth Date\"],errors='coerce')\n",
    "cleaned_nps_df['Age'] = cleaned_nps_df['Year'] - cleaned_nps_df['Birth Date'].dt.year\n",
    "Youngest= cleaned_nps_df[cleaned_nps_df['Age'] == min(cleaned_nps_df['Age'])]\n",
    "Youngest[['Year','Category','Full Name','Age']]"
   ]
  },
  {
   "cell_type": "code",
   "execution_count": null,
   "metadata": {},
   "outputs": [],
   "source": [
    "oldest = cleaned_nps_df[cleaned_nps_df['Age'] == max(cleaned_nps_df['Age'])]\n",
    "oldest[['Year','Category','Full Name','Age']]"
   ]
  },
  {
   "cell_type": "markdown",
   "metadata": {},
   "source": [
    "### Question 3: Who is the first female to win a noble prize ?\n",
    "In order to identify the first female noble prize winner, we filtered the data according to the column 'Sex' to be female so we can get all the data of the female prize winners, then we chose the first one in the data to get the first ever female winner.\n"
   ]
  },
  {
   "cell_type": "code",
   "execution_count": null,
   "metadata": {},
   "outputs": [],
   "source": [
    "female_noble_winners = cleaned_nps_df[cleaned_nps_df['Sex'] == 'Female']\n",
    "female_noble_winners.head(1)[['Year','Category','Full Name','Age']]"
   ]
  },
  {
   "cell_type": "code",
   "execution_count": null,
   "metadata": {},
   "outputs": [],
   "source": []
  }
 ],
 "metadata": {
  "celltoolbar": "Raw Cell Format",
  "kernelspec": {
   "display_name": "Python 3",
   "language": "python",
   "name": "python3"
  },
  "language_info": {
   "codemirror_mode": {
    "name": "ipython",
    "version": 3
   },
   "file_extension": ".py",
   "mimetype": "text/x-python",
   "name": "python",
   "nbconvert_exporter": "python",
   "pygments_lexer": "ipython3",
   "version": "3.7.3"
  }
 },
 "nbformat": 4,
 "nbformat_minor": 2
}
