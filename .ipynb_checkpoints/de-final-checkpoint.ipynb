{
 "cells": [
  {
   "cell_type": "markdown",
   "metadata": {},
   "source": [
    "## CSEN 1095 - Data Engineering\n",
    "#### German University in Cairo\n",
    "\n",
    "Collaborators:\n",
    "- Nada Hammouda\n",
    "- Aya Ibrahim | 37-1574\n",
    "- Habiba ElHussein\n",
    "- Youssef Tarek | 37-3865"
   ]
  },
  {
   "cell_type": "markdown",
   "metadata": {},
   "source": [
    "<div style=\"background-color:#159955;text-align:center; vertical-align: middle; padding:40px 0;color:rgb(255,255,255);\">\n",
    "    <h1>Visual History of Nobel Prize Winners</h1>\n",
    "</div>\n",
    "\n"
   ]
  },
  {
   "cell_type": "markdown",
   "metadata": {},
   "source": [
    "- Project Website: https://yousseftarekkh.github.io/de-noble-prizes/\n",
    "- Github: https://github.com/yousseftarekkh/de-noble-prizes/"
   ]
  },
  {
   "cell_type": "markdown",
   "metadata": {},
   "source": [
    "## Overview & Motivation\n",
    "\n",
    "This project aims to apply several steps of data refactoring and cleaning in order to visually analyze and introduce potential data fixes to the acquired data set. Such steps can help further identify relations, recognize hidden patterns in different countries, pay attention to trending categories and generally reach conclusions and answers about many proposed questions among the data records which in our case represents **<span style=\"color:brown\">Nobel Prize winners</span>**.\n",
    "\n",
    "The following research will be held in a **Q&A** driven structure; meaning we will propose potential questions and put effort into trying to derive answers and conclusions.\n",
    "\n",
    "Initially, we used the following data set found at https://www.datacamp.com/projects/441. Additional data sets may be used in order to succesfully form a tidy data with less missing values and for the sake of adding more valuable records to the existing data set. All used references will be included in the next section."
   ]
  },
  {
   "cell_type": "markdown",
   "metadata": {},
   "source": [
    "## Related Work\n",
    "\n",
    "We have been influenced by a lot of work after a research we conducted on this particular topic and we found the following sites interesting for a certain cause.\n",
    "- https://www.datacamp.com/projects/441 - The mentioned project tasks included some interesting questions we needed to find answers to, thus we decided to re-engineer the data to properly formulate answers.\n",
    "- https://www.kaggle.com/devisangeetha/nobel-prize-winners-story - Inspired on how well and organized that research was and the outcome that this research helped discovering.\n",
    "- https://www.nobelprize.org/prizes/facts/nobel-prize-facts/ - Website contains a large bulk of Nobel Prize winners facts including both interesting and shocking events in the history."
   ]
  },
  {
   "cell_type": "markdown",
   "metadata": {},
   "source": [
    "## Questions\n",
    "\n",
    "The main questions that motivated that project were:\n",
    "    1. \n",
    "    1. What are the categories that hold the most noble prizes ?\n",
    "    2. Who are the youngest and the oldest noble prize winners ?\n",
    "    3. Who is the first female to win a noble prize ?\n",
    "    4. Is there a relation between the nobel prize winners?\n",
    "    5. \n"
   ]
  },
  {
   "cell_type": "markdown",
   "metadata": {},
   "source": [
    "Modules we will be using are listed bellow."
   ]
  },
  {
   "cell_type": "code",
   "execution_count": 1,
   "metadata": {},
   "outputs": [],
   "source": [
    "import pandas as pd\n",
    "import numpy as np\n",
    "import matplotlib.pyplot as plt\n",
    "import seaborn as sns"
   ]
  },
  {
   "cell_type": "markdown",
   "metadata": {},
   "source": [
    "In order to get a better look at the data, we will preview a sample to visually analyze the attributes assigned to each record. "
   ]
  },
  {
   "cell_type": "code",
   "execution_count": 2,
   "metadata": {},
   "outputs": [
    {
     "data": {
      "text/html": [
       "<div>\n",
       "<style scoped>\n",
       "    .dataframe tbody tr th:only-of-type {\n",
       "        vertical-align: middle;\n",
       "    }\n",
       "\n",
       "    .dataframe tbody tr th {\n",
       "        vertical-align: top;\n",
       "    }\n",
       "\n",
       "    .dataframe thead th {\n",
       "        text-align: right;\n",
       "    }\n",
       "</style>\n",
       "<table border=\"1\" class=\"dataframe\">\n",
       "  <thead>\n",
       "    <tr style=\"text-align: right;\">\n",
       "      <th></th>\n",
       "      <th>Year</th>\n",
       "      <th>Category</th>\n",
       "      <th>Prize</th>\n",
       "      <th>Motivation</th>\n",
       "      <th>Prize Share</th>\n",
       "      <th>Laureate ID</th>\n",
       "      <th>Laureate Type</th>\n",
       "      <th>Full Name</th>\n",
       "      <th>Birth Date</th>\n",
       "      <th>Birth City</th>\n",
       "      <th>Birth Country</th>\n",
       "      <th>Sex</th>\n",
       "      <th>Organization Name</th>\n",
       "      <th>Organization City</th>\n",
       "      <th>Organization Country</th>\n",
       "      <th>Death Date</th>\n",
       "      <th>Death City</th>\n",
       "      <th>Death Country</th>\n",
       "    </tr>\n",
       "  </thead>\n",
       "  <tbody>\n",
       "    <tr>\n",
       "      <th>723</th>\n",
       "      <td>1999</td>\n",
       "      <td>Chemistry</td>\n",
       "      <td>The Nobel Prize in Chemistry 1999</td>\n",
       "      <td>\"for his studies of the transition states of c...</td>\n",
       "      <td>1/1</td>\n",
       "      <td>292</td>\n",
       "      <td>Individual</td>\n",
       "      <td>Ahmed H. Zewail</td>\n",
       "      <td>1946-02-26</td>\n",
       "      <td>Damanhur</td>\n",
       "      <td>Egypt</td>\n",
       "      <td>Male</td>\n",
       "      <td>California Institute of Technology (Caltech)</td>\n",
       "      <td>Pasadena, CA</td>\n",
       "      <td>United States of America</td>\n",
       "      <td>2016-08-02</td>\n",
       "      <td>NaN</td>\n",
       "      <td>NaN</td>\n",
       "    </tr>\n",
       "    <tr>\n",
       "      <th>779</th>\n",
       "      <td>2003</td>\n",
       "      <td>Medicine</td>\n",
       "      <td>The Nobel Prize in Physiology or Medicine 2003</td>\n",
       "      <td>\"for their discoveries concerning magnetic res...</td>\n",
       "      <td>1/2</td>\n",
       "      <td>764</td>\n",
       "      <td>Individual</td>\n",
       "      <td>Paul C. Lauterbur</td>\n",
       "      <td>1929-05-06</td>\n",
       "      <td>Sidney, OH</td>\n",
       "      <td>United States of America</td>\n",
       "      <td>Male</td>\n",
       "      <td>University of Illinois</td>\n",
       "      <td>Urbana, IL</td>\n",
       "      <td>United States of America</td>\n",
       "      <td>2007-03-27</td>\n",
       "      <td>Urbana, IL</td>\n",
       "      <td>United States of America</td>\n",
       "    </tr>\n",
       "    <tr>\n",
       "      <th>269</th>\n",
       "      <td>1951</td>\n",
       "      <td>Literature</td>\n",
       "      <td>The Nobel Prize in Literature 1951</td>\n",
       "      <td>\"for the artistic vigour and true independence...</td>\n",
       "      <td>1/1</td>\n",
       "      <td>622</td>\n",
       "      <td>Individual</td>\n",
       "      <td>Pär Fabian Lagerkvist</td>\n",
       "      <td>1891-05-23</td>\n",
       "      <td>Växjö</td>\n",
       "      <td>Sweden</td>\n",
       "      <td>Male</td>\n",
       "      <td>NaN</td>\n",
       "      <td>NaN</td>\n",
       "      <td>NaN</td>\n",
       "      <td>1974-07-11</td>\n",
       "      <td>Stockholm</td>\n",
       "      <td>Sweden</td>\n",
       "    </tr>\n",
       "  </tbody>\n",
       "</table>\n",
       "</div>"
      ],
      "text/plain": [
       "     Year    Category                                           Prize  \\\n",
       "723  1999   Chemistry               The Nobel Prize in Chemistry 1999   \n",
       "779  2003    Medicine  The Nobel Prize in Physiology or Medicine 2003   \n",
       "269  1951  Literature              The Nobel Prize in Literature 1951   \n",
       "\n",
       "                                            Motivation Prize Share  \\\n",
       "723  \"for his studies of the transition states of c...         1/1   \n",
       "779  \"for their discoveries concerning magnetic res...         1/2   \n",
       "269  \"for the artistic vigour and true independence...         1/1   \n",
       "\n",
       "     Laureate ID Laureate Type              Full Name  Birth Date  Birth City  \\\n",
       "723          292    Individual        Ahmed H. Zewail  1946-02-26    Damanhur   \n",
       "779          764    Individual      Paul C. Lauterbur  1929-05-06  Sidney, OH   \n",
       "269          622    Individual  Pär Fabian Lagerkvist  1891-05-23       Växjö   \n",
       "\n",
       "                Birth Country   Sex  \\\n",
       "723                     Egypt  Male   \n",
       "779  United States of America  Male   \n",
       "269                    Sweden  Male   \n",
       "\n",
       "                                Organization Name Organization City  \\\n",
       "723  California Institute of Technology (Caltech)      Pasadena, CA   \n",
       "779                        University of Illinois        Urbana, IL   \n",
       "269                                           NaN               NaN   \n",
       "\n",
       "         Organization Country  Death Date  Death City  \\\n",
       "723  United States of America  2016-08-02         NaN   \n",
       "779  United States of America  2007-03-27  Urbana, IL   \n",
       "269                       NaN  1974-07-11   Stockholm   \n",
       "\n",
       "                Death Country  \n",
       "723                       NaN  \n",
       "779  United States of America  \n",
       "269                    Sweden  "
      ]
     },
     "execution_count": 2,
     "metadata": {},
     "output_type": "execute_result"
    }
   ],
   "source": [
    "nps_df = pd.read_csv(\"data/archive.csv\")\n",
    "nps_df.sample(3)"
   ]
  },
  {
   "cell_type": "markdown",
   "metadata": {},
   "source": [
    "After having a look at the columns, we need to examine some columns of concerns which could help us in picking the right methods to perform data cleaning."
   ]
  },
  {
   "cell_type": "code",
   "execution_count": 3,
   "metadata": {},
   "outputs": [],
   "source": [
    "def renameNan(n):\n",
    "    key, value = n\n",
    "    if key != key:\n",
    "        return (\"none\",value)\n",
    "    return (key, value)"
   ]
  },
  {
   "cell_type": "code",
   "execution_count": 4,
   "metadata": {},
   "outputs": [],
   "source": [
    "items = nps_df['Laureate Type'].value_counts(dropna=False)\n",
    "laureates_types = list(items.items())\n",
    "items = nps_df['Sex'].value_counts(dropna=False)\n",
    "items_na = nps_df['Sex'].isnull().sum(axis = 0)\n",
    "gender = list(map(renameNan, items.items()))\n",
    "laureates_types_count = [[ i for i, j in laureates_types ], \n",
    "       [ j for i, j in laureates_types ]] \n",
    "gender_count = [[ i for i, j in gender ], \n",
    "       [ j for i, j in gender ]]"
   ]
  },
  {
   "cell_type": "code",
   "execution_count": 5,
   "metadata": {},
   "outputs": [
    {
     "data": {
      "image/png": "[encoded data removed]",
      "text/plain": [
       "<Figure size 432x288 with 3 Axes>"
      ]
     },
     "metadata": {
      "needs_background": "light"
     },
     "output_type": "display_data"
    }
   ],
   "source": [
    "ind = np.arange(2)\n",
    "width = 0.35\n",
    "fig, axs = plt.subplots(1,3)\n",
    "items = nps_df['Laureate Type'].value_counts(dropna=False)\n",
    "laureates_types = list(items.items())\n",
    "items = nps_df['Sex'].value_counts(dropna=False)\n",
    "items_na = nps_df['Sex'].isnull().sum(axis = 0)\n",
    "gender = list(map(renameNan, items.items()))\n",
    "laureates_types_count = [[ i for i, j in laureates_types ], \n",
    "       [ j for i, j in laureates_types ]] \n",
    "gender_count = [[ i for i, j in gender ], \n",
    "       [ j for i, j in gender ]]\n",
    "axs[0].bar(ind, laureates_types_count[1], width,color=\"#af5d62\", tick_label = laureates_types_count[0])\n",
    "axs[0].set_title(\"Laureate Type\")\n",
    "axs[0].textcoords=\"offset points\"\n",
    "\n",
    "axs[1].axis('off')\n",
    "ind = np.arange(3)\n",
    "width = 0.35\n",
    "axs[2].bar(ind, gender_count[1], width, color=\"#1b9c84\", tick_label = gender_count[0])\n",
    "axs[2].set_title(\"Gender\")\n",
    "\n",
    "plt.show()"
   ]
  },
  {
   "cell_type": "markdown",
   "metadata": {},
   "source": [
    "From the above graphs, we see that the data is not entirely consistent since the records contain both `Individual` and `Organization` values for the <span style=\"color:#c7254e; padding: 2px 4px;background-color:#f9f2f4;borer-radius: 4px;\">Laureate Type</span> winning the nobel prizes. Moreover indicated by the <span style=\"color:#c7254e; padding: 2px 4px;background-color:#f9f2f4;borer-radius: 4px;\">Sex</span> column which denotes that the data contains attribute variations which are crucial for some of the questions.\n",
    "\n",
    "Next step for our data cleaning process is to strictly indicate that some of the missing values are not missing due to falsified data nor noise existence, simply irrelevant attribute for certain records. Thus we must inspect the occurence of the missing values in each column and re-engineer the entire column if the missing value exceeded a significant percentage from the data set."
   ]
  },
  {
   "cell_type": "code",
   "execution_count": 6,
   "metadata": {},
   "outputs": [
    {
     "data": {
      "text/plain": [
       "Motivation               88\n",
       "Birth Date               29\n",
       "Birth City               28\n",
       "Birth Country            26\n",
       "Sex                      26\n",
       "Organization Name       247\n",
       "Organization City       253\n",
       "Organization Country    253\n",
       "Death Date              352\n",
       "Death City              370\n",
       "Death Country           364\n",
       "dtype: int64"
      ]
     },
     "execution_count": 6,
     "metadata": {},
     "output_type": "execute_result"
    }
   ],
   "source": [
    "missing_values_count = nps_df.isnull().sum()\n",
    "missing_values_count[missing_values_count > 0]"
   ]
  },
  {
   "cell_type": "markdown",
   "metadata": {},
   "source": [
    "Apparently, multiple columns include missing values. Thus we will calculate the percentage of the missing values among the entire data set."
   ]
  },
  {
   "cell_type": "code",
   "execution_count": 7,
   "metadata": {},
   "outputs": [
    {
     "name": "stdout",
     "output_type": "stream",
     "text": [
      "12.0%\n"
     ]
    }
   ],
   "source": [
    "total_cells_nfl = np.product(nps_df.shape) \n",
    "total_missing_nfl = missing_values_count.sum()\n",
    "\n",
    "percentage_missign_values_nfl = (total_missing_nfl/total_cells_nfl) * 100\n",
    "print(str(percentage_missign_values_nfl.round())+'%')"
   ]
  },
  {
   "cell_type": "code",
   "execution_count": 8,
   "metadata": {},
   "outputs": [
    {
     "data": {
      "text/html": [
       "<div>\n",
       "<style scoped>\n",
       "    .dataframe tbody tr th:only-of-type {\n",
       "        vertical-align: middle;\n",
       "    }\n",
       "\n",
       "    .dataframe tbody tr th {\n",
       "        vertical-align: top;\n",
       "    }\n",
       "\n",
       "    .dataframe thead th {\n",
       "        text-align: right;\n",
       "    }\n",
       "</style>\n",
       "<table border=\"1\" class=\"dataframe\">\n",
       "  <thead>\n",
       "    <tr style=\"text-align: right;\">\n",
       "      <th></th>\n",
       "      <th>Year</th>\n",
       "      <th>Category</th>\n",
       "      <th>Prize</th>\n",
       "      <th>Motivation</th>\n",
       "      <th>Prize Share</th>\n",
       "      <th>Laureate ID</th>\n",
       "      <th>Laureate Type</th>\n",
       "      <th>Full Name</th>\n",
       "      <th>Birth Date</th>\n",
       "      <th>Birth City</th>\n",
       "      <th>Birth Country</th>\n",
       "      <th>Sex</th>\n",
       "      <th>Organization Name</th>\n",
       "      <th>Organization City</th>\n",
       "      <th>Organization Country</th>\n",
       "      <th>Death Date</th>\n",
       "      <th>Death City</th>\n",
       "      <th>Death Country</th>\n",
       "    </tr>\n",
       "  </thead>\n",
       "  <tbody>\n",
       "    <tr>\n",
       "      <th>705</th>\n",
       "      <td>1997</td>\n",
       "      <td>Peace</td>\n",
       "      <td>The Nobel Peace Prize 1997</td>\n",
       "      <td>\"for their work for the banning and clearing o...</td>\n",
       "      <td>1/2</td>\n",
       "      <td>564</td>\n",
       "      <td>Organization</td>\n",
       "      <td>International Campaign to Ban Landmines (ICBL)</td>\n",
       "      <td>NaN</td>\n",
       "      <td>NaN</td>\n",
       "      <td>NaN</td>\n",
       "      <td>NaN</td>\n",
       "      <td>NaN</td>\n",
       "      <td>NaN</td>\n",
       "      <td>NaN</td>\n",
       "      <td>NaN</td>\n",
       "      <td>NaN</td>\n",
       "      <td>NaN</td>\n",
       "    </tr>\n",
       "    <tr>\n",
       "      <th>383</th>\n",
       "      <td>1965</td>\n",
       "      <td>Peace</td>\n",
       "      <td>The Nobel Peace Prize 1965</td>\n",
       "      <td>NaN</td>\n",
       "      <td>1/1</td>\n",
       "      <td>525</td>\n",
       "      <td>Organization</td>\n",
       "      <td>United Nations Children's Fund (UNICEF)</td>\n",
       "      <td>NaN</td>\n",
       "      <td>NaN</td>\n",
       "      <td>NaN</td>\n",
       "      <td>NaN</td>\n",
       "      <td>NaN</td>\n",
       "      <td>NaN</td>\n",
       "      <td>NaN</td>\n",
       "      <td>NaN</td>\n",
       "      <td>NaN</td>\n",
       "      <td>NaN</td>\n",
       "    </tr>\n",
       "    <tr>\n",
       "      <th>244</th>\n",
       "      <td>1947</td>\n",
       "      <td>Peace</td>\n",
       "      <td>The Nobel Peace Prize 1947</td>\n",
       "      <td>NaN</td>\n",
       "      <td>1/2</td>\n",
       "      <td>508</td>\n",
       "      <td>Organization</td>\n",
       "      <td>Friends Service Council (The Quakers)</td>\n",
       "      <td>NaN</td>\n",
       "      <td>NaN</td>\n",
       "      <td>NaN</td>\n",
       "      <td>NaN</td>\n",
       "      <td>NaN</td>\n",
       "      <td>NaN</td>\n",
       "      <td>NaN</td>\n",
       "      <td>NaN</td>\n",
       "      <td>NaN</td>\n",
       "      <td>NaN</td>\n",
       "    </tr>\n",
       "  </tbody>\n",
       "</table>\n",
       "</div>"
      ],
      "text/plain": [
       "     Year Category                       Prize  \\\n",
       "705  1997    Peace  The Nobel Peace Prize 1997   \n",
       "383  1965    Peace  The Nobel Peace Prize 1965   \n",
       "244  1947    Peace  The Nobel Peace Prize 1947   \n",
       "\n",
       "                                            Motivation Prize Share  \\\n",
       "705  \"for their work for the banning and clearing o...         1/2   \n",
       "383                                                NaN         1/1   \n",
       "244                                                NaN         1/2   \n",
       "\n",
       "     Laureate ID Laureate Type  \\\n",
       "705          564  Organization   \n",
       "383          525  Organization   \n",
       "244          508  Organization   \n",
       "\n",
       "                                          Full Name Birth Date Birth City  \\\n",
       "705  International Campaign to Ban Landmines (ICBL)        NaN        NaN   \n",
       "383         United Nations Children's Fund (UNICEF)        NaN        NaN   \n",
       "244           Friends Service Council (The Quakers)        NaN        NaN   \n",
       "\n",
       "    Birth Country  Sex Organization Name Organization City  \\\n",
       "705           NaN  NaN               NaN               NaN   \n",
       "383           NaN  NaN               NaN               NaN   \n",
       "244           NaN  NaN               NaN               NaN   \n",
       "\n",
       "    Organization Country Death Date Death City Death Country  \n",
       "705                  NaN        NaN        NaN           NaN  \n",
       "383                  NaN        NaN        NaN           NaN  \n",
       "244                  NaN        NaN        NaN           NaN  "
      ]
     },
     "execution_count": 8,
     "metadata": {},
     "output_type": "execute_result"
    }
   ],
   "source": [
    "nps_df[nps_df['Sex'].isnull()].sample(3)"
   ]
  },
  {
   "cell_type": "markdown",
   "metadata": {},
   "source": [
    "Laureate Types can have more than one value."
   ]
  },
  {
   "cell_type": "code",
   "execution_count": null,
   "metadata": {},
   "outputs": [],
   "source": []
  },
  {
   "cell_type": "markdown",
   "metadata": {},
   "source": [
    "Changing the null values of the <span style=\"color:#c7254e; padding: 2px 4px;background-color:#f9f2f4;borer-radius: 4px;\">Birth Date</span> column to `none` as it does not exist\n",
    "\n",
    "Changing the null values of the <span style=\"color:#c7254e; padding: 2px 4px;background-color:#f9f2f4;borer-radius: 4px;\">Birth City</span> column to `none` as it does not exist\n",
    "\n",
    "Changing the null values of the <span style=\"color:#c7254e; padding: 2px 4px;background-color:#f9f2f4;borer-radius: 4px;\">Birth Country</span> column to `none` as it does not exist"
   ]
  },
  {
   "cell_type": "code",
   "execution_count": 9,
   "metadata": {},
   "outputs": [
    {
     "name": "stdout",
     "output_type": "stream",
     "text": [
      "24     Institut de droit international (Institute of ...\n",
      "61     Bureau international permanent de la Paix (Per...\n",
      "90     Comité international de la Croix Rouge (Intern...\n",
      "206    Office international Nansen pour les Réfugiés ...\n",
      "222    Comité international de la Croix Rouge (Intern...\n",
      "244                Friends Service Council (The Quakers)\n",
      "245     American Friends Service Committee (The Quakers)\n",
      "295    Office of the United Nations High Commissioner...\n",
      "365    Comité international de la Croix Rouge (Intern...\n",
      "366    Ligue des Sociétés de la Croix-Rouge (League o...\n",
      "383              United Nations Children's Fund (UNICEF)\n",
      "416           International Labour Organization (I.L.O.)\n",
      "498                                Amnesty International\n",
      "543    Office of the United Nations High Commissioner...\n",
      "578    International Physicians for the Prevention of...\n",
      "610                   United Nations Peacekeeping Forces\n",
      "682     Pugwash Conferences on Science and World Affairs\n",
      "705       International Campaign to Ban Landmines (ICBL)\n",
      "728                             Médecins Sans Frontières\n",
      "754                                United Nations (U.N.)\n",
      "808            International Atomic Energy Agency (IAEA)\n",
      "821                                         Grameen Bank\n",
      "833     Intergovernmental Panel on Climate Change (IPCC)\n",
      "909                                  European Union (EU)\n",
      "927    Organisation for the Prohibition of Chemical W...\n",
      "955                            National Dialogue Quartet\n",
      "Name: Full Name, dtype: object\n"
     ]
    },
    {
     "data": {
      "text/plain": [
       "Motivation               88\n",
       "Birth Date                3\n",
       "Birth City                2\n",
       "Organization Name       247\n",
       "Organization City       253\n",
       "Organization Country    253\n",
       "Death Date              352\n",
       "Death City              370\n",
       "Death Country           364\n",
       "dtype: int64"
      ]
     },
     "execution_count": 9,
     "metadata": {},
     "output_type": "execute_result"
    }
   ],
   "source": [
    "cleaned_nps_df = nps_df.copy()\n",
    "\n",
    "cleaned_nps_df.loc[cleaned_nps_df['Sex'].isnull() & (cleaned_nps_df['Laureate Type'] == 'Organization'), 'Sex'] = 'Organization'\n",
    "print(cleaned_nps_df[cleaned_nps_df['Sex']== 'Organization']['Full Name'])\n",
    "\n",
    "cleaned_nps_df.loc[cleaned_nps_df['Birth Date'].isnull() & (cleaned_nps_df['Laureate Type'] == 'Organization') & \n",
    "         (cleaned_nps_df['Sex'] == 'Organization'), 'Birth Date'] = 'none'\n",
    "\n",
    "\n",
    "cleaned_nps_df.loc[cleaned_nps_df['Birth City'].isnull() & (cleaned_nps_df['Laureate Type'] == 'Organization') & \n",
    "         (cleaned_nps_df['Sex'] == 'Organization'), 'Birth City'] = 'none'\n",
    "\n",
    "\n",
    "\n",
    "cleaned_nps_df.loc[cleaned_nps_df['Birth Country'].isnull() & (cleaned_nps_df['Laureate Type'] == 'Organization') & \n",
    "         (cleaned_nps_df['Sex'] == 'Organization'), 'Birth Country'] = 'none'\n",
    "\n",
    "missing_values_count = cleaned_nps_df.isnull().sum()\n",
    "missing_values_count[missing_values_count > 0]"
   ]
  },
  {
   "cell_type": "code",
   "execution_count": 10,
   "metadata": {},
   "outputs": [
    {
     "data": {
      "text/plain": [
       "array([nan, 'Tunis'], dtype=object)"
      ]
     },
     "execution_count": 10,
     "metadata": {},
     "output_type": "execute_result"
    }
   ],
   "source": [
    "cleaned_nps_df.loc[cleaned_nps_df['Organization Country'].isnull(), 'Organization City'].unique()"
   ]
  },
  {
   "cell_type": "code",
   "execution_count": 11,
   "metadata": {},
   "outputs": [
    {
     "data": {
      "text/plain": [
       "Motivation               88\n",
       "Birth Date                3\n",
       "Birth City                2\n",
       "Organization Name       247\n",
       "Organization City       253\n",
       "Organization Country    252\n",
       "Death Date              352\n",
       "Death City              370\n",
       "Death Country           364\n",
       "dtype: int64"
      ]
     },
     "execution_count": 11,
     "metadata": {},
     "output_type": "execute_result"
    }
   ],
   "source": [
    "cleaned_nps_df.loc[cleaned_nps_df['Organization City'] == 'Tunis', 'Organization Country'] = 'Tunis'\n",
    "\n",
    "missing_values_count = cleaned_nps_df.isnull().sum()\n",
    "missing_values_count[missing_values_count > 0]"
   ]
  },
  {
   "cell_type": "markdown",
   "metadata": {},
   "source": [
    "Imputing the <span style=\"color:#c7254e; padding: 2px 4px;background-color:#f9f2f4;borer-radius: 4px;\">Organization Name</span> from <span style=\"color:#c7254e; padding: 2px 4px;background-color:#f9f2f4;borer-radius: 4px;\">Full Name</span> based on the fact that the name of organization is the <span style=\"color:#c7254e; padding: 2px 4px;background-color:#f9f2f4;borer-radius: 4px;\">Full Name</span> when the laureate type is <span style=\"color:#c7254e; padding: 2px 4px;background-color:#f9f2f4;borer-radius: 4px;\">Organization</span>"
   ]
  },
  {
   "cell_type": "code",
   "execution_count": 12,
   "metadata": {},
   "outputs": [
    {
     "data": {
      "text/plain": [
       "Motivation               88\n",
       "Birth Date                3\n",
       "Birth City                2\n",
       "Organization Name       221\n",
       "Organization City       253\n",
       "Organization Country    252\n",
       "Death Date              352\n",
       "Death City              370\n",
       "Death Country           364\n",
       "dtype: int64"
      ]
     },
     "execution_count": 12,
     "metadata": {},
     "output_type": "execute_result"
    }
   ],
   "source": [
    "cleaned_nps_df.loc[cleaned_nps_df['Organization Name'].isnull() & (cleaned_nps_df['Laureate Type'] == 'Organization') &\n",
    "         (cleaned_nps_df['Sex'] == 'Organization'), 'Organization Name'] = cleaned_nps_df['Full Name']\n",
    "\n",
    "missing_values_count = cleaned_nps_df.isnull().sum()\n",
    "missing_values_count[missing_values_count > 0]"
   ]
  },
  {
   "cell_type": "markdown",
   "metadata": {},
   "source": [
    "### Question 1: What are the categories that hold the most noble prizes ?\n",
    "As seen below to answer this question, the data is grouped by the types of categories offered for noble prizes and then the grouped data is sorted in a descending order, so we can see that the field of medicine holds the most noble prizes followed by the field of physics."
   ]
  },
  {
   "cell_type": "code",
   "execution_count": 13,
   "metadata": {},
   "outputs": [
    {
     "name": "stdout",
     "output_type": "stream",
     "text": [
      "Category\n",
      "Medicine      227\n",
      "Physics       222\n",
      "Chemistry     194\n",
      "Peace         130\n",
      "Literature    113\n",
      "Economics      83\n",
      "dtype: int64\n"
     ]
    },
    {
     "data": {
      "image/png": "[encoded data removed]",
      "text/plain": [
       "<Figure size 432x288 with 1 Axes>"
      ]
     },
     "metadata": {
      "needs_background": "light"
     },
     "output_type": "display_data"
    }
   ],
   "source": [
    "print(cleaned_nps_df.groupby(['Category']).size().sort_values(ascending=False))\n",
    "cleaned_nps_df.groupby(['Category']).size().plot(kind='bar')\n",
    "plt.show()"
   ]
  },
  {
   "cell_type": "markdown",
   "metadata": {},
   "source": [
    "### Question 2: Who are the youngest and the oldest noble prize winners ?\n",
    "First of all a new column holding the age is added to the data which represents the age of the noble prize winner at the time of winning the prize, it was calculated by subtracting the birth date of the winner from the year of the prize. To get the youngest and the oldest winner the minimum and the maximum values of the age column were obtained"
   ]
  },
  {
   "cell_type": "code",
   "execution_count": 14,
   "metadata": {},
   "outputs": [
    {
     "data": {
      "text/html": [
       "<div>\n",
       "<style scoped>\n",
       "    .dataframe tbody tr th:only-of-type {\n",
       "        vertical-align: middle;\n",
       "    }\n",
       "\n",
       "    .dataframe tbody tr th {\n",
       "        vertical-align: top;\n",
       "    }\n",
       "\n",
       "    .dataframe thead th {\n",
       "        text-align: right;\n",
       "    }\n",
       "</style>\n",
       "<table border=\"1\" class=\"dataframe\">\n",
       "  <thead>\n",
       "    <tr style=\"text-align: right;\">\n",
       "      <th></th>\n",
       "      <th>Year</th>\n",
       "      <th>Category</th>\n",
       "      <th>Full Name</th>\n",
       "      <th>Age</th>\n",
       "    </tr>\n",
       "  </thead>\n",
       "  <tbody>\n",
       "    <tr>\n",
       "      <th>940</th>\n",
       "      <td>2014</td>\n",
       "      <td>Peace</td>\n",
       "      <td>Malala Yousafzai</td>\n",
       "      <td>17.0</td>\n",
       "    </tr>\n",
       "  </tbody>\n",
       "</table>\n",
       "</div>"
      ],
      "text/plain": [
       "     Year Category         Full Name   Age\n",
       "940  2014    Peace  Malala Yousafzai  17.0"
      ]
     },
     "execution_count": 14,
     "metadata": {},
     "output_type": "execute_result"
    }
   ],
   "source": [
    "cleaned_nps_df['Birth Date'] = pd.to_datetime(cleaned_nps_df[\"Birth Date\"],errors='coerce')\n",
    "cleaned_nps_df['Age'] = cleaned_nps_df['Year'] - cleaned_nps_df['Birth Date'].dt.year\n",
    "Youngest= cleaned_nps_df[cleaned_nps_df['Age'] == min(cleaned_nps_df['Age'])]\n",
    "Youngest[['Year','Category','Full Name','Age']]"
   ]
  },
  {
   "cell_type": "code",
   "execution_count": 15,
   "metadata": {},
   "outputs": [
    {
     "data": {
      "text/html": [
       "<div>\n",
       "<style scoped>\n",
       "    .dataframe tbody tr th:only-of-type {\n",
       "        vertical-align: middle;\n",
       "    }\n",
       "\n",
       "    .dataframe tbody tr th {\n",
       "        vertical-align: top;\n",
       "    }\n",
       "\n",
       "    .dataframe thead th {\n",
       "        text-align: right;\n",
       "    }\n",
       "</style>\n",
       "<table border=\"1\" class=\"dataframe\">\n",
       "  <thead>\n",
       "    <tr style=\"text-align: right;\">\n",
       "      <th></th>\n",
       "      <th>Year</th>\n",
       "      <th>Category</th>\n",
       "      <th>Full Name</th>\n",
       "      <th>Age</th>\n",
       "    </tr>\n",
       "  </thead>\n",
       "  <tbody>\n",
       "    <tr>\n",
       "      <th>825</th>\n",
       "      <td>2007</td>\n",
       "      <td>Economics</td>\n",
       "      <td>Leonid Hurwicz</td>\n",
       "      <td>90.0</td>\n",
       "    </tr>\n",
       "  </tbody>\n",
       "</table>\n",
       "</div>"
      ],
      "text/plain": [
       "     Year   Category       Full Name   Age\n",
       "825  2007  Economics  Leonid Hurwicz  90.0"
      ]
     },
     "execution_count": 15,
     "metadata": {},
     "output_type": "execute_result"
    }
   ],
   "source": [
    "oldest = cleaned_nps_df[cleaned_nps_df['Age'] == max(cleaned_nps_df['Age'])]\n",
    "oldest[['Year','Category','Full Name','Age']]"
   ]
  },
  {
   "cell_type": "markdown",
   "metadata": {},
   "source": [
    "### Question 3: Who is the first female to win a noble prize ?\n",
    "In order to identify the first female noble prize winner, we filtered the data according to the column 'Sex' to be female so we can get all the data of the female prize winners, then we chose the first one in the data to get the first ever female winner.\n"
   ]
  },
  {
   "cell_type": "code",
   "execution_count": 16,
   "metadata": {},
   "outputs": [
    {
     "data": {
      "text/html": [
       "<div>\n",
       "<style scoped>\n",
       "    .dataframe tbody tr th:only-of-type {\n",
       "        vertical-align: middle;\n",
       "    }\n",
       "\n",
       "    .dataframe tbody tr th {\n",
       "        vertical-align: top;\n",
       "    }\n",
       "\n",
       "    .dataframe thead th {\n",
       "        text-align: right;\n",
       "    }\n",
       "</style>\n",
       "<table border=\"1\" class=\"dataframe\">\n",
       "  <thead>\n",
       "    <tr style=\"text-align: right;\">\n",
       "      <th></th>\n",
       "      <th>Year</th>\n",
       "      <th>Category</th>\n",
       "      <th>Full Name</th>\n",
       "      <th>Age</th>\n",
       "    </tr>\n",
       "  </thead>\n",
       "  <tbody>\n",
       "    <tr>\n",
       "      <th>19</th>\n",
       "      <td>1903</td>\n",
       "      <td>Physics</td>\n",
       "      <td>Marie Curie, née Sklodowska</td>\n",
       "      <td>36.0</td>\n",
       "    </tr>\n",
       "  </tbody>\n",
       "</table>\n",
       "</div>"
      ],
      "text/plain": [
       "    Year Category                    Full Name   Age\n",
       "19  1903  Physics  Marie Curie, née Sklodowska  36.0"
      ]
     },
     "execution_count": 16,
     "metadata": {},
     "output_type": "execute_result"
    }
   ],
   "source": [
    "female_noble_winners = cleaned_nps_df[cleaned_nps_df['Sex'] == 'Female']\n",
    "female_noble_winners.head(1)[['Year','Category','Full Name','Age']]"
   ]
  },
  {
   "cell_type": "markdown",
   "metadata": {},
   "source": [
    "# "
   ]
  }
 ],
 "metadata": {
  "celltoolbar": "Raw Cell Format",
  "kernelspec": {
   "display_name": "Python 3",
   "language": "python",
   "name": "python3"
  },
  "language_info": {
   "codemirror_mode": {
    "name": "ipython",
    "version": 3
   },
   "file_extension": ".py",
   "mimetype": "text/x-python",
   "name": "python",
   "nbconvert_exporter": "python",
   "pygments_lexer": "ipython3",
   "version": "3.7.3"
  }
 },
 "nbformat": 4,
 "nbformat_minor": 2
}
