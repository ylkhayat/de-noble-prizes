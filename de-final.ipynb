{
 "cells": [
  {
   "cell_type": "markdown",
   "metadata": {},
   "source": [
    "<h2 style=\"font-family: Palatino Linotype; font-size: 25px\">CSEN 1095 - Data Engineering</h2>\n",
    "<p style=\"font-family: Palatino Linotype; font-size: 20px\">German University in Cairo</p>\n"
   ]
  },
  {
   "cell_type": "markdown",
   "metadata": {},
   "source": [
    "<div style=\"background-color:#159955;text-align:center; vertical-align: middle; padding:20px;color:rgb(255,255,255);border-radius: 10px; background-image: linear-gradient(120deg, #155799, #159957);\">\n",
    "    <h2>Visual History of Nobel Prize Winners</h2>\n",
    "</div>"
   ]
  },
  {
   "cell_type": "markdown",
   "metadata": {},
   "source": [
    "- Project Website: https://yousseftarekkh.github.io/de-noble-prizes/\n",
    "- Github: https://github.com/yousseftarekkh/de-noble-prizes/"
   ]
  },
  {
   "cell_type": "markdown",
   "metadata": {},
   "source": [
    "<div style=\"font-family: Palatino Linotype;align-items:flex-start;float: left;\">\n",
    "    \n",
    "**Collaborators:**\n",
    "\n",
    "| Name   |      IDs      |\n",
    "|----------|:-------------:|\n",
    "| Nada Hammouda |  37-3846\n",
    "| Aya Ibrahim | 37-1574   |\n",
    "| Habiba ElHussein Hamad | 37-0846 |\n",
    "| Youssef Tarek Salah El Dine | 37-3865 |\n",
    "\n",
    "</div>"
   ]
  },
  {
   "cell_type": "markdown",
   "metadata": {},
   "source": [
    "<h2 style=\"color:#155799\">Overview & Motivation</h2>\n",
    "\n",
    "\n",
    "This project aims to apply several steps of data refactoring and cleaning in order to visually analyze and introduce potential data fixes to the acquired data set. Such steps can help further identify relations, recognize hidden patterns in different countries, pay attention to trending categories and generally reach conclusions and answers about many proposed questions among the data records which in our case represents **<span style=\"color:brown\">Nobel Prize winners</span>**.\n",
    "\n",
    "The following research will be held in a **Q&A** driven structure; meaning we will propose potential questions and put effort into trying to derive answers and conclusions.\n",
    "\n",
    "Initially, we used the following data set found at https://www.datacamp.com/projects/441. Additional data sets may be used in order to succesfully form a tidy data with less missing values and for the sake of adding more valuable records to the existing data set. All used references will be included in the next section."
   ]
  },
  {
   "cell_type": "markdown",
   "metadata": {},
   "source": [
    "<h2 style=\"color:#157899\">Related Work</h2>\n",
    "\n",
    "\n",
    "We have been influenced by a lot of work after a research we conducted on this particular topic and we found the following sites interesting for a certain cause.\n",
    "- https://www.datacamp.com/projects/441 - The mentioned project tasks included some interesting questions we needed to find answers to, thus we decided to re-engineer the data to properly formulate answers.\n",
    "- https://www.kaggle.com/devisangeetha/nobel-prize-winners-story - Inspired on how well and organized that research was and the outcome that this research helped discovering.\n",
    "- https://www.nobelprize.org/prizes/facts/nobel-prize-facts/ - Website contains a large bulk of Nobel Prize winners facts including both interesting and shocking events in the history."
   ]
  },
  {
   "cell_type": "markdown",
   "metadata": {},
   "source": [
    "<h2 style=\"color:#159983\">Questions</h2>\n",
    "\n",
    "The main questions that motivated that project were:\n",
    "    1. Who can win a Nobel Prize?\n",
    "    2. Does the data include any kind of inconsistencies? If yes, how to solve them?\n",
    "    3. What are the categories that hold the most noble prizes ?\n",
    "    4. Who are the youngest and the oldest noble prize winners ?\n",
    "    5. Who is the first female to win a noble prize ?\n",
    "    6. Top Birth Country to receive noble prize?\n",
    "    7. Which Year had most and least prizes awarded?\n",
    "    8. What is the lifespan of Laureates?\n",
    "    9. Did anyone win noble prize more than once? \n",
    "    10. Is there a relation between the nobel prize winners?\n",
    "    11. What are the countries which dominate noble prize winners?\n",
    "    12. What are the cities where most of noble winners were born?\n",
    "    13. How is USA dominating in winning noble prizes over the past dacades?\n"
   ]
  },
  {
   "cell_type": "markdown",
   "metadata": {},
   "source": [
    "Modules we will be using are listed bellow."
   ]
  },
  {
   "cell_type": "code",
   "execution_count": null,
   "metadata": {},
   "outputs": [],
   "source": [
    "import pandas as pd\n",
    "import numpy as np\n",
    "import matplotlib.pyplot as plt\n",
    "import seaborn as sns\n",
    "import re\n",
    "import statistics\n",
    "from datetime import datetime\n",
    "from matplotlib.ticker import PercentFormatter\n"
   ]
  },
  {
   "cell_type": "markdown",
   "metadata": {},
   "source": [
    "In order to get a better look at the data, we will preview a sample to visually analyze the attributes assigned to each record. "
   ]
  },
  {
   "cell_type": "code",
   "execution_count": null,
   "metadata": {},
   "outputs": [],
   "source": [
    "nps_df = pd.read_csv(\"data/archive.csv\")\n",
    "nps_df.sample(3)"
   ]
  },
  {
   "cell_type": "markdown",
   "metadata": {},
   "source": [
    "After having a look at the columns, we will start answering some questions and try to reach useful information through picking the right methods to perform data cleaning."
   ]
  },
  {
   "cell_type": "markdown",
   "metadata": {},
   "source": [
    "### Question 1: Who can win a Nobel Prize?\n",
    "In order to answer this question we must examine the <span style=\"color:#c7254e; padding: 2px 4px;background-color:#f9f2f4;borer-radius: 4px;font-family: Palatino Linotype;\">Laureate Type</span> column."
   ]
  },
  {
   "cell_type": "code",
   "execution_count": null,
   "metadata": {},
   "outputs": [],
   "source": [
    "ax = sns.countplot(x=\"Laureate Type\", data=nps_df,palette=\"Set2\",orient=\"h\")\n",
    "sns.set(style=\"ticks\")\n",
    "for p in ax.patches:\n",
    "    ax.annotate(format(p.get_height(),'.2f'), \n",
    "                (p.get_x() + p.get_width() / 2., p.get_height()), \n",
    "                ha = 'center', \n",
    "                va = 'center', \n",
    "                xytext = (0, 10), \n",
    "                textcoords = 'offset points')"
   ]
  },
  {
   "cell_type": "markdown",
   "metadata": {},
   "source": [
    "Two types of laureates can win a Nobel Prize which are `Individual`s and `Organization`s."
   ]
  },
  {
   "cell_type": "markdown",
   "metadata": {},
   "source": [
    "### Question 2: Does the data include any kind of inconsistencies? If yes, how to solve them?\n",
    "The data indeed is proven to have atleast a single inconsistency by reveiling that the data set is a merge between two different types of nobel prize winners. We will proceed by checking the rest of the column according to each <span style=\"color:#c7254e; padding: 2px 4px;background-color:#f9f2f4;borer-radius: 4px;font-family: Palatino Linotype;\">Laureate Type</span>."
   ]
  },
  {
   "cell_type": "code",
   "execution_count": null,
   "metadata": {},
   "outputs": [],
   "source": [
    "def filterColumn(col):\n",
    "    return col != 'Laureate Type'\n",
    "    \n",
    "filtered_columns = filter(filterColumn, nps_df.columns)\n",
    "for vowel in filtered_columns:\n",
    "    print(vowel)"
   ]
  },
  {
   "cell_type": "markdown",
   "metadata": {},
   "source": [
    "It's clear that a lot of columns are not compatible with one of the <span style=\"color:#c7254e; padding: 2px 4px;background-color:#f9f2f4;borer-radius: 4px;font-family: Palatino Linotype;\">Laureate Type</span> values. For instance, `Organization` records can not have the following attributes: <span style=\"color:#c7254e; padding: 2px 4px;background-color:#f9f2f4;borer-radius: 4px;font-family: Palatino Linotype;\">{Birth/Death} Date</span>, <span style=\"color:#c7254e; padding: 2px 4px;background-color:#f9f2f4;borer-radius: 4px;font-family: Palatino Linotype;\">{Birth/Death} City</span>, <span style=\"color:#c7254e; padding: 2px 4px;background-color:#f9f2f4;borer-radius: 4px;font-family: Palatino Linotype;\">{Birth/Death} Country</span> and <span style=\"color:#c7254e; padding: 2px 4px;background-color:#f9f2f4;borer-radius: 4px;font-family: Palatino Linotype;\">Sex</span>."
   ]
  },
  {
   "cell_type": "markdown",
   "metadata": {},
   "source": [
    "From the above graphs, we see that the data is not entirely consistent since the records contain both `Individual` and `Organization` values for the <span style=\"color:#c7254e; padding: 2px 4px;background-color:#f9f2f4;borer-radius: 4px;font-family: Palatino Linotype;\">Laureate Type</span> winning the nobel prizes. Moreover indicated by the <span style=\"color:#c7254e; padding: 2px 4px;background-color:#f9f2f4;borer-radius: 4px;font-family: Palatino Linotype;\">Sex</span> column which denotes that the data contains attribute variations which are crucial for some of the questions.\n",
    "\n",
    "Next step for our data cleaning process is to strictly indicate that some of the missing values are not missing due to falsified data nor noise existence, simply irrelevant attribute for certain records. Thus we must inspect the occurence of the missing values in each column and re-engineer the entire column if the missing value exceeded a significant percentage from the data set."
   ]
  },
  {
   "cell_type": "code",
   "execution_count": null,
   "metadata": {},
   "outputs": [],
   "source": [
    "missing_values_count = nps_df.isnull().sum()\n",
    "missing_values_count[missing_values_count > 0]"
   ]
  },
  {
   "cell_type": "markdown",
   "metadata": {},
   "source": [
    "Apparently, multiple columns include missing values. Thus we will calculate the percentage of the missing values among the entire data set."
   ]
  },
  {
   "cell_type": "code",
   "execution_count": null,
   "metadata": {},
   "outputs": [],
   "source": [
    "total_cells_nfl = np.product(nps_df.shape) \n",
    "total_missing_nfl = missing_values_count.sum()\n",
    "\n",
    "percentage_missign_values_nfl = (total_missing_nfl/total_cells_nfl) * 100\n",
    "print(str(percentage_missign_values_nfl.round())+'%')"
   ]
  },
  {
   "cell_type": "markdown",
   "metadata": {},
   "source": [
    "Percentage of <span style=\"color: red;\">~12.0</span> is a considerably big chunk of data is missing that we can not just drop, thus the data cleaning is now crucial."
   ]
  },
  {
   "cell_type": "code",
   "execution_count": null,
   "metadata": {},
   "outputs": [],
   "source": [
    "nps_df[nps_df['Sex'].isnull()].sample(3)"
   ]
  },
  {
   "cell_type": "code",
   "execution_count": null,
   "metadata": {},
   "outputs": [],
   "source": [
    "nps_df.loc[nps_df['Sex'].isnull(),'Laureate Type'].unique()"
   ]
  },
  {
   "cell_type": "markdown",
   "metadata": {},
   "source": [
    "Based on inspecting the data and finding out that most of the null values present in the <span style=\"color:#c7254e; padding: 2px 4px;background-color:#f9f2f4;borer-radius: 4px;font-family: Palatino Linotype;\">Sex</span> column, <span style=\"color:#c7254e; padding: 2px 4px;background-color:#f9f2f4;borer-radius: 4px;font-family: Palatino Linotype;\">Birth Date</span> column, <span style=\"color:#c7254e; padding: 2px 4px;background-color:#f9f2f4;borer-radius: 4px;font-family: Palatino Linotype;\">Birth City</span> column and <span style=\"color:#c7254e; padding: 2px 4px;background-color:#f9f2f4;borer-radius: 4px;font-family: Palatino Linotype;\">Birth Country</span> column have the value `Organization` in the <span style=\"color:#c7254e; padding: 2px 4px;background-color:#f9f2f4;borer-radius: 4px;font-family: Palatino Linotype;\">Laureate Type</span> column.\n",
    "\n",
    "_So, we made the following modfications:_\n",
    "\n",
    "Changing the null values of the <span style=\"color:#c7254e; padding: 2px 4px;background-color:#f9f2f4;borer-radius: 4px;font-family: Palatino Linotype;\">Sex</span> column to `Organization`.<br>\n",
    "Changing the null values of the <span style=\"color:#c7254e; padding: 2px 4px;background-color:#f9f2f4;borer-radius: 4px;font-family: Palatino Linotype;\">Birth Date</span> column to `none` as it does not exist.<br>\n",
    "Changing the null values of the <span style=\"color:#c7254e; padding: 2px 4px;background-color:#f9f2f4;borer-radius: 4px;font-family: Palatino Linotype;\">Birth City</span> column to `none` as it does not exist.<br>\n",
    "Changing the null values of the <span style=\"color:#c7254e; padding: 2px 4px;background-color:#f9f2f4;borer-radius: 4px;font-family: Palatino Linotype;\">Birth Country</span> column to `none` as it does not exist."
   ]
  },
  {
   "cell_type": "code",
   "execution_count": null,
   "metadata": {},
   "outputs": [],
   "source": [
    "cleaned_nps_df = nps_df.copy()\n",
    "cleaned_nps_df.loc[cleaned_nps_df['Sex'].isnull() & (cleaned_nps_df['Laureate Type'] == 'Organization'), 'Sex'] = 'Organization'\n",
    "# print(cleaned_nps_df[cleaned_nps_df['Sex']== 'Organization']['Full Name'])\n",
    "cleaned_nps_df.loc[cleaned_nps_df['Birth Date'].isnull() & (cleaned_nps_df['Laureate Type'] == 'Organization') & \n",
    "         (cleaned_nps_df['Sex'] == 'Organization'), 'Birth Date'] = 'none'\n",
    "cleaned_nps_df.loc[cleaned_nps_df['Birth City'].isnull() & (cleaned_nps_df['Laureate Type'] == 'Organization') & \n",
    "         (cleaned_nps_df['Sex'] == 'Organization'), 'Birth City'] = 'none'\n",
    "cleaned_nps_df.loc[cleaned_nps_df['Birth Country'].isnull() & (cleaned_nps_df['Laureate Type'] == 'Organization') & \n",
    "         (cleaned_nps_df['Sex'] == 'Organization'), 'Birth Country'] = 'none'\n",
    "missing_values_count = cleaned_nps_df.isnull().sum()\n",
    "missing_values_count[missing_values_count > 0]\n"
   ]
  },
  {
   "cell_type": "markdown",
   "metadata": {},
   "source": [
    "We made the following modifications in the rows with <span style=\"color:#c7254e; padding: 2px 4px;background-color:#f9f2f4;borer-radius: 4px;font-family: Palatino Linotype;\">Laureate Type</span> equal to `Organization`.\n",
    "\n",
    "\n",
    "Changing the null values of the <span style=\"color:#c7254e; padding: 2px 4px;background-color:#f9f2f4;borer-radius: 4px;font-family: Palatino Linotype;\">Death Date</span> column to `none` as it does not exist.<br>\n",
    "Changing the null values of the <span style=\"color:#c7254e; padding: 2px 4px;background-color:#f9f2f4;borer-radius: 4px;font-family: Palatino Linotype;\">Death City</span> column to `none` as it does not exist.<br>\n",
    "Changing the null values of the <span style=\"color:#c7254e; padding: 2px 4px;background-color:#f9f2f4;borer-radius: 4px;font-family: Palatino Linotype;\">Death Country</span> column to `none` as it does not exist."
   ]
  },
  {
   "cell_type": "code",
   "execution_count": null,
   "metadata": {},
   "outputs": [],
   "source": [
    "cleaned_nps_df.loc[cleaned_nps_df['Death Date'].isnull() & (cleaned_nps_df['Laureate Type'] == 'Organization') & \n",
    "         (cleaned_nps_df['Sex'] == 'Organization'), 'Death Date'] = 'none'\n",
    "cleaned_nps_df.loc[cleaned_nps_df['Death City'].isnull() & (cleaned_nps_df['Laureate Type'] == 'Organization') & \n",
    "         (cleaned_nps_df['Sex'] == 'Organization'), 'Death City'] = 'none'\n",
    "cleaned_nps_df.loc[cleaned_nps_df['Death Country'].isnull() & (cleaned_nps_df['Laureate Type'] == 'Organization') & \n",
    "         (cleaned_nps_df['Sex'] == 'Organization'), 'Death Country'] = 'none'\n",
    "missing_values_count = cleaned_nps_df.isnull().sum()\n",
    "missing_values_count[missing_values_count > 0]"
   ]
  },
  {
   "cell_type": "markdown",
   "metadata": {},
   "source": [
    "Imputing the <span style=\"color:#c7254e; padding: 2px 4px;background-color:#f9f2f4;borer-radius: 4px;font-family: Palatino Linotype;\">Organization Name</span> from <span style=\"color:#c7254e; padding: 2px 4px;background-color:#f9f2f4;borer-radius: 4px;font-family: Palatino Linotype;\">Full Name</span> based on the fact that the name of organization is the <span style=\"color:#c7254e; padding: 2px 4px;background-color:#f9f2f4;borer-radius: 4px;font-family: Palatino Linotype;\">Full Name</span> when the <span style=\"color:#c7254e; padding: 2px 4px;background-color:#f9f2f4;borer-radius: 4px;font-family: Palatino Linotype;\">Laureate Type</span> is `Organization`."
   ]
  },
  {
   "cell_type": "code",
   "execution_count": null,
   "metadata": {},
   "outputs": [],
   "source": [
    "cleaned_nps_df.loc[cleaned_nps_df['Organization Name'].isnull() & (cleaned_nps_df['Laureate Type'] == 'Organization') &\n",
    "         (cleaned_nps_df['Sex'] == 'Organization'), 'Organization Name'] = cleaned_nps_df['Full Name']\n",
    "\n",
    "missing_values_count = cleaned_nps_df.isnull().sum()\n",
    "missing_values_count[missing_values_count > 0]"
   ]
  },
  {
   "cell_type": "markdown",
   "metadata": {},
   "source": [
    "We observe that for some vlaue the <span style=\"color:#c7254e; padding: 2px 4px;background-color:#f9f2f4;borer-radius: 4px;font-family: Palatino Linotype;\">Organization Name</span> value does exist but the <span style=\"color:#c7254e; padding: 2px 4px;background-color:#f9f2f4;borer-radius: 4px;font-family: Palatino Linotype;\">Organization Country</span> and <span style=\"color:#c7254e; padding: 2px 4px;background-color:#f9f2f4;borer-radius: 4px;font-family: Palatino Linotype;\">Organization City</span> are missing. So, we can impute these values manually.\n",
    "\n",
    "We check the values with missing <span style=\"color:#c7254e; padding: 2px 4px;background-color:#f9f2f4;borer-radius: 4px;font-family: Palatino Linotype;\">Organization Country</span> while the <span style=\"color:#c7254e; padding: 2px 4px;background-color:#f9f2f4;borer-radius: 4px;font-family: Palatino Linotype;\">Organization City</span> does exist."
   ]
  },
  {
   "cell_type": "code",
   "execution_count": null,
   "metadata": {},
   "outputs": [],
   "source": [
    "cleaned_nps_df.loc[cleaned_nps_df['Organization Country'].isnull(), 'Organization City'].unique()"
   ]
  },
  {
   "cell_type": "code",
   "execution_count": null,
   "metadata": {},
   "outputs": [],
   "source": [
    "cleaned_nps_df.loc[cleaned_nps_df['Organization City'] == 'Tunis', 'Organization Country'] = 'Tunis'"
   ]
  },
  {
   "cell_type": "markdown",
   "metadata": {},
   "source": [
    "#### All of the data retrived from [https://www.nobelprize.org/] based on the Residence of the Organization at the time of the award.\n",
    "Finding values with missing <span style=\"color:#c7254e; padding: 2px 4px;background-color:#f9f2f4;borer-radius: 4px;font-family: Palatino Linotype;\">Organization Country</span> values."
   ]
  },
  {
   "cell_type": "code",
   "execution_count": null,
   "metadata": {},
   "outputs": [],
   "source": [
    "cleaned_nps_df.loc[cleaned_nps_df['Organization Country'].isnull(), 'Organization Name'].unique()"
   ]
  },
  {
   "cell_type": "code",
   "execution_count": null,
   "metadata": {},
   "outputs": [],
   "source": [
    "cleaned_nps_df.loc[cleaned_nps_df['Organization Name'] == 'Institut de droit international (Institute of International Law)',\n",
    "                   'Organization Country'] = 'Belgium'\n",
    "cleaned_nps_df.loc[cleaned_nps_df['Organization Name'] == 'Bureau international permanent de la Paix (Permanent International Peace Bureau)',\n",
    "                   'Organization Country'] = 'Switzerland'\n",
    "cleaned_nps_df.loc[cleaned_nps_df['Organization Name'] == 'Comité international de la Croix Rouge (International Committee of the Red Cross)',\n",
    "                   'Organization Country'] = 'Switzerland'\n",
    "cleaned_nps_df.loc[cleaned_nps_df['Organization Name'] == 'Office international Nansen pour les Réfugiés (Nansen International Office for Refugees)',\n",
    "                   'Organization Country'] = 'Switzerland'\n",
    "cleaned_nps_df.loc[cleaned_nps_df['Organization Name'] == 'Friends Service Council (The Quakers)',\n",
    "                   'Organization Country'] = 'United Kingdom'\n",
    "cleaned_nps_df.loc[cleaned_nps_df['Organization Name'] == 'American Friends Service Committee (The Quakers)',\n",
    "                   'Organization Country'] = 'United States of America'\n",
    "cleaned_nps_df.loc[cleaned_nps_df['Organization Name'] == 'Office of the United Nations High Commissioner for Refugees (UNHCR)',\n",
    "                   'Organization Country'] = 'Switzerland'\n",
    "cleaned_nps_df.loc[cleaned_nps_df['Organization Name'] == 'Ligue des Sociétés de la Croix-Rouge (League of Red Cross Societies)',\n",
    "                   'Organization Country'] = 'Switzerland'\n",
    "cleaned_nps_df.loc[cleaned_nps_df['Organization Name'] == 'United Nations Children\\'s Fund (UNICEF)',\n",
    "                   'Organization Country'] = 'United States of America'\n",
    "cleaned_nps_df.loc[cleaned_nps_df['Organization Name'] == 'International Labour Organization (I.L.O.)',\n",
    "                   'Organization Country'] = 'Switzerland'\n",
    "cleaned_nps_df.loc[cleaned_nps_df['Organization Name'] == 'Amnesty International',\n",
    "                   'Organization Country'] = 'United Kingdom'\n",
    "cleaned_nps_df.loc[cleaned_nps_df['Organization Name'] == 'International Physicians for the Prevention of Nuclear War',\n",
    "                   'Organization Country'] = 'United States of America'\n",
    "cleaned_nps_df.loc[cleaned_nps_df['Organization Name'] == 'United Nations Peacekeeping Forces',\n",
    "                   'Organization Country'] = 'United States of America'\n",
    "cleaned_nps_df.loc[cleaned_nps_df['Organization Name'] == 'Pugwash Conferences on Science and World Affairs',\n",
    "                   'Organization Country'] = 'Canada'\n",
    "cleaned_nps_df.loc[cleaned_nps_df['Organization Name'] == 'International Campaign to Ban Landmines (ICBL)',\n",
    "                   'Organization Country'] = 'United States of America'\n",
    "cleaned_nps_df.loc[cleaned_nps_df['Organization Name'] == 'Médecins Sans Frontières',\n",
    "                   'Organization Country'] = 'Switzerland'\n",
    "cleaned_nps_df.loc[cleaned_nps_df['Organization Name'] == 'International Atomic Energy Agency (IAEA)',\n",
    "                   'Organization Country'] = 'Austria'\n",
    "cleaned_nps_df.loc[cleaned_nps_df['Organization Name'] == 'Grameen Bank',\n",
    "                   'Organization Country'] = 'Bangladesh'\n",
    "cleaned_nps_df.loc[cleaned_nps_df['Organization Name'] == 'Intergovernmental Panel on Climate Change (IPCC)',\n",
    "                   'Organization Country'] = 'Switzerland'\n",
    "cleaned_nps_df.loc[cleaned_nps_df['Organization Name'] == 'Organisation for the Prohibition of Chemical Weapons (OPCW)',\n",
    "                   'Organization Country'] = 'Netherlands'\n"
   ]
  },
  {
   "cell_type": "markdown",
   "metadata": {},
   "source": [
    "All of the data retrived from [https://www.google.com/] based on the current Headquarters of the Organization as the data was not available at the [https://www.nobleprize.org/]."
   ]
  },
  {
   "cell_type": "code",
   "execution_count": null,
   "metadata": {},
   "outputs": [],
   "source": [
    "cleaned_nps_df.loc[cleaned_nps_df['Organization Name'] == 'Howard Hughes Medical Institute', 'Organization Country'] = 'United States of America'\n",
    "cleaned_nps_df.loc[cleaned_nps_df['Organization Name'] == 'United Nations (U.N.)',\n",
    "                   'Organization Country'] = 'United States of America'\n",
    "cleaned_nps_df.loc[cleaned_nps_df['Organization Name'] == 'European Union (EU)',\n",
    "                   'Organization Country'] = 'Belgium'\n",
    "cleaned_nps_df.loc[cleaned_nps_df['Organization Name'] == 'National Dialogue Quartet',\n",
    "                   'Organization Country'] = 'Tunisia'\n",
    "missing_values_count = cleaned_nps_df.isnull().sum()\n",
    "missing_values_count[missing_values_count > 0]"
   ]
  },
  {
   "cell_type": "markdown",
   "metadata": {},
   "source": [
    "Finding values with missing <span style=\"color:#c7254e; padding: 2px 4px;background-color:#f9f2f4;borer-radius: 4px;font-family: Palatino Linotype;\">Organization City</span> values."
   ]
  },
  {
   "cell_type": "code",
   "execution_count": null,
   "metadata": {},
   "outputs": [],
   "source": [
    "cleaned_nps_df.loc[cleaned_nps_df['Organization City'].isnull(), 'Organization Name'].unique()"
   ]
  },
  {
   "cell_type": "markdown",
   "metadata": {},
   "source": [
    "All of the data retrived from [https://www.nobelprize.org/] based on the Residence of the Organization at the time of the award."
   ]
  },
  {
   "cell_type": "code",
   "execution_count": null,
   "metadata": {},
   "outputs": [],
   "source": [
    "cleaned_nps_df.loc[cleaned_nps_df['Organization Name'] == 'Institut de droit international (Institute of International Law)',\n",
    "                   'Organization City'] = 'Ghent'\n",
    "\n",
    "cleaned_nps_df.loc[cleaned_nps_df['Organization Name'] == 'Bureau international permanent de la Paix (Permanent International Peace Bureau)',\n",
    "                   'Organization City'] = 'Berne'\n",
    "\n",
    "cleaned_nps_df.loc[cleaned_nps_df['Organization Name'] == 'Comité international de la Croix Rouge (International Committee of the Red Cross)',\n",
    "                   'Organization City'] = 'Geneva'\n",
    "\n",
    "cleaned_nps_df.loc[cleaned_nps_df['Organization Name'] == 'Office international Nansen pour les Réfugiés (Nansen International Office for Refugees)',\n",
    "                   'Organization City'] = 'Geneva'\n",
    "\n",
    "cleaned_nps_df.loc[cleaned_nps_df['Organization Name'] == 'Friends Service Council (The Quakers)',\n",
    "                   'Organization City'] = 'London'\n",
    "\n",
    "cleaned_nps_df.loc[cleaned_nps_df['Organization Name'] == 'American Friends Service Committee (The Quakers)',\n",
    "                   'Organization City'] = 'Washington, DC'\n",
    "\n",
    "cleaned_nps_df.loc[cleaned_nps_df['Organization Name'] == 'Office of the United Nations High Commissioner for Refugees (UNHCR)',\n",
    "                   'Organization City'] = 'Geneva'\n",
    "\n",
    "cleaned_nps_df.loc[cleaned_nps_df['Organization Name'] == 'Ligue des Sociétés de la Croix-Rouge (League of Red Cross Societies)',\n",
    "                   'Organization City'] = 'Geneva'\n",
    "\n",
    "cleaned_nps_df.loc[cleaned_nps_df['Organization Name'] == 'United Nations Children\\'s Fund (UNICEF)',\n",
    "                   'Organization City'] = 'New York, NY'\n",
    "\n",
    "cleaned_nps_df.loc[cleaned_nps_df['Organization Name'] == 'International Labour Organization (I.L.O.)',\n",
    "                   'Organization City'] = 'Geneva'\n",
    "\n",
    "cleaned_nps_df.loc[cleaned_nps_df['Organization Name'] == 'Amnesty International',\n",
    "                   'Organization City'] = 'London'\n",
    "\n",
    "cleaned_nps_df.loc[cleaned_nps_df['Organization Name'] == 'International Physicians for the Prevention of Nuclear War',\n",
    "                   'Organization City'] = 'Boston, MA'\n",
    "\n",
    "cleaned_nps_df.loc[cleaned_nps_df['Organization Name'] == 'United Nations Peacekeeping Forces',\n",
    "                   'Organization City'] = 'New York, NY'\n",
    "\n",
    "cleaned_nps_df.loc[cleaned_nps_df['Organization Name'] == 'Pugwash Conferences on Science and World Affairs',\n",
    "                   'Organization City'] = 'Pugwash'\n",
    "\n",
    "cleaned_nps_df.loc[cleaned_nps_df['Organization Name'] == 'Médecins Sans Frontières',\n",
    "                   'Organization City'] = 'Geneva'\n",
    "\n",
    "cleaned_nps_df.loc[cleaned_nps_df['Organization Name'] == 'International Atomic Energy Agency (IAEA)',\n",
    "                   'Organization City'] = 'Vienna'\n",
    "\n",
    "cleaned_nps_df.loc[cleaned_nps_df['Organization Name'] == 'Grameen Bank',\n",
    "                   'Organization City'] = 'Dhaka'\n",
    "\n",
    "cleaned_nps_df.loc[cleaned_nps_df['Organization Name'] == 'Intergovernmental Panel on Climate Change (IPCC)',\n",
    "                   'Organization City'] = 'Geneva'\n",
    "\n"
   ]
  },
  {
   "cell_type": "markdown",
   "metadata": {},
   "source": [
    "All of the data retrived from [https://www.google.com/] based on the current Headquarters of the Organization or the location it was Founded based on the <span style=\"color:#c7254e; padding: 2px 4px;background-color:#f9f2f4;borer-radius: 4px;font-family: Palatino Linotype;\">Organization Country</span> as the data was not available at the [https://www.nobleprize.org/]."
   ]
  },
  {
   "cell_type": "code",
   "execution_count": null,
   "metadata": {},
   "outputs": [],
   "source": [
    "cleaned_nps_df.loc[cleaned_nps_df['Organization Name'] == 'Howard Hughes Medical Institute', 'Organization City'] = 'Maryland'\n",
    "cleaned_nps_df.loc[cleaned_nps_df['Organization Name'] == 'United Nations (U.N.)',\n",
    "                   'Organization City'] = 'New York, NY'\n",
    "cleaned_nps_df.loc[cleaned_nps_df['Organization Name'] == 'European Union (EU)',\n",
    "                   'Organization City'] = 'Brussels'\n",
    "cleaned_nps_df.loc[cleaned_nps_df['Organization Name'] == 'National Dialogue Quartet',\n",
    "                   'Organization City'] = 'Tunisia'\n",
    "cleaned_nps_df.loc[cleaned_nps_df['Organization Name'] == 'International Campaign to Ban Landmines (ICBL)',\n",
    "                   'Organization City'] = 'New York, NY'\n",
    "cleaned_nps_df.loc[cleaned_nps_df['Organization Name'] == 'Organisation for the Prohibition of Chemical Weapons (OPCW)',\n",
    "                   'Organization City'] = ' The Hague'\n",
    "\n",
    "\n",
    "missing_values_count = cleaned_nps_df.isnull().sum()\n",
    "missing_values_count[missing_values_count > 0]"
   ]
  },
  {
   "cell_type": "markdown",
   "metadata": {},
   "source": [
    "Filling all the remaining null values with `none`."
   ]
  },
  {
   "cell_type": "code",
   "execution_count": null,
   "metadata": {},
   "outputs": [],
   "source": [
    "cleaned_nps_df = cleaned_nps_df.fillna(\"none\") \n",
    "\n",
    "missing_values_count = cleaned_nps_df.isnull().sum()\n",
    "missing_values_count[missing_values_count > 0]"
   ]
  },
  {
   "cell_type": "code",
   "execution_count": null,
   "metadata": {},
   "outputs": [],
   "source": [
    "print(\"Total number present in our database: \", cleaned_nps_df.shape[0])\n",
    "\n",
    "unique_records = cleaned_nps_df.groupby(['Full Name', 'Year']).count()\n",
    "print(\"Total number of unique records: \", unique_records.shape[0])"
   ]
  },
  {
   "cell_type": "markdown",
   "metadata": {},
   "source": [
    "As seen from above, some of the data are duplicated. Let's have a closer look on the duplicated records."
   ]
  },
  {
   "cell_type": "code",
   "execution_count": null,
   "metadata": {},
   "outputs": [],
   "source": [
    "duplicateRowsDF = cleaned_nps_df.loc[cleaned_nps_df.duplicated(['Full Name','Year'], keep=False), :]\n",
    "duplicateRowsDF.head(6)"
   ]
  },
  {
   "cell_type": "markdown",
   "metadata": {},
   "source": [
    "We can see that the only difference between the duplicated records is <span style=\"color:#c7254e; padding: 2px 4px;background-color:#f9f2f4;borer-radius: 4px;font-family: Palatino Linotype;\">Organization Name</span>, <span style=\"color:#c7254e; padding: 2px 4px;background-color:#f9f2f4;borer-radius: 4px;font-family: Palatino Linotype;\">Organization City</span> and <span style=\"color:#c7254e; padding: 2px 4px;background-color:#f9f2f4;borer-radius: 4px;font-family: Palatino Linotype;\">Organization Country</span> as the winner was affiliated with different organizations at the time of being rewarded. \n",
    "\n",
    "Thus, we can merge the cloumns by combining the the records together."
   ]
  },
  {
   "cell_type": "code",
   "execution_count": null,
   "metadata": {},
   "outputs": [],
   "source": [
    "renamer = lambda a: \" / \".join(a) \n",
    "\n",
    "cleaned_nps_df = cleaned_nps_df.groupby(['Year','Category','Prize','Motivation','Prize Share','Laureate ID',\n",
    "                              'Laureate Type','Full Name','Birth Date','Birth City','Birth Country',\n",
    "                              'Sex','Death Date','Death City','Death Country']).agg({'Organization Name': renamer ,\n",
    "                                                                                    'Organization City': renamer ,\n",
    "                                                                                    'Organization Country': renamer}).reset_index()\n",
    "cleaned_nps_df = cleaned_nps_df[['Year','Category','Prize','Motivation','Prize Share','Laureate ID',\n",
    "                              'Laureate Type','Full Name','Birth Date','Birth City','Birth Country',\n",
    "                              'Sex','Organization Name','Organization City','Organization Country',\n",
    "                                 'Death Date','Death City','Death Country']]\n",
    "\n",
    "print(\"Total number present in our database: \", cleaned_nps_df.shape[0])\n"
   ]
  },
  {
   "cell_type": "markdown",
   "metadata": {},
   "source": [
    "### Question 3: What are the categories that hold the most noble prizes ?\n",
    "As seen below to answer this question, the data is grouped by the types of categories offered for noble prizes and then the grouped data is sorted in a descending order, so we can see that the field of medicine holds the most noble prizes followed by the field of physics."
   ]
  },
  {
   "cell_type": "code",
   "execution_count": null,
   "metadata": {},
   "outputs": [],
   "source": [
    "print(cleaned_nps_df.groupby(['Category']).size().sort_values(ascending=False))\n",
    "cleaned_nps_df.groupby(['Category']).size().plot(kind='bar', color=\"#159957\")\n",
    "plt.show()"
   ]
  },
  {
   "cell_type": "markdown",
   "metadata": {},
   "source": [
    "### Question 4: Who are the youngest and the oldest noble prize winners ?\n",
    "First of all a new column holding the age is added to the data which represents the age of the noble prize winner at the time of winning the prize, it was calculated by subtracting the birth date of the winner from the year of the prize. To get the youngest and the oldest winner the minimum and the maximum values of the age column were obtained"
   ]
  },
  {
   "cell_type": "code",
   "execution_count": null,
   "metadata": {},
   "outputs": [],
   "source": [
    "cleaned_nps_df['Birth Date'] = pd.to_datetime(cleaned_nps_df[\"Birth Date\"],errors='coerce')\n",
    "cleaned_nps_df['Age'] = cleaned_nps_df['Year'] - cleaned_nps_df['Birth Date'].dt.year\n",
    "Youngest= cleaned_nps_df[cleaned_nps_df['Age'] == min(cleaned_nps_df['Age'])]\n",
    "Youngest[['Year','Category','Full Name','Age']]"
   ]
  },
  {
   "cell_type": "code",
   "execution_count": null,
   "metadata": {},
   "outputs": [],
   "source": [
    "oldest = cleaned_nps_df[cleaned_nps_df['Age'] == max(cleaned_nps_df['Age'])]\n",
    "oldest[['Year','Category','Full Name','Age']]"
   ]
  },
  {
   "cell_type": "markdown",
   "metadata": {},
   "source": [
    "### Question 5: Who is the first female to win a noble prize ?\n",
    "In order to identify the first female noble prize winner, we filtered the data according to the column <span style=\"color:#c7254e; padding: 2px 4px;background-color:#f9f2f4;borer-radius: 4px;font-family: Palatino Linotype;\">Sex</span> to be female so we can get all the data of the female prize winners, then we chose the first one in the data to get the first ever female winner.\n"
   ]
  },
  {
   "cell_type": "code",
   "execution_count": null,
   "metadata": {},
   "outputs": [],
   "source": [
    "female_noble_winners = cleaned_nps_df[cleaned_nps_df['Sex'] == 'Female']\n",
    "female_noble_winners.head(1)[['Year','Category','Full Name','Age']]"
   ]
  },
  {
   "cell_type": "markdown",
   "metadata": {},
   "source": [
    "### Question 6: Top Birth Country to receive noble prizes?"
   ]
  },
  {
   "cell_type": "code",
   "execution_count": null,
   "metadata": {},
   "outputs": [],
   "source": [
    "print(cleaned_nps_df.groupby(['Birth Country']).size().sort_values(ascending=False).head(10))\n",
    "cleaned_nps_df.groupby(['Birth Country']).size().sort_values(ascending=False).head(10).plot(kind='barh', color=\"#159999\")"
   ]
  },
  {
   "cell_type": "markdown",
   "metadata": {},
   "source": [
    "### Question 7: Which Year had most and least prizes awarded?"
   ]
  },
  {
   "cell_type": "code",
   "execution_count": null,
   "metadata": {},
   "outputs": [],
   "source": [
    "Year_Count = cleaned_nps_df[['Year','Laureate ID']]\n",
    "Year_Count['Count'] = cleaned_nps_df.groupby('Year')['Year'].transform('count')\n",
    "Year_Count = Year_Count.sort_values(by ='Count',ascending = False)\n",
    "Most = Year_Count[Year_Count['Count'] == max(Year_Count['Count'])]\n",
    "Most.reset_index(drop=False, inplace=True)\n",
    "print(\"Top Year:\", Most.get_value(0, 'Year'), \"With total prizes:\", Most.get_value(0, 'Count'))\n",
    "\n",
    "Least = Year_Count[Year_Count['Count'] == min(Year_Count['Count'])]\n",
    "Least.reset_index(drop=False, inplace=True)\n",
    "print(\"Least Year:\", Least.get_value(0, 'Year'), \"With total prizes:\", Least.get_value(0, 'Count'))"
   ]
  },
  {
   "cell_type": "markdown",
   "metadata": {},
   "source": [
    "### Question 8: What is the lifespan of Laureates? //to be edited "
   ]
  },
  {
   "cell_type": "code",
   "execution_count": null,
   "metadata": {},
   "outputs": [],
   "source": [
    "life_span = cleaned_nps_df.loc[(cleaned_nps_df['Birth Date'] != 'none') \n",
    "                               & (cleaned_nps_df['Death Date'] != 'none')][['Birth Date','Death Date']]\n",
    "life_span['Birth Year'] = life_span['Birth Date'].dt.year\n",
    "life_span = life_span[pd.notnull(life_span['Birth Year'])]\n",
    "\n",
    "life_span['Death Date'] = pd.to_datetime(life_span['Death Date'], format='%Y-%m-%d')\n",
    "life_span['Death Year'] = life_span['Death Date'].dt.year\n",
    "life_span['Death Year'].fillna(datetime.today().year, inplace=True)\n",
    "life_span['Life Span'] = life_span['Death Year'] - life_span['Birth Year']\n",
    "#life_span['Life Span'].sort_values(ascending=False).head(10)\n",
    "ax = sns.distplot(life_span['Life Span'], bins=30)\n",
    "plt.title('Life Span of Laureates')\n",
    "plt.show()"
   ]
  },
  {
   "cell_type": "markdown",
   "metadata": {},
   "source": [
    "### Question 9: Did anyone win noble prize more than once? "
   ]
  },
  {
   "cell_type": "code",
   "execution_count": null,
   "metadata": {},
   "outputs": [],
   "source": [
    "print(cleaned_nps_df.groupby(['Full Name','Year']).size().sort_values(ascending=False).head(1))"
   ]
  },
  {
   "cell_type": "markdown",
   "metadata": {},
   "source": [
    "No laurate in this data set won more than one nobel prize."
   ]
  },
  {
   "cell_type": "markdown",
   "metadata": {},
   "source": [
    "### Question 10: Is there a relation between the nobel prize winners?\n",
    "For such a generalized question, we must decide the aspect of correlation over which we need to examine among the data set records.\n",
    "Since there exists two types of laureates, we need to conduct two small researches for each of the `Individual` members and for each of the `Organization`s that won a noble prize."
   ]
  },
  {
   "cell_type": "markdown",
   "metadata": {},
   "source": [
    "#### `Individuals`\n",
    "We could start by a simple analysis about the approximate age of each of the records at which that individual won a prize."
   ]
  },
  {
   "cell_type": "code",
   "execution_count": null,
   "metadata": {},
   "outputs": [],
   "source": [
    "individuals_ds = cleaned_nps_df.loc[cleaned_nps_df['Laureate Type'] == 'Individual']\n",
    "count,_ = individuals_ds.shape\n",
    "total_count,_ = cleaned_nps_df.shape\n",
    "print('We are targeting ~'+ str(round(count/total_count*100))+ '% of the data set records (' + str(count)+' record).')"
   ]
  },
  {
   "cell_type": "markdown",
   "metadata": {},
   "source": [
    "We will then check if the <span style=\"color:#c7254e; padding: 2px 4px;background-color:#f9f2f4;borer-radius: 4px;font-family: Palatino Linotype;\">Age</span> column is missing any values."
   ]
  },
  {
   "cell_type": "code",
   "execution_count": null,
   "metadata": {},
   "outputs": [],
   "source": [
    "print('Total of ' + str(individuals_ds[\"Age\"].isnull().sum()) + ' missing Age attribute in records.')"
   ]
  },
  {
   "cell_type": "markdown",
   "metadata": {},
   "source": [
    "The <span style=\"color:#c7254e; padding: 2px 4px;background-color:#f9f2f4;borer-radius: 4px;font-family: Palatino Linotype;\">Age</span> can be imputed by the <span style=\"color:#c7254e; padding: 2px 4px;background-color:#f9f2f4;borer-radius: 4px;font-family: Palatino Linotype;\">Birth Date</span>, if it exists."
   ]
  },
  {
   "cell_type": "code",
   "execution_count": null,
   "metadata": {},
   "outputs": [],
   "source": [
    "missing_values_age_birth = individuals_ds.loc[(individuals_ds[\"Age\"].isnull()) & (individuals_ds[\"Birth Date\"].isnull())][['Laureate ID','Age','Birth Date']]\n",
    "missing_values_age_birth"
   ]
  },
  {
   "cell_type": "code",
   "execution_count": null,
   "metadata": {},
   "outputs": [],
   "source": [
    "count,_ = missing_values_age_birth.shape\n",
    "old_count,_ = individuals_ds.shape\n",
    "print('We are targeting ~'+ str(round(count/old_count*100))+ '% of the data set records, which can be dropped.')\n",
    "dropped_birth_date = individuals_ds.dropna(subset=['Birth Date'], how='any')\n",
    "total_count,_ = dropped_birth_date.shape\n",
    "print(str(total_count)+' of '+str(old_count)+' record.')"
   ]
  },
  {
   "cell_type": "code",
   "execution_count": null,
   "metadata": {},
   "outputs": [],
   "source": [
    "print('Total of ' + str(dropped_birth_date[\"Age\"].isnull().sum()) + ' missing Age attribute in records.')"
   ]
  },
  {
   "cell_type": "code",
   "execution_count": null,
   "metadata": {},
   "outputs": [],
   "source": [
    "plt.figure(1, figsize=(15,10))\n",
    "sns.set(style=\"ticks\",font_scale=0.85)\n",
    "plt.subplot(311, frameon=False)\n",
    "ax = sns.countplot(x=dropped_birth_date[\"Age\"].astype(dtype=int), data=individuals_ds)\n",
    "ax.set_xticklabels(ax.get_xticklabels(), rotation=45)\n",
    "plt.figure(2, figsize=(18,10))\n",
    "plt.subplot(2,2,1, frameon=False)\n",
    "ax = sns.boxplot(x=dropped_birth_date[\"Age\"].astype(dtype=int), data=individuals_ds, palette=\"Set3\")\n",
    "ax = sns.swarmplot(x=dropped_birth_date[\"Age\"].astype(dtype=int), data=individuals_ds, color=\".25\")\n",
    "plt.subplot(2, 2, 2, frameon=False)\n",
    "ax = sns.distplot(dropped_birth_date[\"Age\"])\n"
   ]
  },
  {
   "cell_type": "code",
   "execution_count": null,
   "metadata": {},
   "outputs": [],
   "source": [
    "age_column = dropped_birth_date[\"Age\"]\n",
    "std = np.std(dropped_birth_date[\"Age\"])\n",
    "mean = np.mean(dropped_birth_date[\"Age\"])\n",
    "mode = statistics.mode(dropped_birth_date[\"Age\"])\n",
    "print('Most frequent age for noble prize winners: '+ str(round(mode))+'.')\n",
    "print('Average age for individual laureates: '+ str(round(mean))+' with a standard deviation of '+str(round(std))+'.')"
   ]
  },
  {
   "cell_type": "markdown",
   "metadata": {},
   "source": [
    "We can then find out if the age has to do anything with the category each laureate has won a nobel prize in."
   ]
  },
  {
   "cell_type": "code",
   "execution_count": null,
   "metadata": {},
   "outputs": [],
   "source": [
    "plt.figure(1, figsize=(15,10))\n",
    "sns.set(style=\"ticks\",font_scale=1.1)\n",
    "plt.subplot(211, frameon=False)\n",
    "ax = sns.violinplot(x=dropped_birth_date[\"Age\"].astype(dtype=int), \n",
    "                     y=dropped_birth_date[\"Category\"],palette=\"Set3\",\n",
    "                     data=individuals_ds)\n",
    "\n",
    "# ax = sns.scatterplot(x=dropped_birth_date[\"Age\"].astype(dtype=int), \n",
    "#                      y=dropped_birth_date[\"Category\"],palette=\"Set3\",\n",
    "#                      data=individuals_ds)"
   ]
  },
  {
   "cell_type": "code",
   "execution_count": null,
   "metadata": {},
   "outputs": [],
   "source": [
    "counter = 0 \n",
    "def concat(uni):\n",
    "    return (counter, )\n",
    "\n",
    "university_nobel_orgs = cleaned_nps_df.loc[(cleaned_nps_df['Organization Name'].notnull()) & (cleaned_nps_df['Organization Name'].str.extract(\"(University)\", expand=False))]\n",
    "unique_universities = university_nobel_orgs['Organization Name']\n",
    "universities_ids = unique_universities"
   ]
  },
  {
   "cell_type": "code",
   "execution_count": null,
   "metadata": {},
   "outputs": [],
   "source": [
    "# sns.countplot(data=university_nobel_orgs['Organization Name'])"
   ]
  },
  {
   "cell_type": "code",
   "execution_count": null,
   "metadata": {},
   "outputs": [],
   "source": [
    "plt.figure(2, figsize=(15,10))\n",
    "plt.subplot(211, frameon=False)\n",
    "sns.scatterplot(x=life_span[\"Birth Date\"].dt.year, \n",
    "                y=\"Year\",\n",
    "                palette=\"Set2\",\n",
    "                data=cleaned_nps_df)\n",
    "plt.subplot(212, frameon=False)\n",
    "sns.scatterplot(x=life_span[\"Death Date\"].dt.year, \n",
    "                     y=\"Year\",\n",
    "                     hue=life_span[\"Life Span\"],\n",
    "                     data=cleaned_nps_df)"
   ]
  },
  {
   "cell_type": "markdown",
   "metadata": {},
   "source": [
    "### Question 11: What are the countries which dominate noble prize winners?"
   ]
  },
  {
   "cell_type": "code",
   "execution_count": null,
   "metadata": {},
   "outputs": [],
   "source": [
    "sns.barplot(x=cleaned_nps_df['Birth Country'].value_counts().head(10).index,y=cleaned_nps_df['Birth Country'].value_counts().head(10).values)\n",
    "plt.xticks(rotation=90)\n",
    "plt.title(' Top 10 countries that dominated noble prizes')\n",
    "plt.show()"
   ]
  },
  {
   "cell_type": "markdown",
   "metadata": {},
   "source": [
    "As seen in the results above USA scores the highest records in noble prizes (259) followed by the United Kingdom (85) then Germany (61) from this huge difference we can easily tell that USA is dominating. "
   ]
  },
  {
   "cell_type": "markdown",
   "metadata": {},
   "source": [
    "### Question 12: What are the cities where most of noble winners were born?"
   ]
  },
  {
   "cell_type": "code",
   "execution_count": null,
   "metadata": {},
   "outputs": [],
   "source": [
    "city=cleaned_nps_df['Birth City'].value_counts().head(10)\n",
    "sns.barplot(x=city.index,y=city.values)\n",
    "plt.xticks(rotation=90)\n",
    "plt.title('Top 10 Cities in which nobel prize winners were born')\n",
    "plt.show()"
   ]
  },
  {
   "cell_type": "markdown",
   "metadata": {},
   "source": [
    "New York is one of the cities with the highest number of noble prize winners of 45 then comes Paris with 25 and London with 19."
   ]
  },
  {
   "cell_type": "markdown",
   "metadata": {},
   "source": [
    "### Question 13: How is USA dominating in winning noble prizes over the past dacades?"
   ]
  },
  {
   "cell_type": "code",
   "execution_count": null,
   "metadata": {},
   "outputs": [],
   "source": [
    "cleaned_nps_df['usa_winners'] = cleaned_nps_df['Birth Country']==\"United States of America\"\n",
    "cleaned_nps_df['decade']= (np.floor(cleaned_nps_df['Year']/10)*10).astype(int)\n",
    "meanwinnersusa = cleaned_nps_df.groupby('decade',as_index=False)['usa_winners'].mean()\n",
    "ax = sns.lineplot(data=meanwinnersusa, x='decade',y='usa_winners')\n",
    "ax.yaxis.set_major_formatter(PercentFormatter(1.0))\n"
   ]
  },
  {
   "cell_type": "code",
   "execution_count": null,
   "metadata": {},
   "outputs": [],
   "source": []
  }
 ],
 "metadata": {
  "celltoolbar": "Raw Cell Format",
  "kernelspec": {
   "display_name": "Python 3",
   "language": "python",
   "name": "python3"
  },
  "language_info": {
   "codemirror_mode": {
    "name": "ipython",
    "version": 3
   },
   "file_extension": ".py",
   "mimetype": "text/x-python",
   "name": "python",
   "nbconvert_exporter": "python",
   "pygments_lexer": "ipython3",
   "version": "3.6.8"
  }
 },
 "nbformat": 4,
 "nbformat_minor": 2
}
