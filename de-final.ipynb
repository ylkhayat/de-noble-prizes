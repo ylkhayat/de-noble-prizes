{
 "cells": [
  {
   "cell_type": "markdown",
   "metadata": {},
   "source": [
    "## CSEN 1095 - Data Engineering\n",
    "#### _German University in Cairo_\n",
    "\n",
    "Collaborators:\n",
    "- Nada Hammouda\n",
    "- Aya Ibrahim | 37-1574\n",
    "- Habiba ElHussein\n",
    "- Youssef Tarek | 37-3865"
   ]
  },
  {
   "cell_type": "markdown",
   "metadata": {},
   "source": [
    "<div style=\"background-color:#159957;text-align:center; vertical-align: middle; padding:40px 0;color:rgb(255,255,255);\">\n",
    "    <h1>Visual History of Nobel Prize Winners</h1>\n",
    "</div>\n",
    "\n"
   ]
  },
  {
   "cell_type": "markdown",
   "metadata": {},
   "source": [
    "- Project Website: https://yousseftarekkh.github.io/de-noble-prizes/\n",
    "- Github: https://github.com/yousseftarekkh/de-noble-prizes/"
   ]
  },
  {
   "cell_type": "code",
   "execution_count": 1,
   "metadata": {},
   "outputs": [
    {
     "ename": "FileNotFoundError",
     "evalue": "[Errno 2] No such file or directory: '/home/youssef/anaconda3/share/proj/epsg'",
     "output_type": "error",
     "traceback": [
      "\u001b[0;31m---------------------------------------------------------------------------\u001b[0m",
      "\u001b[0;31mFileNotFoundError\u001b[0m                         Traceback (most recent call last)",
      "\u001b[0;32m<ipython-input-1-03c6c4a39e77>\u001b[0m in \u001b[0;36m<module>\u001b[0;34m\u001b[0m\n\u001b[1;32m      1\u001b[0m \u001b[0;32mimport\u001b[0m \u001b[0mpandas\u001b[0m \u001b[0;32mas\u001b[0m \u001b[0mpd\u001b[0m\u001b[0;34m\u001b[0m\u001b[0;34m\u001b[0m\u001b[0m\n\u001b[0;32m----> 2\u001b[0;31m \u001b[0;32mfrom\u001b[0m \u001b[0mmpl_toolkits\u001b[0m\u001b[0;34m.\u001b[0m\u001b[0mbasemap\u001b[0m \u001b[0;32mimport\u001b[0m \u001b[0mBasemap\u001b[0m\u001b[0;34m\u001b[0m\u001b[0;34m\u001b[0m\u001b[0m\n\u001b[0m\u001b[1;32m      3\u001b[0m \u001b[0;32mimport\u001b[0m \u001b[0mmatplotlib\u001b[0m\u001b[0;34m.\u001b[0m\u001b[0mpyplot\u001b[0m \u001b[0;32mas\u001b[0m \u001b[0mplt\u001b[0m\u001b[0;34m\u001b[0m\u001b[0;34m\u001b[0m\u001b[0m\n\u001b[1;32m      4\u001b[0m \u001b[0;34m\u001b[0m\u001b[0m\n\u001b[1;32m      5\u001b[0m \u001b[0;31m# Set the dimension of the figure\u001b[0m\u001b[0;34m\u001b[0m\u001b[0;34m\u001b[0m\u001b[0;34m\u001b[0m\u001b[0m\n",
      "\u001b[0;32m~/anaconda3/lib/python3.7/site-packages/mpl_toolkits/basemap/__init__.py\u001b[0m in \u001b[0;36m<module>\u001b[0;34m\u001b[0m\n\u001b[1;32m    154\u001b[0m \u001b[0;31m# create dictionary that maps epsg codes to Basemap kwargs.\u001b[0m\u001b[0;34m\u001b[0m\u001b[0;34m\u001b[0m\u001b[0;34m\u001b[0m\u001b[0m\n\u001b[1;32m    155\u001b[0m \u001b[0mpyproj_datadir\u001b[0m \u001b[0;34m=\u001b[0m \u001b[0mos\u001b[0m\u001b[0;34m.\u001b[0m\u001b[0menviron\u001b[0m\u001b[0;34m[\u001b[0m\u001b[0;34m'PROJ_LIB'\u001b[0m\u001b[0;34m]\u001b[0m\u001b[0;34m\u001b[0m\u001b[0;34m\u001b[0m\u001b[0m\n\u001b[0;32m--> 156\u001b[0;31m \u001b[0mepsgf\u001b[0m \u001b[0;34m=\u001b[0m \u001b[0mopen\u001b[0m\u001b[0;34m(\u001b[0m\u001b[0mos\u001b[0m\u001b[0;34m.\u001b[0m\u001b[0mpath\u001b[0m\u001b[0;34m.\u001b[0m\u001b[0mjoin\u001b[0m\u001b[0;34m(\u001b[0m\u001b[0mpyproj_datadir\u001b[0m\u001b[0;34m,\u001b[0m\u001b[0;34m'epsg'\u001b[0m\u001b[0;34m)\u001b[0m\u001b[0;34m)\u001b[0m\u001b[0;34m\u001b[0m\u001b[0;34m\u001b[0m\u001b[0m\n\u001b[0m\u001b[1;32m    157\u001b[0m \u001b[0mepsg_dict\u001b[0m\u001b[0;34m=\u001b[0m\u001b[0;34m{\u001b[0m\u001b[0;34m}\u001b[0m\u001b[0;34m\u001b[0m\u001b[0;34m\u001b[0m\u001b[0m\n\u001b[1;32m    158\u001b[0m \u001b[0;32mfor\u001b[0m \u001b[0mline\u001b[0m \u001b[0;32min\u001b[0m \u001b[0mepsgf\u001b[0m\u001b[0;34m:\u001b[0m\u001b[0;34m\u001b[0m\u001b[0;34m\u001b[0m\u001b[0m\n",
      "\u001b[0;31mFileNotFoundError\u001b[0m: [Errno 2] No such file or directory: '/home/youssef/anaconda3/share/proj/epsg'"
     ]
    }
   ],
   "source": [
    "import pandas as pd\n",
    "from mpl_toolkits.basemap import Basemap\n",
    "import matplotlib.pyplot as plt\n",
    " \n",
    "# Set the dimension of the figure\n",
    "my_dpi=96\n",
    "plt.figure(figsize=(2600/my_dpi, 1800/my_dpi), dpi=my_dpi)\n",
    " \n",
    "# read the data (on the web)\n",
    "data = pd.read_csv('http://python-graph-gallery.com/wp-content/uploads/TweetSurfData.csv', sep=\";\")\n",
    " \n",
    "# Make the background map\n",
    "m=Basemap(llcrnrlon=-180, llcrnrlat=-65,urcrnrlon=180,urcrnrlat=80)\n",
    "m.drawmapboundary(fill_color='#A6CAE0', linewidth=0)\n",
    "m.fillcontinents(color='grey', alpha=0.3)\n",
    "m.drawcoastlines(linewidth=0.1, color=\"white\")\n",
    " \n",
    "# prepare a color for each point depending on the continent.\n",
    "data['labels_enc'] = pd.factorize(data['homecontinent'])[0]\n",
    " \n",
    "# Add a point per position\n",
    "m.scatter(data['homelon'], data['homelat'], s=data['n']/6, alpha=0.4, c=data['labels_enc'], cmap=\"Set1\")\n",
    " \n",
    "# copyright and source data info\n",
    "plt.text( -170, -58,'Where people talk about #Surf\\n\\nData collected on twitter by @R_Graph_Gallery during 300 days\\nPlot realized with Python and the Basemap library', ha='left', va='bottom', size=9, color='#555555' )\n",
    " \n",
    "# Save as png\n",
    "plt.savefig('./data/#315_Tweet_Surf_Bubble_map1.png', bbox_inches='tight')\n"
   ]
  },
  {
   "cell_type": "markdown",
   "metadata": {},
   "source": [
    "## Overview & Motivation\n",
    "\n",
    "This project aims to apply several steps of data refactoring and cleaning in order to visually analyze and introduce potential data fixes to the acquired data set. Such steps can help further identify relations, recognize hidden patterns in different countries, pay attention to trending categories and generally reach conclusions and answers about many proposed questions among the data records which in our case represents **<span style=\"color:brown\">Nobel Prize winners</span>**.\n",
    "\n",
    "The following research will be held in a **Q&A** driven structure; meaning we will propose potential questions and put effort into trying to derive answers and conclusions.\n",
    "\n",
    "Initially, we used the following data set found at https://www.datacamp.com/projects/441. Additional data sets may be used in order to succesfully form a tidy data with less missing values and for the sake of adding more valuable records to the existing data set. All used references will be included in the next section."
   ]
  },
  {
   "cell_type": "markdown",
   "metadata": {},
   "source": [
    "## Related Work\n",
    "\n",
    "We have been influenced by a lot of work after a research we conducted on this particular topic and we found the following sites interesting for a certain cause.\n",
    "- https://www.datacamp.com/projects/441 - The mentioned project tasks included some interesting questions we needed to find answers to, thus we decided to re-engineer the data to properly formulate answers.\n",
    "- https://www.kaggle.com/devisangeetha/nobel-prize-winners-story - Inspired on how well and organized that research was and the outcome that this research helped discovering.\n",
    "- https://www.nobelprize.org/prizes/facts/nobel-prize-facts/ - Website contains a large bulk of Nobel Prize winners facts including both interesting and shocking events in the history."
   ]
  },
  {
   "cell_type": "markdown",
   "metadata": {},
   "source": [
    "## Questions\n",
    "\n",
    "The main questions that motivated that project were:\n",
    "    1. \n",
    "    1. What are the categories that hold the most noble prizes ?\n",
    "    2. Who are the youngest and the oldest noble prize winners ?\n",
    "    3. Who is the first female to win a noble prize ?\n",
    "    4. Is there a relation between the nobel prize winners?\n",
    "    5. \n"
   ]
  },
  {
   "cell_type": "markdown",
   "metadata": {},
   "source": [
    "Modules we will be using are listed bellow."
   ]
  },
  {
   "cell_type": "code",
   "execution_count": 4,
   "metadata": {},
   "outputs": [],
   "source": [
    "import pandas as pd\n",
    "import numpy as np\n",
    "import matplotlib.pyplot as plt"
   ]
  },
  {
   "cell_type": "markdown",
   "metadata": {},
   "source": [
    "In order to get a better look at the data, we will preview a sample to visually analyze the attributes assigned to each record. "
   ]
  },
  {
   "cell_type": "code",
   "execution_count": 5,
   "metadata": {},
   "outputs": [
    {
     "data": {
      "text/html": [
       "<div>\n",
       "<style scoped>\n",
       "    .dataframe tbody tr th:only-of-type {\n",
       "        vertical-align: middle;\n",
       "    }\n",
       "\n",
       "    .dataframe tbody tr th {\n",
       "        vertical-align: top;\n",
       "    }\n",
       "\n",
       "    .dataframe thead th {\n",
       "        text-align: right;\n",
       "    }\n",
       "</style>\n",
       "<table border=\"1\" class=\"dataframe\">\n",
       "  <thead>\n",
       "    <tr style=\"text-align: right;\">\n",
       "      <th></th>\n",
       "      <th>Year</th>\n",
       "      <th>Category</th>\n",
       "      <th>Prize</th>\n",
       "      <th>Motivation</th>\n",
       "      <th>Prize Share</th>\n",
       "      <th>Laureate ID</th>\n",
       "      <th>Laureate Type</th>\n",
       "      <th>Full Name</th>\n",
       "      <th>Birth Date</th>\n",
       "      <th>Birth City</th>\n",
       "      <th>Birth Country</th>\n",
       "      <th>Sex</th>\n",
       "      <th>Organization Name</th>\n",
       "      <th>Organization City</th>\n",
       "      <th>Organization Country</th>\n",
       "      <th>Death Date</th>\n",
       "      <th>Death City</th>\n",
       "      <th>Death Country</th>\n",
       "    </tr>\n",
       "  </thead>\n",
       "  <tbody>\n",
       "    <tr>\n",
       "      <th>105</th>\n",
       "      <td>1921</td>\n",
       "      <td>Peace</td>\n",
       "      <td>The Nobel Peace Prize 1921</td>\n",
       "      <td>NaN</td>\n",
       "      <td>1/2</td>\n",
       "      <td>485</td>\n",
       "      <td>Individual</td>\n",
       "      <td>Karl Hjalmar Branting</td>\n",
       "      <td>1860-11-23</td>\n",
       "      <td>Stockholm</td>\n",
       "      <td>Sweden</td>\n",
       "      <td>Male</td>\n",
       "      <td>NaN</td>\n",
       "      <td>NaN</td>\n",
       "      <td>NaN</td>\n",
       "      <td>1925-02-24</td>\n",
       "      <td>Stockholm</td>\n",
       "      <td>Sweden</td>\n",
       "    </tr>\n",
       "    <tr>\n",
       "      <th>545</th>\n",
       "      <td>1981</td>\n",
       "      <td>Physics</td>\n",
       "      <td>The Nobel Prize in Physics 1981</td>\n",
       "      <td>\"for their contribution to the development of ...</td>\n",
       "      <td>1/4</td>\n",
       "      <td>119</td>\n",
       "      <td>Individual</td>\n",
       "      <td>Arthur Leonard Schawlow</td>\n",
       "      <td>1921-05-05</td>\n",
       "      <td>Mount Verno, NY</td>\n",
       "      <td>United States of America</td>\n",
       "      <td>Male</td>\n",
       "      <td>Stanford University</td>\n",
       "      <td>Stanford, CA</td>\n",
       "      <td>United States of America</td>\n",
       "      <td>1999-04-28</td>\n",
       "      <td>Palo Alto, CA</td>\n",
       "      <td>United States of America</td>\n",
       "    </tr>\n",
       "    <tr>\n",
       "      <th>742</th>\n",
       "      <td>2000</td>\n",
       "      <td>Physics</td>\n",
       "      <td>The Nobel Prize in Physics 2000</td>\n",
       "      <td>\"for basic work on information and communicati...</td>\n",
       "      <td>1/4</td>\n",
       "      <td>727</td>\n",
       "      <td>Individual</td>\n",
       "      <td>Herbert Kroemer</td>\n",
       "      <td>1928-08-25</td>\n",
       "      <td>Weimar</td>\n",
       "      <td>Germany</td>\n",
       "      <td>Male</td>\n",
       "      <td>University of California</td>\n",
       "      <td>Santa Barbara, CA</td>\n",
       "      <td>United States of America</td>\n",
       "      <td>NaN</td>\n",
       "      <td>NaN</td>\n",
       "      <td>NaN</td>\n",
       "    </tr>\n",
       "  </tbody>\n",
       "</table>\n",
       "</div>"
      ],
      "text/plain": [
       "     Year Category                            Prize  \\\n",
       "105  1921    Peace       The Nobel Peace Prize 1921   \n",
       "545  1981  Physics  The Nobel Prize in Physics 1981   \n",
       "742  2000  Physics  The Nobel Prize in Physics 2000   \n",
       "\n",
       "                                            Motivation Prize Share  \\\n",
       "105                                                NaN         1/2   \n",
       "545  \"for their contribution to the development of ...         1/4   \n",
       "742  \"for basic work on information and communicati...         1/4   \n",
       "\n",
       "     Laureate ID Laureate Type                Full Name  Birth Date  \\\n",
       "105          485    Individual    Karl Hjalmar Branting  1860-11-23   \n",
       "545          119    Individual  Arthur Leonard Schawlow  1921-05-05   \n",
       "742          727    Individual          Herbert Kroemer  1928-08-25   \n",
       "\n",
       "          Birth City             Birth Country   Sex  \\\n",
       "105        Stockholm                    Sweden  Male   \n",
       "545  Mount Verno, NY  United States of America  Male   \n",
       "742           Weimar                   Germany  Male   \n",
       "\n",
       "            Organization Name  Organization City      Organization Country  \\\n",
       "105                       NaN                NaN                       NaN   \n",
       "545       Stanford University       Stanford, CA  United States of America   \n",
       "742  University of California  Santa Barbara, CA  United States of America   \n",
       "\n",
       "     Death Date     Death City             Death Country  \n",
       "105  1925-02-24      Stockholm                    Sweden  \n",
       "545  1999-04-28  Palo Alto, CA  United States of America  \n",
       "742         NaN            NaN                       NaN  "
      ]
     },
     "execution_count": 5,
     "metadata": {},
     "output_type": "execute_result"
    }
   ],
   "source": [
    "nps_df = pd.read_csv(\"data/archive.csv\")\n",
    "nps_df.sample(3)"
   ]
  },
  {
   "cell_type": "markdown",
   "metadata": {},
   "source": [
    "After having a look at the columns, we need to examine some columns of concerns which could help us in picking the right methods to perform data cleaning."
   ]
  },
  {
   "cell_type": "code",
   "execution_count": 6,
   "metadata": {},
   "outputs": [],
   "source": [
    "def renameNan(n):\n",
    "    key, value = n\n",
    "    if key != key:\n",
    "        return (\"none\",value)\n",
    "    return (key, value)"
   ]
  },
  {
   "cell_type": "code",
   "execution_count": 7,
   "metadata": {},
   "outputs": [
    {
     "data": {
      "image/png": "[encoded data removed]",
      "text/plain": [
       "<Figure size 432x288 with 3 Axes>"
      ]
     },
     "metadata": {
      "needs_background": "light"
     },
     "output_type": "display_data"
    }
   ],
   "source": [
    "ind = np.arange(2)\n",
    "width = 0.35\n",
    "fig, axs = plt.subplots(1,3)\n",
    "items = nps_df['Laureate Type'].value_counts(dropna=False)\n",
    "laureates_types = list(items.items())\n",
    "items = nps_df['Sex'].value_counts(dropna=False)\n",
    "items_na = nps_df['Sex'].isnull().sum(axis = 0)\n",
    "gender = list(map(renameNan, items.items()))\n",
    "laureates_types_count = [[ i for i, j in laureates_types ], \n",
    "       [ j for i, j in laureates_types ]] \n",
    "gender_count = [[ i for i, j in gender ], \n",
    "       [ j for i, j in gender ]]\n",
    "axs[0].bar(ind, laureates_types_count[1], width,color=\"#af5d62\", tick_label = laureates_types_count[0])\n",
    "axs[0].set_title(\"Laureate Type\")\n",
    "axs[0].textcoords=\"offset points\"\n",
    "\n",
    "axs[1].axis('off')\n",
    "ind = np.arange(3)\n",
    "width = 0.35\n",
    "axs[2].bar(ind, gender_count[1], width, color=\"#1b9c84\", tick_label = gender_count[0])\n",
    "axs[2].set_title(\"Gender\")\n",
    "\n",
    "\n",
    "plt.show()"
   ]
  },
  {
   "cell_type": "markdown",
   "metadata": {},
   "source": [
    "From the above graphs, we see that the data is not entirely consistent since the records contain both `Individual` and `Organization` values for the <span style=\"color:#c7254e; padding: 2px 4px;background-color:#f9f2f4;borer-radius: 4px;\">Laureate Type</span> winning the nobel prizes. Moreover indicated by the <span style=\"color:#c7254e; padding: 2px 4px;background-color:#f9f2f4;borer-radius: 4px;\">Sex</span> column which denotes that the data contains attribute variations which are crucial for some of the questions.\n",
    "\n",
    "Next step for our data cleaning process is to strictly indicate that some of the missing values are not missing due to falsified data nor noise existence, simply irrelevant attribute for certain records. Thus we must inspect the occurence of the missing values in each column and re-engineer the entire column if the missing value exceeded a significant percentage from the data set."
   ]
  },
  {
   "cell_type": "code",
   "execution_count": 8,
   "metadata": {},
   "outputs": [
    {
     "data": {
      "text/plain": [
       "Motivation               88\n",
       "Birth Date               29\n",
       "Birth City               28\n",
       "Birth Country            26\n",
       "Sex                      26\n",
       "Organization Name       247\n",
       "Organization City       253\n",
       "Organization Country    253\n",
       "Death Date              352\n",
       "Death City              370\n",
       "Death Country           364\n",
       "dtype: int64"
      ]
     },
     "execution_count": 8,
     "metadata": {},
     "output_type": "execute_result"
    }
   ],
   "source": [
    "missing_values_count = nps_df.isnull().sum()\n",
    "missing_values_count[missing_values_count > 0]"
   ]
  },
  {
   "cell_type": "markdown",
   "metadata": {},
   "source": [
    "Apparently, multiple columns include missing values. Thus we will calculate the percentage of the missing values among the entire data set."
   ]
  },
  {
   "cell_type": "code",
   "execution_count": 9,
   "metadata": {},
   "outputs": [
    {
     "name": "stdout",
     "output_type": "stream",
     "text": [
      "12.0%\n"
     ]
    }
   ],
   "source": [
    "total_cells_nfl = np.product(nps_df.shape) \n",
    "total_missing_nfl = missing_values_count.sum()\n",
    "\n",
    "percentage_missign_values_nfl = (total_missing_nfl/total_cells_nfl) * 100\n",
    "print(str(percentage_missign_values_nfl.round())+'%')"
   ]
  },
  {
   "cell_type": "code",
   "execution_count": 10,
   "metadata": {},
   "outputs": [
    {
     "data": {
      "text/html": [
       "<div>\n",
       "<style scoped>\n",
       "    .dataframe tbody tr th:only-of-type {\n",
       "        vertical-align: middle;\n",
       "    }\n",
       "\n",
       "    .dataframe tbody tr th {\n",
       "        vertical-align: top;\n",
       "    }\n",
       "\n",
       "    .dataframe thead th {\n",
       "        text-align: right;\n",
       "    }\n",
       "</style>\n",
       "<table border=\"1\" class=\"dataframe\">\n",
       "  <thead>\n",
       "    <tr style=\"text-align: right;\">\n",
       "      <th></th>\n",
       "      <th>Year</th>\n",
       "      <th>Category</th>\n",
       "      <th>Prize</th>\n",
       "      <th>Motivation</th>\n",
       "      <th>Prize Share</th>\n",
       "      <th>Laureate ID</th>\n",
       "      <th>Laureate Type</th>\n",
       "      <th>Full Name</th>\n",
       "      <th>Birth Date</th>\n",
       "      <th>Birth City</th>\n",
       "      <th>Birth Country</th>\n",
       "      <th>Sex</th>\n",
       "      <th>Organization Name</th>\n",
       "      <th>Organization City</th>\n",
       "      <th>Organization Country</th>\n",
       "      <th>Death Date</th>\n",
       "      <th>Death City</th>\n",
       "      <th>Death Country</th>\n",
       "    </tr>\n",
       "  </thead>\n",
       "  <tbody>\n",
       "    <tr>\n",
       "      <th>295</th>\n",
       "      <td>1954</td>\n",
       "      <td>Peace</td>\n",
       "      <td>The Nobel Peace Prize 1954</td>\n",
       "      <td>NaN</td>\n",
       "      <td>1/1</td>\n",
       "      <td>515</td>\n",
       "      <td>Organization</td>\n",
       "      <td>Office of the United Nations High Commissioner...</td>\n",
       "      <td>NaN</td>\n",
       "      <td>NaN</td>\n",
       "      <td>NaN</td>\n",
       "      <td>NaN</td>\n",
       "      <td>NaN</td>\n",
       "      <td>NaN</td>\n",
       "      <td>NaN</td>\n",
       "      <td>NaN</td>\n",
       "      <td>NaN</td>\n",
       "      <td>NaN</td>\n",
       "    </tr>\n",
       "    <tr>\n",
       "      <th>728</th>\n",
       "      <td>1999</td>\n",
       "      <td>Peace</td>\n",
       "      <td>The Nobel Peace Prize 1999</td>\n",
       "      <td>\"in recognition of the organization's pioneeri...</td>\n",
       "      <td>1/1</td>\n",
       "      <td>568</td>\n",
       "      <td>Organization</td>\n",
       "      <td>Médecins Sans Frontières</td>\n",
       "      <td>NaN</td>\n",
       "      <td>NaN</td>\n",
       "      <td>NaN</td>\n",
       "      <td>NaN</td>\n",
       "      <td>NaN</td>\n",
       "      <td>NaN</td>\n",
       "      <td>NaN</td>\n",
       "      <td>NaN</td>\n",
       "      <td>NaN</td>\n",
       "      <td>NaN</td>\n",
       "    </tr>\n",
       "    <tr>\n",
       "      <th>222</th>\n",
       "      <td>1944</td>\n",
       "      <td>Peace</td>\n",
       "      <td>The Nobel Peace Prize 1944</td>\n",
       "      <td>NaN</td>\n",
       "      <td>1/1</td>\n",
       "      <td>482</td>\n",
       "      <td>Organization</td>\n",
       "      <td>Comité international de la Croix Rouge (Intern...</td>\n",
       "      <td>NaN</td>\n",
       "      <td>NaN</td>\n",
       "      <td>NaN</td>\n",
       "      <td>NaN</td>\n",
       "      <td>NaN</td>\n",
       "      <td>NaN</td>\n",
       "      <td>NaN</td>\n",
       "      <td>NaN</td>\n",
       "      <td>NaN</td>\n",
       "      <td>NaN</td>\n",
       "    </tr>\n",
       "  </tbody>\n",
       "</table>\n",
       "</div>"
      ],
      "text/plain": [
       "     Year Category                       Prize  \\\n",
       "295  1954    Peace  The Nobel Peace Prize 1954   \n",
       "728  1999    Peace  The Nobel Peace Prize 1999   \n",
       "222  1944    Peace  The Nobel Peace Prize 1944   \n",
       "\n",
       "                                            Motivation Prize Share  \\\n",
       "295                                                NaN         1/1   \n",
       "728  \"in recognition of the organization's pioneeri...         1/1   \n",
       "222                                                NaN         1/1   \n",
       "\n",
       "     Laureate ID Laureate Type  \\\n",
       "295          515  Organization   \n",
       "728          568  Organization   \n",
       "222          482  Organization   \n",
       "\n",
       "                                             Full Name Birth Date Birth City  \\\n",
       "295  Office of the United Nations High Commissioner...        NaN        NaN   \n",
       "728                           Médecins Sans Frontières        NaN        NaN   \n",
       "222  Comité international de la Croix Rouge (Intern...        NaN        NaN   \n",
       "\n",
       "    Birth Country  Sex Organization Name Organization City  \\\n",
       "295           NaN  NaN               NaN               NaN   \n",
       "728           NaN  NaN               NaN               NaN   \n",
       "222           NaN  NaN               NaN               NaN   \n",
       "\n",
       "    Organization Country Death Date Death City Death Country  \n",
       "295                  NaN        NaN        NaN           NaN  \n",
       "728                  NaN        NaN        NaN           NaN  \n",
       "222                  NaN        NaN        NaN           NaN  "
      ]
     },
     "execution_count": 10,
     "metadata": {},
     "output_type": "execute_result"
    }
   ],
   "source": [
    "nps_df[nps_df['Sex'].isnull()].sample(3)"
   ]
  },
  {
   "cell_type": "markdown",
   "metadata": {},
   "source": [
    "Laureate Types can have more than one value."
   ]
  },
  {
   "cell_type": "code",
   "execution_count": null,
   "metadata": {},
   "outputs": [],
   "source": []
  },
  {
   "cell_type": "markdown",
   "metadata": {},
   "source": [
    "Changing the null values of the <span style=\"color:#c7254e; padding: 2px 4px;background-color:#f9f2f4;borer-radius: 4px;\">Birth Date</span> column to `none` as it does not exist\n",
    "\n",
    "Changing the null values of the <span style=\"color:#c7254e; padding: 2px 4px;background-color:#f9f2f4;borer-radius: 4px;\">Birth City</span> column to `none` as it does not exist\n",
    "\n",
    "Changing the null values of the <span style=\"color:#c7254e; padding: 2px 4px;background-color:#f9f2f4;borer-radius: 4px;\">Birth Country</span> column to `none` as it does not exist"
   ]
  },
  {
   "cell_type": "code",
   "execution_count": 11,
   "metadata": {},
   "outputs": [
    {
     "name": "stdout",
     "output_type": "stream",
     "text": [
      "24     Institut de droit international (Institute of ...\n",
      "61     Bureau international permanent de la Paix (Per...\n",
      "90     Comité international de la Croix Rouge (Intern...\n",
      "206    Office international Nansen pour les Réfugiés ...\n",
      "222    Comité international de la Croix Rouge (Intern...\n",
      "244                Friends Service Council (The Quakers)\n",
      "245     American Friends Service Committee (The Quakers)\n",
      "295    Office of the United Nations High Commissioner...\n",
      "365    Comité international de la Croix Rouge (Intern...\n",
      "366    Ligue des Sociétés de la Croix-Rouge (League o...\n",
      "383              United Nations Children's Fund (UNICEF)\n",
      "416           International Labour Organization (I.L.O.)\n",
      "498                                Amnesty International\n",
      "543    Office of the United Nations High Commissioner...\n",
      "578    International Physicians for the Prevention of...\n",
      "610                   United Nations Peacekeeping Forces\n",
      "682     Pugwash Conferences on Science and World Affairs\n",
      "705       International Campaign to Ban Landmines (ICBL)\n",
      "728                             Médecins Sans Frontières\n",
      "754                                United Nations (U.N.)\n",
      "808            International Atomic Energy Agency (IAEA)\n",
      "821                                         Grameen Bank\n",
      "833     Intergovernmental Panel on Climate Change (IPCC)\n",
      "909                                  European Union (EU)\n",
      "927    Organisation for the Prohibition of Chemical W...\n",
      "955                            National Dialogue Quartet\n",
      "Name: Full Name, dtype: object\n"
     ]
    },
    {
     "data": {
      "text/plain": [
       "Motivation               88\n",
       "Birth Date                3\n",
       "Birth City                2\n",
       "Organization Name       247\n",
       "Organization City       253\n",
       "Organization Country    253\n",
       "Death Date              352\n",
       "Death City              370\n",
       "Death Country           364\n",
       "dtype: int64"
      ]
     },
     "execution_count": 11,
     "metadata": {},
     "output_type": "execute_result"
    }
   ],
   "source": [
    "cleaned_nps_df = nps_df.copy()\n",
    "\n",
    "cleaned_nps_df.loc[cleaned_nps_df['Sex'].isnull() & (cleaned_nps_df['Laureate Type'] == 'Organization'), 'Sex'] = 'Organization'\n",
    "print(cleaned_nps_df[cleaned_nps_df['Sex']== 'Organization']['Full Name'])\n",
    "\n",
    "cleaned_nps_df.loc[cleaned_nps_df['Birth Date'].isnull() & (cleaned_nps_df['Laureate Type'] == 'Organization') & \n",
    "         (cleaned_nps_df['Sex'] == 'Organization'), 'Birth Date'] = 'none'\n",
    "\n",
    "\n",
    "cleaned_nps_df.loc[cleaned_nps_df['Birth City'].isnull() & (cleaned_nps_df['Laureate Type'] == 'Organization') & \n",
    "         (cleaned_nps_df['Sex'] == 'Organization'), 'Birth City'] = 'none'\n",
    "\n",
    "\n",
    "\n",
    "cleaned_nps_df.loc[cleaned_nps_df['Birth Country'].isnull() & (cleaned_nps_df['Laureate Type'] == 'Organization') & \n",
    "         (cleaned_nps_df['Sex'] == 'Organization'), 'Birth Country'] = 'none'\n",
    "\n",
    "missing_values_count = cleaned_nps_df.isnull().sum()\n",
    "missing_values_count[missing_values_count > 0]"
   ]
  },
  {
   "cell_type": "code",
   "execution_count": 12,
   "metadata": {},
   "outputs": [
    {
     "data": {
      "text/plain": [
       "array([nan, 'Tunis'], dtype=object)"
      ]
     },
     "execution_count": 12,
     "metadata": {},
     "output_type": "execute_result"
    }
   ],
   "source": [
    "\n",
    "cleaned_nps_df.loc[cleaned_nps_df['Organization Country'].isnull(), 'Organization City'].unique()"
   ]
  },
  {
   "cell_type": "code",
   "execution_count": 13,
   "metadata": {},
   "outputs": [
    {
     "data": {
      "text/plain": [
       "Motivation               88\n",
       "Birth Date                3\n",
       "Birth City                2\n",
       "Organization Name       247\n",
       "Organization City       253\n",
       "Organization Country    252\n",
       "Death Date              352\n",
       "Death City              370\n",
       "Death Country           364\n",
       "dtype: int64"
      ]
     },
     "execution_count": 13,
     "metadata": {},
     "output_type": "execute_result"
    }
   ],
   "source": [
    "cleaned_nps_df.loc[cleaned_nps_df['Organization City'] == 'Tunis', 'Organization Country'] = 'Tunis'\n",
    "\n",
    "missing_values_count = cleaned_nps_df.isnull().sum()\n",
    "missing_values_count[missing_values_count > 0]"
   ]
  },
  {
   "cell_type": "markdown",
   "metadata": {},
   "source": [
    "Imputing the <span style=\"color:#c7254e; padding: 2px 4px;background-color:#f9f2f4;borer-radius: 4px;\">Organization Name</span> from <span style=\"color:#c7254e; padding: 2px 4px;background-color:#f9f2f4;borer-radius: 4px;\">Full Name</span> based on the fact that the name of organization is the <span style=\"color:#c7254e; padding: 2px 4px;background-color:#f9f2f4;borer-radius: 4px;\">Full Name</span> when the laureate type is <span style=\"color:#c7254e; padding: 2px 4px;background-color:#f9f2f4;borer-radius: 4px;\">Organization</span>"
   ]
  },
  {
   "cell_type": "code",
   "execution_count": 14,
   "metadata": {},
   "outputs": [
    {
     "data": {
      "text/plain": [
       "Motivation               88\n",
       "Birth Date                3\n",
       "Birth City                2\n",
       "Organization Name       221\n",
       "Organization City       253\n",
       "Organization Country    252\n",
       "Death Date              352\n",
       "Death City              370\n",
       "Death Country           364\n",
       "dtype: int64"
      ]
     },
     "execution_count": 14,
     "metadata": {},
     "output_type": "execute_result"
    }
   ],
   "source": [
    "cleaned_nps_df.loc[cleaned_nps_df['Organization Name'].isnull() & (cleaned_nps_df['Laureate Type'] == 'Organization') &\n",
    "         (cleaned_nps_df['Sex'] == 'Organization'), 'Organization Name'] = cleaned_nps_df['Full Name']\n",
    "\n",
    "missing_values_count = cleaned_nps_df.isnull().sum()\n",
    "missing_values_count[missing_values_count > 0]"
   ]
  },
  {
   "cell_type": "markdown",
   "metadata": {},
   "source": [
    "### Question 1: What are the categories that hold the most noble prizes ?\n",
    "As seen below to answer this question, the data is grouped by the types of categories offered for noble prizes and then the grouped data is sorted in a descending order, so we can see that the field of medicine holds the most noble prizes followed by the field of physics."
   ]
  },
  {
   "cell_type": "code",
   "execution_count": 15,
   "metadata": {},
   "outputs": [
    {
     "name": "stdout",
     "output_type": "stream",
     "text": [
      "Category\n",
      "Medicine      227\n",
      "Physics       222\n",
      "Chemistry     194\n",
      "Peace         130\n",
      "Literature    113\n",
      "Economics      83\n",
      "dtype: int64\n"
     ]
    },
    {
     "data": {
      "image/png": "[encoded data removed]",
      "text/plain": [
       "<Figure size 432x288 with 1 Axes>"
      ]
     },
     "metadata": {
      "needs_background": "light"
     },
     "output_type": "display_data"
    }
   ],
   "source": [
    "print(cleaned_nps_df.groupby(['Category']).size().sort_values(ascending=False))\n",
    "cleaned_nps_df.groupby(['Category']).size().plot(kind='bar')\n",
    "plt.show()"
   ]
  },
  {
   "cell_type": "markdown",
   "metadata": {},
   "source": [
    "### Question 2: Who are the youngest and the oldest noble prize winners ?\n",
    "First of all a new column holding the age is added to the data which represents the age of the noble prize winner at the time of winning the prize, it was calculated by subtracting the birth date of the winner from the year of the prize. To get the youngest and the oldest winner the minimum and the maximum values of the age column were obtained"
   ]
  },
  {
   "cell_type": "code",
   "execution_count": 16,
   "metadata": {},
   "outputs": [
    {
     "data": {
      "text/html": [
       "<div>\n",
       "<style scoped>\n",
       "    .dataframe tbody tr th:only-of-type {\n",
       "        vertical-align: middle;\n",
       "    }\n",
       "\n",
       "    .dataframe tbody tr th {\n",
       "        vertical-align: top;\n",
       "    }\n",
       "\n",
       "    .dataframe thead th {\n",
       "        text-align: right;\n",
       "    }\n",
       "</style>\n",
       "<table border=\"1\" class=\"dataframe\">\n",
       "  <thead>\n",
       "    <tr style=\"text-align: right;\">\n",
       "      <th></th>\n",
       "      <th>Year</th>\n",
       "      <th>Category</th>\n",
       "      <th>Full Name</th>\n",
       "      <th>Age</th>\n",
       "    </tr>\n",
       "  </thead>\n",
       "  <tbody>\n",
       "    <tr>\n",
       "      <th>940</th>\n",
       "      <td>2014</td>\n",
       "      <td>Peace</td>\n",
       "      <td>Malala Yousafzai</td>\n",
       "      <td>17.0</td>\n",
       "    </tr>\n",
       "  </tbody>\n",
       "</table>\n",
       "</div>"
      ],
      "text/plain": [
       "     Year Category         Full Name   Age\n",
       "940  2014    Peace  Malala Yousafzai  17.0"
      ]
     },
     "execution_count": 16,
     "metadata": {},
     "output_type": "execute_result"
    }
   ],
   "source": [
    "cleaned_nps_df['Birth Date'] = pd.to_datetime(cleaned_nps_df[\"Birth Date\"],errors='coerce')\n",
    "cleaned_nps_df['Age'] = cleaned_nps_df['Year'] - cleaned_nps_df['Birth Date'].dt.year\n",
    "Youngest= cleaned_nps_df[cleaned_nps_df['Age'] == min(cleaned_nps_df['Age'])]\n",
    "Youngest[['Year','Category','Full Name','Age']]"
   ]
  },
  {
   "cell_type": "code",
   "execution_count": 17,
   "metadata": {},
   "outputs": [
    {
     "data": {
      "text/html": [
       "<div>\n",
       "<style scoped>\n",
       "    .dataframe tbody tr th:only-of-type {\n",
       "        vertical-align: middle;\n",
       "    }\n",
       "\n",
       "    .dataframe tbody tr th {\n",
       "        vertical-align: top;\n",
       "    }\n",
       "\n",
       "    .dataframe thead th {\n",
       "        text-align: right;\n",
       "    }\n",
       "</style>\n",
       "<table border=\"1\" class=\"dataframe\">\n",
       "  <thead>\n",
       "    <tr style=\"text-align: right;\">\n",
       "      <th></th>\n",
       "      <th>Year</th>\n",
       "      <th>Category</th>\n",
       "      <th>Full Name</th>\n",
       "      <th>Age</th>\n",
       "    </tr>\n",
       "  </thead>\n",
       "  <tbody>\n",
       "    <tr>\n",
       "      <th>825</th>\n",
       "      <td>2007</td>\n",
       "      <td>Economics</td>\n",
       "      <td>Leonid Hurwicz</td>\n",
       "      <td>90.0</td>\n",
       "    </tr>\n",
       "  </tbody>\n",
       "</table>\n",
       "</div>"
      ],
      "text/plain": [
       "     Year   Category       Full Name   Age\n",
       "825  2007  Economics  Leonid Hurwicz  90.0"
      ]
     },
     "execution_count": 17,
     "metadata": {},
     "output_type": "execute_result"
    }
   ],
   "source": [
    "oldest = cleaned_nps_df[cleaned_nps_df['Age'] == max(cleaned_nps_df['Age'])]\n",
    "oldest[['Year','Category','Full Name','Age']]"
   ]
  },
  {
   "cell_type": "markdown",
   "metadata": {},
   "source": [
    "### Question 3: Who is the first female to win a noble prize ?\n",
    "In order to identify the first female noble prize winner, we filtered the data according to the column 'Sex' to be female so we can get all the data of the female prize winners, then we chose the first one in the data to get the first ever female winner.\n"
   ]
  },
  {
   "cell_type": "code",
   "execution_count": 18,
   "metadata": {},
   "outputs": [
    {
     "data": {
      "text/html": [
       "<div>\n",
       "<style scoped>\n",
       "    .dataframe tbody tr th:only-of-type {\n",
       "        vertical-align: middle;\n",
       "    }\n",
       "\n",
       "    .dataframe tbody tr th {\n",
       "        vertical-align: top;\n",
       "    }\n",
       "\n",
       "    .dataframe thead th {\n",
       "        text-align: right;\n",
       "    }\n",
       "</style>\n",
       "<table border=\"1\" class=\"dataframe\">\n",
       "  <thead>\n",
       "    <tr style=\"text-align: right;\">\n",
       "      <th></th>\n",
       "      <th>Year</th>\n",
       "      <th>Category</th>\n",
       "      <th>Full Name</th>\n",
       "      <th>Age</th>\n",
       "    </tr>\n",
       "  </thead>\n",
       "  <tbody>\n",
       "    <tr>\n",
       "      <th>19</th>\n",
       "      <td>1903</td>\n",
       "      <td>Physics</td>\n",
       "      <td>Marie Curie, née Sklodowska</td>\n",
       "      <td>36.0</td>\n",
       "    </tr>\n",
       "  </tbody>\n",
       "</table>\n",
       "</div>"
      ],
      "text/plain": [
       "    Year Category                    Full Name   Age\n",
       "19  1903  Physics  Marie Curie, née Sklodowska  36.0"
      ]
     },
     "execution_count": 18,
     "metadata": {},
     "output_type": "execute_result"
    }
   ],
   "source": [
    "female_noble_winners = cleaned_nps_df[cleaned_nps_df['Sex'] == 'Female']\n",
    "female_noble_winners.head(1)[['Year','Category','Full Name','Age']]"
   ]
  },
  {
   "cell_type": "markdown",
   "metadata": {},
   "source": [
    "# "
   ]
  }
 ],
 "metadata": {
  "celltoolbar": "Raw Cell Format",
  "kernelspec": {
   "display_name": "Python 3",
   "language": "python",
   "name": "python3"
  },
  "language_info": {
   "codemirror_mode": {
    "name": "ipython",
    "version": 3
   },
   "file_extension": ".py",
   "mimetype": "text/x-python",
   "name": "python",
   "nbconvert_exporter": "python",
   "pygments_lexer": "ipython3",
   "version": "3.7.3"
  }
 },
 "nbformat": 4,
 "nbformat_minor": 2
}
