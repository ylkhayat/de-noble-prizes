{
 "cells": [
  {
   "cell_type": "markdown",
   "metadata": {},
   "source": [
    "<h2 style=\"font-family: Palatino Linotype; font-size: 25px\">CSEN 1095 - Data Engineering</h2>\n",
    "<p style=\"font-family: Palatino Linotype; font-size: 20px\">German University in Cairo</p>\n"
   ]
  },
  {
   "cell_type": "markdown",
   "metadata": {},
   "source": [
    "<div style=\"background-color:#159955;text-align:center; vertical-align: middle; padding:20px;color:rgb(255,255,255);border-radius: 10px; background-image: linear-gradient(120deg, #155799, #159957);\">\n",
    "    <h2>Visual History of Nobel Prize Winners</h2>\n",
    "</div>\n",
    "\n"
   ]
  },
  {
   "cell_type": "markdown",
   "metadata": {},
   "source": [
    "- Project Website: https://yousseftarekkh.github.io/de-noble-prizes/\n",
    "- Github: https://github.com/yousseftarekkh/de-noble-prizes/"
   ]
  },
  {
   "cell_type": "markdown",
   "metadata": {},
   "source": [
    "<div style=\"font-family: Palatino Linotype;align-items:flex-start;float: left;\">\n",
    "    \n",
    "**Collaborators:**\n",
    "\n",
    "| Name   |      IDs      |\n",
    "|----------|:-------------:|\n",
    "| Nada Hammouda |  37-3846\n",
    "| Aya Ibrahim | 37-1574   |\n",
    "| Habiba ElHussein Hamad | 37-0846 |\n",
    "| Youssef Tarek Salah El Dine | 37-3865 |\n",
    "\n",
    "</div>"
   ]
  },
  {
   "cell_type": "markdown",
   "metadata": {},
   "source": [
    "<h2 style=\"color:#155799\">Overview & Motivation</h2>\n",
    "\n",
    "\n",
    "This project aims to apply several steps of data refactoring and cleaning in order to visually analyze and introduce potential data fixes to the acquired data set. Such steps can help further identify relations, recognize hidden patterns in different countries, pay attention to trending categories and generally reach conclusions and answers about many proposed questions among the data records which in our case represents **<span style=\"color:brown\">Nobel Prize winners</span>**.\n",
    "\n",
    "The following research will be held in a **Q&A** driven structure; meaning we will propose potential questions and put effort into trying to derive answers and conclusions.\n",
    "\n",
    "Initially, we used the following data set found at https://www.datacamp.com/projects/441. Additional data sets may be used in order to succesfully form a tidy data with less missing values and for the sake of adding more valuable records to the existing data set. All used references will be included in the next section."
   ]
  },
  {
   "cell_type": "markdown",
   "metadata": {},
   "source": [
    "<h2 style=\"color:#157899\">Related Work</h2>\n",
    "\n",
    "\n",
    "We have been influenced by a lot of work after a research we conducted on this particular topic and we found the following sites interesting for a certain cause.\n",
    "- https://www.datacamp.com/projects/441 - The mentioned project tasks included some interesting questions we needed to find answers to, thus we decided to re-engineer the data to properly formulate answers.\n",
    "- https://www.kaggle.com/devisangeetha/nobel-prize-winners-story - Inspired on how well and organized that research was and the outcome that this research helped discovering.\n",
    "- https://www.nobelprize.org/prizes/facts/nobel-prize-facts/ - Website contains a large bulk of Nobel Prize winners facts including both interesting and shocking events in the history."
   ]
  },
  {
   "cell_type": "markdown",
   "metadata": {},
   "source": [
    "<h2 style=\"color:#159983\">Questions</h2>\n",
    "\n",
    "The main questions that motivated that project were:\n",
    "    1. Who can win a Nobel Prize?\n",
    "    2. Does the data include any kind of inconsistencies? If yes, how to solve them?\n",
    "    3. What are the categories that hold the most noble prizes ?\n",
    "    4. Who are the youngest and the oldest noble prize winners ?\n",
    "    5. Who is the first female to win a noble prize ?\n",
    "    6. Top Birth Country to receive noble prize?\n",
    "    7. Which Year had most and least prizes awarded?\n",
    "    8. What is the lifespan of Laureates?\n",
    "    9. Did anyone win noble prize more than once? \n",
    "    10. Is there a relation between the nobel prize winners?\n"
   ]
  },
  {
   "cell_type": "markdown",
   "metadata": {},
   "source": [
    "Modules we will be using are listed bellow."
   ]
  },
  {
   "cell_type": "code",
   "execution_count": 143,
   "metadata": {},
   "outputs": [],
   "source": [
    "import pandas as pd\n",
    "import numpy as np\n",
    "import matplotlib.pyplot as plt\n",
    "import seaborn as sns"
   ]
  },
  {
   "cell_type": "markdown",
   "metadata": {},
   "source": [
    "In order to get a better look at the data, we will preview a sample to visually analyze the attributes assigned to each record. "
   ]
  },
  {
   "cell_type": "code",
   "execution_count": 144,
   "metadata": {},
   "outputs": [
    {
     "data": {
      "text/html": [
       "<div>\n",
       "<style scoped>\n",
       "    .dataframe tbody tr th:only-of-type {\n",
       "        vertical-align: middle;\n",
       "    }\n",
       "\n",
       "    .dataframe tbody tr th {\n",
       "        vertical-align: top;\n",
       "    }\n",
       "\n",
       "    .dataframe thead th {\n",
       "        text-align: right;\n",
       "    }\n",
       "</style>\n",
       "<table border=\"1\" class=\"dataframe\">\n",
       "  <thead>\n",
       "    <tr style=\"text-align: right;\">\n",
       "      <th></th>\n",
       "      <th>Year</th>\n",
       "      <th>Category</th>\n",
       "      <th>Prize</th>\n",
       "      <th>Motivation</th>\n",
       "      <th>Prize Share</th>\n",
       "      <th>Laureate ID</th>\n",
       "      <th>Laureate Type</th>\n",
       "      <th>Full Name</th>\n",
       "      <th>Birth Date</th>\n",
       "      <th>Birth City</th>\n",
       "      <th>Birth Country</th>\n",
       "      <th>Sex</th>\n",
       "      <th>Organization Name</th>\n",
       "      <th>Organization City</th>\n",
       "      <th>Organization Country</th>\n",
       "      <th>Death Date</th>\n",
       "      <th>Death City</th>\n",
       "      <th>Death Country</th>\n",
       "    </tr>\n",
       "  </thead>\n",
       "  <tbody>\n",
       "    <tr>\n",
       "      <th>217</th>\n",
       "      <td>1943</td>\n",
       "      <td>Physics</td>\n",
       "      <td>The Nobel Prize in Physics 1943</td>\n",
       "      <td>\"for his contribution to the development of th...</td>\n",
       "      <td>1/1</td>\n",
       "      <td>48</td>\n",
       "      <td>Individual</td>\n",
       "      <td>Otto Stern</td>\n",
       "      <td>1888-02-17</td>\n",
       "      <td>Sorau (Zory)</td>\n",
       "      <td>Germany (Poland)</td>\n",
       "      <td>Male</td>\n",
       "      <td>Carnegie Institute of Technology</td>\n",
       "      <td>Pittsburgh, PA</td>\n",
       "      <td>United States of America</td>\n",
       "      <td>1969-08-17</td>\n",
       "      <td>Berkeley, CA</td>\n",
       "      <td>United States of America</td>\n",
       "    </tr>\n",
       "    <tr>\n",
       "      <th>107</th>\n",
       "      <td>1921</td>\n",
       "      <td>Physics</td>\n",
       "      <td>The Nobel Prize in Physics 1921</td>\n",
       "      <td>\"for his services to Theoretical Physics, and ...</td>\n",
       "      <td>1/1</td>\n",
       "      <td>26</td>\n",
       "      <td>Individual</td>\n",
       "      <td>Albert Einstein</td>\n",
       "      <td>1879-03-14</td>\n",
       "      <td>Ulm</td>\n",
       "      <td>Germany</td>\n",
       "      <td>Male</td>\n",
       "      <td>Kaiser-Wilhelm-Institut (now Max-Planck-Instit...</td>\n",
       "      <td>Berlin</td>\n",
       "      <td>Germany</td>\n",
       "      <td>1955-04-18</td>\n",
       "      <td>Princeton, NJ</td>\n",
       "      <td>United States of America</td>\n",
       "    </tr>\n",
       "    <tr>\n",
       "      <th>647</th>\n",
       "      <td>1992</td>\n",
       "      <td>Peace</td>\n",
       "      <td>The Nobel Peace Prize 1992</td>\n",
       "      <td>\"in recognition of her work for social justice...</td>\n",
       "      <td>1/1</td>\n",
       "      <td>554</td>\n",
       "      <td>Individual</td>\n",
       "      <td>Rigoberta Menchú Tum</td>\n",
       "      <td>1959-01-09</td>\n",
       "      <td>Aldea Chimel</td>\n",
       "      <td>Guatemala</td>\n",
       "      <td>Female</td>\n",
       "      <td>NaN</td>\n",
       "      <td>NaN</td>\n",
       "      <td>NaN</td>\n",
       "      <td>NaN</td>\n",
       "      <td>NaN</td>\n",
       "      <td>NaN</td>\n",
       "    </tr>\n",
       "  </tbody>\n",
       "</table>\n",
       "</div>"
      ],
      "text/plain": [
       "     Year Category                            Prize  \\\n",
       "217  1943  Physics  The Nobel Prize in Physics 1943   \n",
       "107  1921  Physics  The Nobel Prize in Physics 1921   \n",
       "647  1992    Peace       The Nobel Peace Prize 1992   \n",
       "\n",
       "                                            Motivation Prize Share  \\\n",
       "217  \"for his contribution to the development of th...         1/1   \n",
       "107  \"for his services to Theoretical Physics, and ...         1/1   \n",
       "647  \"in recognition of her work for social justice...         1/1   \n",
       "\n",
       "     Laureate ID Laureate Type             Full Name  Birth Date  \\\n",
       "217           48    Individual            Otto Stern  1888-02-17   \n",
       "107           26    Individual       Albert Einstein  1879-03-14   \n",
       "647          554    Individual  Rigoberta Menchú Tum  1959-01-09   \n",
       "\n",
       "       Birth City     Birth Country     Sex  \\\n",
       "217  Sorau (Zory)  Germany (Poland)    Male   \n",
       "107           Ulm           Germany    Male   \n",
       "647  Aldea Chimel         Guatemala  Female   \n",
       "\n",
       "                                     Organization Name Organization City  \\\n",
       "217                   Carnegie Institute of Technology    Pittsburgh, PA   \n",
       "107  Kaiser-Wilhelm-Institut (now Max-Planck-Instit...            Berlin   \n",
       "647                                                NaN               NaN   \n",
       "\n",
       "         Organization Country  Death Date     Death City  \\\n",
       "217  United States of America  1969-08-17   Berkeley, CA   \n",
       "107                   Germany  1955-04-18  Princeton, NJ   \n",
       "647                       NaN         NaN            NaN   \n",
       "\n",
       "                Death Country  \n",
       "217  United States of America  \n",
       "107  United States of America  \n",
       "647                       NaN  "
      ]
     },
     "execution_count": 144,
     "metadata": {},
     "output_type": "execute_result"
    }
   ],
   "source": [
    "nps_df = pd.read_csv(\"data/archive.csv\")\n",
    "nps_df.sample(3)"
   ]
  },
  {
   "cell_type": "markdown",
   "metadata": {},
   "source": [
    "After having a look at the columns, we will start answering some questions and try to reach useful information through picking the right methods to perform data cleaning."
   ]
  },
  {
   "cell_type": "markdown",
   "metadata": {},
   "source": [
    "### Question 1: Who can win a Nobel Prize?\n",
    "In order to answer this question we must examine the <span style=\"color:#c7254e; padding: 2px 4px;background-color:#f9f2f4;borer-radius: 4px;font-family: Palatino Linotype;\">Laureate Type</span> column."
   ]
  },
  {
   "cell_type": "code",
   "execution_count": 145,
   "metadata": {},
   "outputs": [
    {
     "data": {
      "image/png": "[encoded data removed]",
      "text/plain": [
       "<Figure size 432x288 with 1 Axes>"
      ]
     },
     "metadata": {},
     "output_type": "display_data"
    }
   ],
   "source": [
    "ax = sns.countplot(x=\"Laureate Type\", data=nps_df,palette=\"Set2\",orient=\"h\")\n",
    "for p in ax.patches:\n",
    "    ax.annotate(format(p.get_height(), '.2f'), (p.get_x() + p.get_width() / 2., p.get_height()), ha = 'center', va = 'center', xytext = (0, 10), textcoords = 'offset points')"
   ]
  },
  {
   "cell_type": "code",
   "execution_count": 146,
   "metadata": {},
   "outputs": [
    {
     "data": {
      "image/png": "[encoded data removed]",
      "text/plain": [
       "<Figure size 432x288 with 1 Axes>"
      ]
     },
     "metadata": {},
     "output_type": "display_data"
    }
   ],
   "source": [
    "ax = sns.countplot(x=\"Sex\", data=nps_df)\n",
    "for p in ax.patches:\n",
    "    ax.annotate(format(p.get_height(), '.2f'), (p.get_x() + p.get_width() / 2., p.get_height()), ha = 'center', va = 'center', xytext = (0, 10), textcoords = 'offset points')"
   ]
  },
  {
   "cell_type": "markdown",
   "metadata": {},
   "source": [
    "Two types of laureates can win a Nobel Prize which are `Individual`s and `Organization`s."
   ]
  },
  {
   "cell_type": "markdown",
   "metadata": {},
   "source": [
    "### Question 2: Does the data include any kind of inconsistencies? If yes, how to solve them?\n",
    "The data indeed is proven to have atleast a single inconsistency by reveiling that the data set is a merge between two different types of nobel prize winners. We will proceed by checking the rest of the column according to each <span style=\"color:#c7254e; padding: 2px 4px;background-color:#f9f2f4;borer-radius: 4px;font-family: Palatino Linotype;\">Laureate Type</span>."
   ]
  },
  {
   "cell_type": "code",
   "execution_count": 147,
   "metadata": {},
   "outputs": [
    {
     "name": "stdout",
     "output_type": "stream",
     "text": [
      "Year\n",
      "Category\n",
      "Prize\n",
      "Motivation\n",
      "Prize Share\n",
      "Laureate ID\n",
      "Full Name\n",
      "Birth Date\n",
      "Birth City\n",
      "Birth Country\n",
      "Sex\n",
      "Organization Name\n",
      "Organization City\n",
      "Organization Country\n",
      "Death Date\n",
      "Death City\n",
      "Death Country\n"
     ]
    }
   ],
   "source": [
    "def filterColumn(col):\n",
    "    return col != 'Laureate Type'\n",
    "    \n",
    "filtered_columns = filter(filterColumn, nps_df.columns)\n",
    "for vowel in filtered_columns:\n",
    "    print(vowel)"
   ]
  },
  {
   "cell_type": "markdown",
   "metadata": {},
   "source": [
    "It's clear that a lot of columns are not compatible with one of the <span style=\"color:#c7254e; padding: 2px 4px;background-color:#f9f2f4;borer-radius: 4px;font-family: Palatino Linotype;\">Laureate Type</span> values. For instance, `Organization` records can not have the following attributes: <span style=\"color:#c7254e; padding: 2px 4px;background-color:#f9f2f4;borer-radius: 4px;font-family: Palatino Linotype;\">{Birth/Death} Date</span>, <span style=\"color:#c7254e; padding: 2px 4px;background-color:#f9f2f4;borer-radius: 4px;font-family: Palatino Linotype;\">{Birth/Death} City</span>, <span style=\"color:#c7254e; padding: 2px 4px;background-color:#f9f2f4;borer-radius: 4px;font-family: Palatino Linotype;\">{Birth/Death} Country</span> and <span style=\"color:#c7254e; padding: 2px 4px;background-color:#f9f2f4;borer-radius: 4px;font-family: Palatino Linotype;\">Sex</span>."
   ]
  },
  {
   "cell_type": "markdown",
   "metadata": {},
   "source": [
    "From the above graphs, we see that the data is not entirely consistent since the records contain both `Individual` and `Organization` values for the <span style=\"color:#c7254e; padding: 2px 4px;background-color:#f9f2f4;borer-radius: 4px;font-family: Palatino Linotype;\">Laureate Type</span> winning the nobel prizes. Moreover indicated by the <span style=\"color:#c7254e; padding: 2px 4px;background-color:#f9f2f4;borer-radius: 4px;font-family: Palatino Linotype;\">Sex</span> column which denotes that the data contains attribute variations which are crucial for some of the questions.\n",
    "\n",
    "Next step for our data cleaning process is to strictly indicate that some of the missing values are not missing due to falsified data nor noise existence, simply irrelevant attribute for certain records. Thus we must inspect the occurence of the missing values in each column and re-engineer the entire column if the missing value exceeded a significant percentage from the data set."
   ]
  },
  {
   "cell_type": "code",
   "execution_count": 148,
   "metadata": {},
   "outputs": [
    {
     "data": {
      "text/plain": [
       "Motivation               88\n",
       "Birth Date               29\n",
       "Birth City               28\n",
       "Birth Country            26\n",
       "Sex                      26\n",
       "Organization Name       247\n",
       "Organization City       253\n",
       "Organization Country    253\n",
       "Death Date              352\n",
       "Death City              370\n",
       "Death Country           364\n",
       "dtype: int64"
      ]
     },
     "execution_count": 148,
     "metadata": {},
     "output_type": "execute_result"
    }
   ],
   "source": [
    "missing_values_count = nps_df.isnull().sum()\n",
    "missing_values_count[missing_values_count > 0]"
   ]
  },
  {
   "cell_type": "markdown",
   "metadata": {},
   "source": [
    "Apparently, multiple columns include missing values. Thus we will calculate the percentage of the missing values among the entire data set."
   ]
  },
  {
   "cell_type": "code",
   "execution_count": 149,
   "metadata": {},
   "outputs": [
    {
     "name": "stdout",
     "output_type": "stream",
     "text": [
      "12.0%\n"
     ]
    }
   ],
   "source": [
    "total_cells_nfl = np.product(nps_df.shape) \n",
    "total_missing_nfl = missing_values_count.sum()\n",
    "\n",
    "percentage_missign_values_nfl = (total_missing_nfl/total_cells_nfl) * 100\n",
    "print(str(percentage_missign_values_nfl.round())+'%')"
   ]
  },
  {
   "cell_type": "markdown",
   "metadata": {},
   "source": [
    "Percentage of <span style=\"color: red;\">~12.0</span> is a considerably big chunk of data is missing that we can not just drop, thus the data cleaning is now crucial."
   ]
  },
  {
   "cell_type": "code",
   "execution_count": 150,
   "metadata": {},
   "outputs": [
    {
     "data": {
      "text/html": [
       "<div>\n",
       "<style scoped>\n",
       "    .dataframe tbody tr th:only-of-type {\n",
       "        vertical-align: middle;\n",
       "    }\n",
       "\n",
       "    .dataframe tbody tr th {\n",
       "        vertical-align: top;\n",
       "    }\n",
       "\n",
       "    .dataframe thead th {\n",
       "        text-align: right;\n",
       "    }\n",
       "</style>\n",
       "<table border=\"1\" class=\"dataframe\">\n",
       "  <thead>\n",
       "    <tr style=\"text-align: right;\">\n",
       "      <th></th>\n",
       "      <th>Year</th>\n",
       "      <th>Category</th>\n",
       "      <th>Prize</th>\n",
       "      <th>Motivation</th>\n",
       "      <th>Prize Share</th>\n",
       "      <th>Laureate ID</th>\n",
       "      <th>Laureate Type</th>\n",
       "      <th>Full Name</th>\n",
       "      <th>Birth Date</th>\n",
       "      <th>Birth City</th>\n",
       "      <th>Birth Country</th>\n",
       "      <th>Sex</th>\n",
       "      <th>Organization Name</th>\n",
       "      <th>Organization City</th>\n",
       "      <th>Organization Country</th>\n",
       "      <th>Death Date</th>\n",
       "      <th>Death City</th>\n",
       "      <th>Death Country</th>\n",
       "    </tr>\n",
       "  </thead>\n",
       "  <tbody>\n",
       "    <tr>\n",
       "      <th>206</th>\n",
       "      <td>1938</td>\n",
       "      <td>Peace</td>\n",
       "      <td>The Nobel Peace Prize 1938</td>\n",
       "      <td>NaN</td>\n",
       "      <td>1/1</td>\n",
       "      <td>503</td>\n",
       "      <td>Organization</td>\n",
       "      <td>Office international Nansen pour les Réfugiés ...</td>\n",
       "      <td>NaN</td>\n",
       "      <td>NaN</td>\n",
       "      <td>NaN</td>\n",
       "      <td>NaN</td>\n",
       "      <td>NaN</td>\n",
       "      <td>NaN</td>\n",
       "      <td>NaN</td>\n",
       "      <td>NaN</td>\n",
       "      <td>NaN</td>\n",
       "      <td>NaN</td>\n",
       "    </tr>\n",
       "    <tr>\n",
       "      <th>754</th>\n",
       "      <td>2001</td>\n",
       "      <td>Peace</td>\n",
       "      <td>The Nobel Peace Prize 2001</td>\n",
       "      <td>\"for their work for a better organized and mor...</td>\n",
       "      <td>1/2</td>\n",
       "      <td>748</td>\n",
       "      <td>Organization</td>\n",
       "      <td>United Nations (U.N.)</td>\n",
       "      <td>NaN</td>\n",
       "      <td>NaN</td>\n",
       "      <td>NaN</td>\n",
       "      <td>NaN</td>\n",
       "      <td>NaN</td>\n",
       "      <td>NaN</td>\n",
       "      <td>NaN</td>\n",
       "      <td>NaN</td>\n",
       "      <td>NaN</td>\n",
       "      <td>NaN</td>\n",
       "    </tr>\n",
       "    <tr>\n",
       "      <th>682</th>\n",
       "      <td>1995</td>\n",
       "      <td>Peace</td>\n",
       "      <td>The Nobel Peace Prize 1995</td>\n",
       "      <td>\"for their efforts to diminish the part played...</td>\n",
       "      <td>1/2</td>\n",
       "      <td>561</td>\n",
       "      <td>Organization</td>\n",
       "      <td>Pugwash Conferences on Science and World Affairs</td>\n",
       "      <td>NaN</td>\n",
       "      <td>NaN</td>\n",
       "      <td>NaN</td>\n",
       "      <td>NaN</td>\n",
       "      <td>NaN</td>\n",
       "      <td>NaN</td>\n",
       "      <td>NaN</td>\n",
       "      <td>NaN</td>\n",
       "      <td>NaN</td>\n",
       "      <td>NaN</td>\n",
       "    </tr>\n",
       "  </tbody>\n",
       "</table>\n",
       "</div>"
      ],
      "text/plain": [
       "     Year Category                       Prize  \\\n",
       "206  1938    Peace  The Nobel Peace Prize 1938   \n",
       "754  2001    Peace  The Nobel Peace Prize 2001   \n",
       "682  1995    Peace  The Nobel Peace Prize 1995   \n",
       "\n",
       "                                            Motivation Prize Share  \\\n",
       "206                                                NaN         1/1   \n",
       "754  \"for their work for a better organized and mor...         1/2   \n",
       "682  \"for their efforts to diminish the part played...         1/2   \n",
       "\n",
       "     Laureate ID Laureate Type  \\\n",
       "206          503  Organization   \n",
       "754          748  Organization   \n",
       "682          561  Organization   \n",
       "\n",
       "                                             Full Name Birth Date Birth City  \\\n",
       "206  Office international Nansen pour les Réfugiés ...        NaN        NaN   \n",
       "754                              United Nations (U.N.)        NaN        NaN   \n",
       "682   Pugwash Conferences on Science and World Affairs        NaN        NaN   \n",
       "\n",
       "    Birth Country  Sex Organization Name Organization City  \\\n",
       "206           NaN  NaN               NaN               NaN   \n",
       "754           NaN  NaN               NaN               NaN   \n",
       "682           NaN  NaN               NaN               NaN   \n",
       "\n",
       "    Organization Country Death Date Death City Death Country  \n",
       "206                  NaN        NaN        NaN           NaN  \n",
       "754                  NaN        NaN        NaN           NaN  \n",
       "682                  NaN        NaN        NaN           NaN  "
      ]
     },
     "execution_count": 150,
     "metadata": {},
     "output_type": "execute_result"
    }
   ],
   "source": [
    "nps_df[nps_df['Sex'].isnull()].sample(3)"
   ]
  },
  {
   "cell_type": "code",
   "execution_count": 151,
   "metadata": {},
   "outputs": [
    {
     "data": {
      "text/plain": [
       "array(['Organization'], dtype=object)"
      ]
     },
     "execution_count": 151,
     "metadata": {},
     "output_type": "execute_result"
    }
   ],
   "source": [
    "nps_df.loc[nps_df['Sex'].isnull(),'Laureate Type'].unique()"
   ]
  },
  {
   "cell_type": "markdown",
   "metadata": {},
   "source": [
    "Based on inspecting the data and finding out that most of the null values present in the <span style=\"color:#c7254e; padding: 2px 4px;background-color:#f9f2f4;borer-radius: 4px;font-family: Palatino Linotype;\">Sex</span> column, <span style=\"color:#c7254e; padding: 2px 4px;background-color:#f9f2f4;borer-radius: 4px;font-family: Palatino Linotype;\">Birth Date</span> column, <span style=\"color:#c7254e; padding: 2px 4px;background-color:#f9f2f4;borer-radius: 4px;font-family: Palatino Linotype;\">Birth City</span> column and <span style=\"color:#c7254e; padding: 2px 4px;background-color:#f9f2f4;borer-radius: 4px;font-family: Palatino Linotype;\">Birth Country</span> column have the value `Organization` in the <span style=\"color:#c7254e; padding: 2px 4px;background-color:#f9f2f4;borer-radius: 4px;font-family: Palatino Linotype;\">Laureate Type</span> column.\n",
    "\n",
    "_So, we made the following modfications:_\n",
    "\n",
    "Changing the null values of the <span style=\"color:#c7254e; padding: 2px 4px;background-color:#f9f2f4;borer-radius: 4px;font-family: Palatino Linotype;\">Sex</span> column to `Organization`.<br>\n",
    "Changing the null values of the <span style=\"color:#c7254e; padding: 2px 4px;background-color:#f9f2f4;borer-radius: 4px;font-family: Palatino Linotype;\">Birth Date</span> column to `none` as it does not exist.<br>\n",
    "Changing the null values of the <span style=\"color:#c7254e; padding: 2px 4px;background-color:#f9f2f4;borer-radius: 4px;font-family: Palatino Linotype;\">Birth City</span> column to `none` as it does not exist.<br>\n",
    "Changing the null values of the <span style=\"color:#c7254e; padding: 2px 4px;background-color:#f9f2f4;borer-radius: 4px;font-family: Palatino Linotype;\">Birth Country</span> column to `none` as it does not exist."
   ]
  },
  {
   "cell_type": "code",
   "execution_count": 152,
   "metadata": {},
   "outputs": [
    {
     "data": {
      "text/plain": [
       "Motivation               88\n",
       "Birth Date                3\n",
       "Birth City                2\n",
       "Organization Name       247\n",
       "Organization City       253\n",
       "Organization Country    253\n",
       "Death Date              352\n",
       "Death City              370\n",
       "Death Country           364\n",
       "dtype: int64"
      ]
     },
     "execution_count": 152,
     "metadata": {},
     "output_type": "execute_result"
    }
   ],
   "source": [
    "cleaned_nps_df = nps_df.copy()\n",
    "cleaned_nps_df.loc[cleaned_nps_df['Sex'].isnull() & (cleaned_nps_df['Laureate Type'] == 'Organization'), 'Sex'] = 'Organization'\n",
    "# print(cleaned_nps_df[cleaned_nps_df['Sex']== 'Organization']['Full Name'])\n",
    "cleaned_nps_df.loc[cleaned_nps_df['Birth Date'].isnull() & (cleaned_nps_df['Laureate Type'] == 'Organization') & \n",
    "         (cleaned_nps_df['Sex'] == 'Organization'), 'Birth Date'] = 'none'\n",
    "cleaned_nps_df.loc[cleaned_nps_df['Birth City'].isnull() & (cleaned_nps_df['Laureate Type'] == 'Organization') & \n",
    "         (cleaned_nps_df['Sex'] == 'Organization'), 'Birth City'] = 'none'\n",
    "cleaned_nps_df.loc[cleaned_nps_df['Birth Country'].isnull() & (cleaned_nps_df['Laureate Type'] == 'Organization') & \n",
    "         (cleaned_nps_df['Sex'] == 'Organization'), 'Birth Country'] = 'none'\n",
    "missing_values_count = cleaned_nps_df.isnull().sum()\n",
    "missing_values_count[missing_values_count > 0]\n"
   ]
  },
  {
   "cell_type": "markdown",
   "metadata": {},
   "source": [
    "We made the following modifications in the rows with <span style=\"color:#c7254e; padding: 2px 4px;background-color:#f9f2f4;borer-radius: 4px;font-family: Palatino Linotype;\">Laureate Type</span> equal to `Organization`.\n",
    "\n",
    "\n",
    "Changing the null values of the <span style=\"color:#c7254e; padding: 2px 4px;background-color:#f9f2f4;borer-radius: 4px;font-family: Palatino Linotype;\">Death Date</span> column to `none` as it does not exist.<br>\n",
    "Changing the null values of the <span style=\"color:#c7254e; padding: 2px 4px;background-color:#f9f2f4;borer-radius: 4px;font-family: Palatino Linotype;\">Death City</span> column to `none` as it does not exist.<br>\n",
    "Changing the null values of the <span style=\"color:#c7254e; padding: 2px 4px;background-color:#f9f2f4;borer-radius: 4px;font-family: Palatino Linotype;\">Death Country</span> column to `none` as it does not exist."
   ]
  },
  {
   "cell_type": "code",
   "execution_count": 153,
   "metadata": {},
   "outputs": [
    {
     "data": {
      "text/plain": [
       "Motivation               88\n",
       "Birth Date                3\n",
       "Birth City                2\n",
       "Organization Name       247\n",
       "Organization City       253\n",
       "Organization Country    253\n",
       "Death Date              326\n",
       "Death City              344\n",
       "Death Country           338\n",
       "dtype: int64"
      ]
     },
     "execution_count": 153,
     "metadata": {},
     "output_type": "execute_result"
    }
   ],
   "source": [
    "cleaned_nps_df.loc[cleaned_nps_df['Death Date'].isnull() & (cleaned_nps_df['Laureate Type'] == 'Organization') & \n",
    "         (cleaned_nps_df['Sex'] == 'Organization'), 'Death Date'] = 'none'\n",
    "cleaned_nps_df.loc[cleaned_nps_df['Death City'].isnull() & (cleaned_nps_df['Laureate Type'] == 'Organization') & \n",
    "         (cleaned_nps_df['Sex'] == 'Organization'), 'Death City'] = 'none'\n",
    "cleaned_nps_df.loc[cleaned_nps_df['Death Country'].isnull() & (cleaned_nps_df['Laureate Type'] == 'Organization') & \n",
    "         (cleaned_nps_df['Sex'] == 'Organization'), 'Death Country'] = 'none'\n",
    "missing_values_count = cleaned_nps_df.isnull().sum()\n",
    "missing_values_count[missing_values_count > 0]"
   ]
  },
  {
   "cell_type": "markdown",
   "metadata": {},
   "source": [
    "Imputing the <span style=\"color:#c7254e; padding: 2px 4px;background-color:#f9f2f4;borer-radius: 4px;font-family: Palatino Linotype;\">Organization Name</span> from <span style=\"color:#c7254e; padding: 2px 4px;background-color:#f9f2f4;borer-radius: 4px;font-family: Palatino Linotype;\">Full Name</span> based on the fact that the name of organization is the <span style=\"color:#c7254e; padding: 2px 4px;background-color:#f9f2f4;borer-radius: 4px;font-family: Palatino Linotype;\">Full Name</span> when the <span style=\"color:#c7254e; padding: 2px 4px;background-color:#f9f2f4;borer-radius: 4px;font-family: Palatino Linotype;\">Laureate Type</span> is `Organization`."
   ]
  },
  {
   "cell_type": "code",
   "execution_count": 154,
   "metadata": {},
   "outputs": [
    {
     "data": {
      "text/plain": [
       "Motivation               88\n",
       "Birth Date                3\n",
       "Birth City                2\n",
       "Organization Name       221\n",
       "Organization City       253\n",
       "Organization Country    253\n",
       "Death Date              326\n",
       "Death City              344\n",
       "Death Country           338\n",
       "dtype: int64"
      ]
     },
     "execution_count": 154,
     "metadata": {},
     "output_type": "execute_result"
    }
   ],
   "source": [
    "cleaned_nps_df.loc[cleaned_nps_df['Organization Name'].isnull() & (cleaned_nps_df['Laureate Type'] == 'Organization') &\n",
    "         (cleaned_nps_df['Sex'] == 'Organization'), 'Organization Name'] = cleaned_nps_df['Full Name']\n",
    "\n",
    "missing_values_count = cleaned_nps_df.isnull().sum()\n",
    "missing_values_count[missing_values_count > 0]"
   ]
  },
  {
   "cell_type": "markdown",
   "metadata": {},
   "source": [
    "We observe that for some vlaue the <span style=\"color:#c7254e; padding: 2px 4px;background-color:#f9f2f4;borer-radius: 4px;font-family: Palatino Linotype;\">Organization Name</span> value does exist but the <span style=\"color:#c7254e; padding: 2px 4px;background-color:#f9f2f4;borer-radius: 4px;font-family: Palatino Linotype;\">Organization Country</span> and <span style=\"color:#c7254e; padding: 2px 4px;background-color:#f9f2f4;borer-radius: 4px;font-family: Palatino Linotype;\">Organization City</span> are missing. So, we can impute these values manually.\n",
    "\n",
    "We check the values with missing <span style=\"color:#c7254e; padding: 2px 4px;background-color:#f9f2f4;borer-radius: 4px;font-family: Palatino Linotype;\">Organization Country</span> while the <span style=\"color:#c7254e; padding: 2px 4px;background-color:#f9f2f4;borer-radius: 4px;font-family: Palatino Linotype;\">Organization City</span> does exist."
   ]
  },
  {
   "cell_type": "code",
   "execution_count": 155,
   "metadata": {},
   "outputs": [
    {
     "data": {
      "text/plain": [
       "array([nan, 'Tunis'], dtype=object)"
      ]
     },
     "execution_count": 155,
     "metadata": {},
     "output_type": "execute_result"
    }
   ],
   "source": [
    "cleaned_nps_df.loc[cleaned_nps_df['Organization Country'].isnull(), 'Organization City'].unique()"
   ]
  },
  {
   "cell_type": "code",
   "execution_count": 156,
   "metadata": {},
   "outputs": [],
   "source": [
    "cleaned_nps_df.loc[cleaned_nps_df['Organization City'] == 'Tunis', 'Organization Country'] = 'Tunis'"
   ]
  },
  {
   "cell_type": "markdown",
   "metadata": {},
   "source": [
    "#### All of the data retrived from [https://www.nobelprize.org/] based on the Residence of the Organization at the time of the award.\n",
    "Finding values with missing <span style=\"color:#c7254e; padding: 2px 4px;background-color:#f9f2f4;borer-radius: 4px;font-family: Palatino Linotype;\">Organization Country</span> values."
   ]
  },
  {
   "cell_type": "code",
   "execution_count": 157,
   "metadata": {},
   "outputs": [
    {
     "data": {
      "text/plain": [
       "array([nan,\n",
       "       'Institut de droit international (Institute of International Law)',\n",
       "       'Bureau international permanent de la Paix (Permanent International Peace Bureau)',\n",
       "       'Comité international de la Croix Rouge (International Committee of the Red Cross)',\n",
       "       'Office international Nansen pour les Réfugiés (Nansen International Office for Refugees)',\n",
       "       'Friends Service Council (The Quakers)',\n",
       "       'American Friends Service Committee (The Quakers)',\n",
       "       'Office of the United Nations High Commissioner for Refugees (UNHCR)',\n",
       "       'Ligue des Sociétés de la Croix-Rouge (League of Red Cross Societies)',\n",
       "       \"United Nations Children's Fund (UNICEF)\",\n",
       "       'International Labour Organization (I.L.O.)',\n",
       "       'Amnesty International',\n",
       "       'International Physicians for the Prevention of Nuclear War',\n",
       "       'Howard Hughes Medical Institute',\n",
       "       'United Nations Peacekeeping Forces',\n",
       "       'Pugwash Conferences on Science and World Affairs',\n",
       "       'International Campaign to Ban Landmines (ICBL)',\n",
       "       'Médecins Sans Frontières', 'United Nations (U.N.)',\n",
       "       'International Atomic Energy Agency (IAEA)', 'Grameen Bank',\n",
       "       'Intergovernmental Panel on Climate Change (IPCC)',\n",
       "       'European Union (EU)',\n",
       "       'Organisation for the Prohibition of Chemical Weapons (OPCW)',\n",
       "       'National Dialogue Quartet'], dtype=object)"
      ]
     },
     "execution_count": 157,
     "metadata": {},
     "output_type": "execute_result"
    }
   ],
   "source": [
    "\n",
    "# ax = sns.barplot(x=\"Laureate ID\", y=\"Prize Share\", data=nps_df,palette=\"Set2\")\n",
    "# plt.show()\n",
    "cleaned_nps_df.loc[cleaned_nps_df['Organization Country'].isnull(), 'Organization Name'].unique()"
   ]
  },
  {
   "cell_type": "code",
   "execution_count": 158,
   "metadata": {},
   "outputs": [],
   "source": [
    "cleaned_nps_df.loc[cleaned_nps_df['Organization Name'] == 'Institut de droit international (Institute of International Law)',\n",
    "                   'Organization Country'] = 'Belgium'\n",
    "cleaned_nps_df.loc[cleaned_nps_df['Organization Name'] == 'Bureau international permanent de la Paix (Permanent International Peace Bureau)',\n",
    "                   'Organization Country'] = 'Switzerland'\n",
    "cleaned_nps_df.loc[cleaned_nps_df['Organization Name'] == 'Comité international de la Croix Rouge (International Committee of the Red Cross)',\n",
    "                   'Organization Country'] = 'Switzerland'\n",
    "cleaned_nps_df.loc[cleaned_nps_df['Organization Name'] == 'Office international Nansen pour les Réfugiés (Nansen International Office for Refugees)',\n",
    "                   'Organization Country'] = 'Switzerland'\n",
    "cleaned_nps_df.loc[cleaned_nps_df['Organization Name'] == 'Friends Service Council (The Quakers)',\n",
    "                   'Organization Country'] = 'United Kingdom'\n",
    "cleaned_nps_df.loc[cleaned_nps_df['Organization Name'] == 'American Friends Service Committee (The Quakers)',\n",
    "                   'Organization Country'] = 'United States of America'\n",
    "cleaned_nps_df.loc[cleaned_nps_df['Organization Name'] == 'Office of the United Nations High Commissioner for Refugees (UNHCR)',\n",
    "                   'Organization Country'] = 'Switzerland'\n",
    "cleaned_nps_df.loc[cleaned_nps_df['Organization Name'] == 'Ligue des Sociétés de la Croix-Rouge (League of Red Cross Societies)',\n",
    "                   'Organization Country'] = 'Switzerland'\n",
    "cleaned_nps_df.loc[cleaned_nps_df['Organization Name'] == 'United Nations Children\\'s Fund (UNICEF)',\n",
    "                   'Organization Country'] = 'United States of America'\n",
    "cleaned_nps_df.loc[cleaned_nps_df['Organization Name'] == 'International Labour Organization (I.L.O.)',\n",
    "                   'Organization Country'] = 'Switzerland'\n",
    "cleaned_nps_df.loc[cleaned_nps_df['Organization Name'] == 'Amnesty International',\n",
    "                   'Organization Country'] = 'United Kingdom'\n",
    "cleaned_nps_df.loc[cleaned_nps_df['Organization Name'] == 'International Physicians for the Prevention of Nuclear War',\n",
    "                   'Organization Country'] = 'United States of America'\n",
    "cleaned_nps_df.loc[cleaned_nps_df['Organization Name'] == 'United Nations Peacekeeping Forces',\n",
    "                   'Organization Country'] = 'United States of America'\n",
    "cleaned_nps_df.loc[cleaned_nps_df['Organization Name'] == 'Pugwash Conferences on Science and World Affairs',\n",
    "                   'Organization Country'] = 'Canada'\n",
    "cleaned_nps_df.loc[cleaned_nps_df['Organization Name'] == 'International Campaign to Ban Landmines (ICBL)',\n",
    "                   'Organization Country'] = 'United States of America'\n",
    "cleaned_nps_df.loc[cleaned_nps_df['Organization Name'] == 'Médecins Sans Frontières',\n",
    "                   'Organization Country'] = 'Switzerland'\n",
    "cleaned_nps_df.loc[cleaned_nps_df['Organization Name'] == 'International Atomic Energy Agency (IAEA)',\n",
    "                   'Organization Country'] = 'Austria'\n",
    "cleaned_nps_df.loc[cleaned_nps_df['Organization Name'] == 'Grameen Bank',\n",
    "                   'Organization Country'] = 'Bangladesh'\n",
    "cleaned_nps_df.loc[cleaned_nps_df['Organization Name'] == 'Intergovernmental Panel on Climate Change (IPCC)',\n",
    "                   'Organization Country'] = 'Switzerland'\n",
    "cleaned_nps_df.loc[cleaned_nps_df['Organization Name'] == 'Organisation for the Prohibition of Chemical Weapons (OPCW)',\n",
    "                   'Organization Country'] = 'Netherlands'\n"
   ]
  },
  {
   "cell_type": "markdown",
   "metadata": {},
   "source": [
    "All of the data retrived from [https://www.google.com/] based on the current Headquarters of the Organization as the data was not available at the [https://www.nobleprize.org/]."
   ]
  },
  {
   "cell_type": "code",
   "execution_count": 159,
   "metadata": {},
   "outputs": [
    {
     "data": {
      "text/plain": [
       "Motivation               88\n",
       "Birth Date                3\n",
       "Birth City                2\n",
       "Organization Name       221\n",
       "Organization City       253\n",
       "Organization Country    216\n",
       "Death Date              326\n",
       "Death City              344\n",
       "Death Country           338\n",
       "dtype: int64"
      ]
     },
     "execution_count": 159,
     "metadata": {},
     "output_type": "execute_result"
    }
   ],
   "source": [
    "cleaned_nps_df.loc[cleaned_nps_df['Organization Name'] == 'Howard Hughes Medical Institute', 'Organization Country'] = 'United States of America'\n",
    "cleaned_nps_df.loc[cleaned_nps_df['Organization Name'] == 'United Nations (U.N.)',\n",
    "                   'Organization Country'] = 'United States of America'\n",
    "cleaned_nps_df.loc[cleaned_nps_df['Organization Name'] == 'European Union (EU)',\n",
    "                   'Organization Country'] = 'Belgium'\n",
    "cleaned_nps_df.loc[cleaned_nps_df['Organization Name'] == 'National Dialogue Quartet',\n",
    "                   'Organization Country'] = 'Tunisia'\n",
    "missing_values_count = cleaned_nps_df.isnull().sum()\n",
    "missing_values_count[missing_values_count > 0]"
   ]
  },
  {
   "cell_type": "markdown",
   "metadata": {},
   "source": [
    "Finding values with missing <span style=\"color:#c7254e; padding: 2px 4px;background-color:#f9f2f4;borer-radius: 4px;font-family: Palatino Linotype;\">Organization City</span> values."
   ]
  },
  {
   "cell_type": "code",
   "execution_count": 160,
   "metadata": {},
   "outputs": [
    {
     "data": {
      "text/plain": [
       "array([nan,\n",
       "       'Institut de droit international (Institute of International Law)',\n",
       "       'Bureau international permanent de la Paix (Permanent International Peace Bureau)',\n",
       "       'Comité international de la Croix Rouge (International Committee of the Red Cross)',\n",
       "       'Office international Nansen pour les Réfugiés (Nansen International Office for Refugees)',\n",
       "       'Friends Service Council (The Quakers)',\n",
       "       'American Friends Service Committee (The Quakers)',\n",
       "       'Office of the United Nations High Commissioner for Refugees (UNHCR)',\n",
       "       'Ligue des Sociétés de la Croix-Rouge (League of Red Cross Societies)',\n",
       "       \"United Nations Children's Fund (UNICEF)\",\n",
       "       'International Labour Organization (I.L.O.)',\n",
       "       'Amnesty International',\n",
       "       'International Physicians for the Prevention of Nuclear War',\n",
       "       'Howard Hughes Medical Institute',\n",
       "       'United Nations Peacekeeping Forces',\n",
       "       'Pugwash Conferences on Science and World Affairs',\n",
       "       'International Campaign to Ban Landmines (ICBL)',\n",
       "       'Médecins Sans Frontières', 'United Nations (U.N.)',\n",
       "       'International Atomic Energy Agency (IAEA)', 'Grameen Bank',\n",
       "       'Intergovernmental Panel on Climate Change (IPCC)',\n",
       "       'University of Delaware', 'European Union (EU)',\n",
       "       'Organisation for the Prohibition of Chemical Weapons (OPCW)',\n",
       "       'National Dialogue Quartet'], dtype=object)"
      ]
     },
     "execution_count": 160,
     "metadata": {},
     "output_type": "execute_result"
    }
   ],
   "source": [
    "cleaned_nps_df.loc[cleaned_nps_df['Organization City'].isnull(), 'Organization Name'].unique()"
   ]
  },
  {
   "cell_type": "markdown",
   "metadata": {},
   "source": [
    "All of the data retrived from [https://www.nobelprize.org/] based on the Residence of the Organization at the time of the award."
   ]
  },
  {
   "cell_type": "code",
   "execution_count": 161,
   "metadata": {},
   "outputs": [],
   "source": [
    "cleaned_nps_df.loc[cleaned_nps_df['Organization Name'] == 'Institut de droit international (Institute of International Law)',\n",
    "                   'Organization City'] = 'Ghent'\n",
    "\n",
    "cleaned_nps_df.loc[cleaned_nps_df['Organization Name'] == 'Bureau international permanent de la Paix (Permanent International Peace Bureau)',\n",
    "                   'Organization City'] = 'Berne'\n",
    "\n",
    "cleaned_nps_df.loc[cleaned_nps_df['Organization Name'] == 'Comité international de la Croix Rouge (International Committee of the Red Cross)',\n",
    "                   'Organization City'] = 'Geneva'\n",
    "\n",
    "cleaned_nps_df.loc[cleaned_nps_df['Organization Name'] == 'Office international Nansen pour les Réfugiés (Nansen International Office for Refugees)',\n",
    "                   'Organization City'] = 'Geneva'\n",
    "\n",
    "cleaned_nps_df.loc[cleaned_nps_df['Organization Name'] == 'Friends Service Council (The Quakers)',\n",
    "                   'Organization City'] = 'London'\n",
    "\n",
    "cleaned_nps_df.loc[cleaned_nps_df['Organization Name'] == 'American Friends Service Committee (The Quakers)',\n",
    "                   'Organization City'] = 'Washington, DC'\n",
    "\n",
    "cleaned_nps_df.loc[cleaned_nps_df['Organization Name'] == 'Office of the United Nations High Commissioner for Refugees (UNHCR)',\n",
    "                   'Organization City'] = 'Geneva'\n",
    "\n",
    "cleaned_nps_df.loc[cleaned_nps_df['Organization Name'] == 'Ligue des Sociétés de la Croix-Rouge (League of Red Cross Societies)',\n",
    "                   'Organization City'] = 'Geneva'\n",
    "\n",
    "cleaned_nps_df.loc[cleaned_nps_df['Organization Name'] == 'United Nations Children\\'s Fund (UNICEF)',\n",
    "                   'Organization City'] = 'New York, NY'\n",
    "\n",
    "cleaned_nps_df.loc[cleaned_nps_df['Organization Name'] == 'International Labour Organization (I.L.O.)',\n",
    "                   'Organization City'] = 'Geneva'\n",
    "\n",
    "cleaned_nps_df.loc[cleaned_nps_df['Organization Name'] == 'Amnesty International',\n",
    "                   'Organization City'] = 'London'\n",
    "\n",
    "cleaned_nps_df.loc[cleaned_nps_df['Organization Name'] == 'International Physicians for the Prevention of Nuclear War',\n",
    "                   'Organization City'] = 'Boston, MA'\n",
    "\n",
    "cleaned_nps_df.loc[cleaned_nps_df['Organization Name'] == 'United Nations Peacekeeping Forces',\n",
    "                   'Organization City'] = 'New York, NY'\n",
    "\n",
    "cleaned_nps_df.loc[cleaned_nps_df['Organization Name'] == 'Pugwash Conferences on Science and World Affairs',\n",
    "                   'Organization City'] = 'Pugwash'\n",
    "\n",
    "cleaned_nps_df.loc[cleaned_nps_df['Organization Name'] == 'Médecins Sans Frontières',\n",
    "                   'Organization City'] = 'Geneva'\n",
    "\n",
    "cleaned_nps_df.loc[cleaned_nps_df['Organization Name'] == 'International Atomic Energy Agency (IAEA)',\n",
    "                   'Organization City'] = 'Vienna'\n",
    "\n",
    "cleaned_nps_df.loc[cleaned_nps_df['Organization Name'] == 'Grameen Bank',\n",
    "                   'Organization City'] = 'Dhaka'\n",
    "\n",
    "cleaned_nps_df.loc[cleaned_nps_df['Organization Name'] == 'Intergovernmental Panel on Climate Change (IPCC)',\n",
    "                   'Organization City'] = 'Geneva'\n",
    "\n"
   ]
  },
  {
   "cell_type": "markdown",
   "metadata": {},
   "source": [
    "All of the data retrived from [https://www.google.com/] based on the current Headquarters of the Organization or the location it was Founded based on the <span style=\"color:#c7254e; padding: 2px 4px;background-color:#f9f2f4;borer-radius: 4px;font-family: Palatino Linotype;\">Organization Country</span> as the data was not available at the [https://www.nobleprize.org/]."
   ]
  },
  {
   "cell_type": "code",
   "execution_count": 162,
   "metadata": {},
   "outputs": [
    {
     "data": {
      "text/plain": [
       "Motivation               88\n",
       "Birth Date                3\n",
       "Birth City                2\n",
       "Organization Name       221\n",
       "Organization City       217\n",
       "Organization Country    216\n",
       "Death Date              326\n",
       "Death City              344\n",
       "Death Country           338\n",
       "dtype: int64"
      ]
     },
     "execution_count": 162,
     "metadata": {},
     "output_type": "execute_result"
    }
   ],
   "source": [
    "cleaned_nps_df.loc[cleaned_nps_df['Organization Name'] == 'Howard Hughes Medical Institute', 'Organization City'] = 'Maryland'\n",
    "cleaned_nps_df.loc[cleaned_nps_df['Organization Name'] == 'United Nations (U.N.)',\n",
    "                   'Organization City'] = 'New York, NY'\n",
    "cleaned_nps_df.loc[cleaned_nps_df['Organization Name'] == 'European Union (EU)',\n",
    "                   'Organization City'] = 'Brussels'\n",
    "cleaned_nps_df.loc[cleaned_nps_df['Organization Name'] == 'National Dialogue Quartet',\n",
    "                   'Organization City'] = 'Tunisia'\n",
    "cleaned_nps_df.loc[cleaned_nps_df['Organization Name'] == 'International Campaign to Ban Landmines (ICBL)',\n",
    "                   'Organization City'] = 'New York, NY'\n",
    "cleaned_nps_df.loc[cleaned_nps_df['Organization Name'] == 'Organisation for the Prohibition of Chemical Weapons (OPCW)',\n",
    "                   'Organization City'] = ' The Hague'\n",
    "\n",
    "\n",
    "missing_values_count = cleaned_nps_df.isnull().sum()\n",
    "missing_values_count[missing_values_count > 0]"
   ]
  },
  {
   "cell_type": "markdown",
   "metadata": {},
   "source": [
    "Filling all the remaining null values with `none`."
   ]
  },
  {
   "cell_type": "code",
   "execution_count": 163,
   "metadata": {},
   "outputs": [
    {
     "data": {
      "text/plain": [
       "Series([], dtype: int64)"
      ]
     },
     "execution_count": 163,
     "metadata": {},
     "output_type": "execute_result"
    }
   ],
   "source": [
    "cleaned_nps_df = cleaned_nps_df.fillna(\"none\") \n",
    "\n",
    "missing_values_count = cleaned_nps_df.isnull().sum()\n",
    "missing_values_count[missing_values_count > 0]"
   ]
  },
  {
   "cell_type": "code",
   "execution_count": 164,
   "metadata": {},
   "outputs": [
    {
     "name": "stdout",
     "output_type": "stream",
     "text": [
      "Total number present in our database:  969\n",
      "Total number of unique records:  911\n"
     ]
    }
   ],
   "source": [
    "print(\"Total number present in our database: \", cleaned_nps_df.shape[0])\n",
    "\n",
    "unique_records = cleaned_nps_df.groupby(['Full Name', 'Year']).count()\n",
    "print(\"Total number of unique records: \", unique_records.shape[0])"
   ]
  },
  {
   "cell_type": "markdown",
   "metadata": {},
   "source": [
    "As seen from above, some of the data are duplicated. Let's have a closer look on the duplicated records."
   ]
  },
  {
   "cell_type": "code",
   "execution_count": 165,
   "metadata": {},
   "outputs": [
    {
     "data": {
      "text/html": [
       "<div>\n",
       "<style scoped>\n",
       "    .dataframe tbody tr th:only-of-type {\n",
       "        vertical-align: middle;\n",
       "    }\n",
       "\n",
       "    .dataframe tbody tr th {\n",
       "        vertical-align: top;\n",
       "    }\n",
       "\n",
       "    .dataframe thead th {\n",
       "        text-align: right;\n",
       "    }\n",
       "</style>\n",
       "<table border=\"1\" class=\"dataframe\">\n",
       "  <thead>\n",
       "    <tr style=\"text-align: right;\">\n",
       "      <th></th>\n",
       "      <th>Year</th>\n",
       "      <th>Category</th>\n",
       "      <th>Prize</th>\n",
       "      <th>Motivation</th>\n",
       "      <th>Prize Share</th>\n",
       "      <th>Laureate ID</th>\n",
       "      <th>Laureate Type</th>\n",
       "      <th>Full Name</th>\n",
       "      <th>Birth Date</th>\n",
       "      <th>Birth City</th>\n",
       "      <th>Birth Country</th>\n",
       "      <th>Sex</th>\n",
       "      <th>Organization Name</th>\n",
       "      <th>Organization City</th>\n",
       "      <th>Organization Country</th>\n",
       "      <th>Death Date</th>\n",
       "      <th>Death City</th>\n",
       "      <th>Death Country</th>\n",
       "    </tr>\n",
       "  </thead>\n",
       "  <tbody>\n",
       "    <tr>\n",
       "      <th>46</th>\n",
       "      <td>1908</td>\n",
       "      <td>Medicine</td>\n",
       "      <td>The Nobel Prize in Physiology or Medicine 1908</td>\n",
       "      <td>\"in recognition of their work on immunity\"</td>\n",
       "      <td>1/2</td>\n",
       "      <td>302</td>\n",
       "      <td>Individual</td>\n",
       "      <td>Paul Ehrlich</td>\n",
       "      <td>1854-03-14</td>\n",
       "      <td>Strehlen (Strzelin)</td>\n",
       "      <td>Prussia (Poland)</td>\n",
       "      <td>Male</td>\n",
       "      <td>Goettingen University</td>\n",
       "      <td>Göttingen</td>\n",
       "      <td>Germany</td>\n",
       "      <td>1915-08-20</td>\n",
       "      <td>Bad Homburg vor der Höhe</td>\n",
       "      <td>Germany</td>\n",
       "    </tr>\n",
       "    <tr>\n",
       "      <th>47</th>\n",
       "      <td>1908</td>\n",
       "      <td>Medicine</td>\n",
       "      <td>The Nobel Prize in Physiology or Medicine 1908</td>\n",
       "      <td>\"in recognition of their work on immunity\"</td>\n",
       "      <td>1/2</td>\n",
       "      <td>302</td>\n",
       "      <td>Individual</td>\n",
       "      <td>Paul Ehrlich</td>\n",
       "      <td>1854-03-14</td>\n",
       "      <td>Strehlen (Strzelin)</td>\n",
       "      <td>Prussia (Poland)</td>\n",
       "      <td>Male</td>\n",
       "      <td>Königliches Institut für experimentelle Therap...</td>\n",
       "      <td>Frankfurt-on-the-Main</td>\n",
       "      <td>Germany</td>\n",
       "      <td>1915-08-20</td>\n",
       "      <td>Bad Homburg vor der Höhe</td>\n",
       "      <td>Germany</td>\n",
       "    </tr>\n",
       "    <tr>\n",
       "      <th>157</th>\n",
       "      <td>1931</td>\n",
       "      <td>Chemistry</td>\n",
       "      <td>The Nobel Prize in Chemistry 1931</td>\n",
       "      <td>\"in recognition of their contributions to the ...</td>\n",
       "      <td>1/2</td>\n",
       "      <td>189</td>\n",
       "      <td>Individual</td>\n",
       "      <td>Carl Bosch</td>\n",
       "      <td>1874-08-27</td>\n",
       "      <td>Cologne</td>\n",
       "      <td>Germany</td>\n",
       "      <td>Male</td>\n",
       "      <td>University of Heidelberg</td>\n",
       "      <td>Heidelberg</td>\n",
       "      <td>Germany</td>\n",
       "      <td>1940-04-26</td>\n",
       "      <td>Heidelberg</td>\n",
       "      <td>Germany</td>\n",
       "    </tr>\n",
       "    <tr>\n",
       "      <th>158</th>\n",
       "      <td>1931</td>\n",
       "      <td>Chemistry</td>\n",
       "      <td>The Nobel Prize in Chemistry 1931</td>\n",
       "      <td>\"in recognition of their contributions to the ...</td>\n",
       "      <td>1/2</td>\n",
       "      <td>189</td>\n",
       "      <td>Individual</td>\n",
       "      <td>Carl Bosch</td>\n",
       "      <td>1874-08-27</td>\n",
       "      <td>Cologne</td>\n",
       "      <td>Germany</td>\n",
       "      <td>Male</td>\n",
       "      <td>I.G. Farbenindustrie A.G.</td>\n",
       "      <td>Heidelberg</td>\n",
       "      <td>Germany</td>\n",
       "      <td>1940-04-26</td>\n",
       "      <td>Heidelberg</td>\n",
       "      <td>Germany</td>\n",
       "    </tr>\n",
       "    <tr>\n",
       "      <th>159</th>\n",
       "      <td>1931</td>\n",
       "      <td>Chemistry</td>\n",
       "      <td>The Nobel Prize in Chemistry 1931</td>\n",
       "      <td>\"in recognition of their contributions to the ...</td>\n",
       "      <td>1/2</td>\n",
       "      <td>190</td>\n",
       "      <td>Individual</td>\n",
       "      <td>Friedrich Bergius</td>\n",
       "      <td>1884-10-11</td>\n",
       "      <td>Goldschmieden, near Breslau</td>\n",
       "      <td>Germany (Poland)</td>\n",
       "      <td>Male</td>\n",
       "      <td>University of Heidelberg</td>\n",
       "      <td>Heidelberg</td>\n",
       "      <td>Germany</td>\n",
       "      <td>1949-03-30</td>\n",
       "      <td>Buenos Aires</td>\n",
       "      <td>Argentina</td>\n",
       "    </tr>\n",
       "    <tr>\n",
       "      <th>160</th>\n",
       "      <td>1931</td>\n",
       "      <td>Chemistry</td>\n",
       "      <td>The Nobel Prize in Chemistry 1931</td>\n",
       "      <td>\"in recognition of their contributions to the ...</td>\n",
       "      <td>1/2</td>\n",
       "      <td>190</td>\n",
       "      <td>Individual</td>\n",
       "      <td>Friedrich Bergius</td>\n",
       "      <td>1884-10-11</td>\n",
       "      <td>Goldschmieden, near Breslau</td>\n",
       "      <td>Germany (Poland)</td>\n",
       "      <td>Male</td>\n",
       "      <td>I.G. Farbenindustrie A.G.</td>\n",
       "      <td>Mannheim-Rheinau</td>\n",
       "      <td>Germany</td>\n",
       "      <td>1949-03-30</td>\n",
       "      <td>Buenos Aires</td>\n",
       "      <td>Argentina</td>\n",
       "    </tr>\n",
       "  </tbody>\n",
       "</table>\n",
       "</div>"
      ],
      "text/plain": [
       "     Year   Category                                           Prize  \\\n",
       "46   1908   Medicine  The Nobel Prize in Physiology or Medicine 1908   \n",
       "47   1908   Medicine  The Nobel Prize in Physiology or Medicine 1908   \n",
       "157  1931  Chemistry               The Nobel Prize in Chemistry 1931   \n",
       "158  1931  Chemistry               The Nobel Prize in Chemistry 1931   \n",
       "159  1931  Chemistry               The Nobel Prize in Chemistry 1931   \n",
       "160  1931  Chemistry               The Nobel Prize in Chemistry 1931   \n",
       "\n",
       "                                            Motivation Prize Share  \\\n",
       "46          \"in recognition of their work on immunity\"         1/2   \n",
       "47          \"in recognition of their work on immunity\"         1/2   \n",
       "157  \"in recognition of their contributions to the ...         1/2   \n",
       "158  \"in recognition of their contributions to the ...         1/2   \n",
       "159  \"in recognition of their contributions to the ...         1/2   \n",
       "160  \"in recognition of their contributions to the ...         1/2   \n",
       "\n",
       "     Laureate ID Laureate Type          Full Name  Birth Date  \\\n",
       "46           302    Individual       Paul Ehrlich  1854-03-14   \n",
       "47           302    Individual       Paul Ehrlich  1854-03-14   \n",
       "157          189    Individual         Carl Bosch  1874-08-27   \n",
       "158          189    Individual         Carl Bosch  1874-08-27   \n",
       "159          190    Individual  Friedrich Bergius  1884-10-11   \n",
       "160          190    Individual  Friedrich Bergius  1884-10-11   \n",
       "\n",
       "                      Birth City     Birth Country   Sex  \\\n",
       "46           Strehlen (Strzelin)  Prussia (Poland)  Male   \n",
       "47           Strehlen (Strzelin)  Prussia (Poland)  Male   \n",
       "157                      Cologne           Germany  Male   \n",
       "158                      Cologne           Germany  Male   \n",
       "159  Goldschmieden, near Breslau  Germany (Poland)  Male   \n",
       "160  Goldschmieden, near Breslau  Germany (Poland)  Male   \n",
       "\n",
       "                                     Organization Name      Organization City  \\\n",
       "46                               Goettingen University              Göttingen   \n",
       "47   Königliches Institut für experimentelle Therap...  Frankfurt-on-the-Main   \n",
       "157                           University of Heidelberg             Heidelberg   \n",
       "158                          I.G. Farbenindustrie A.G.             Heidelberg   \n",
       "159                           University of Heidelberg             Heidelberg   \n",
       "160                          I.G. Farbenindustrie A.G.       Mannheim-Rheinau   \n",
       "\n",
       "    Organization Country  Death Date                Death City Death Country  \n",
       "46               Germany  1915-08-20  Bad Homburg vor der Höhe       Germany  \n",
       "47               Germany  1915-08-20  Bad Homburg vor der Höhe       Germany  \n",
       "157              Germany  1940-04-26                Heidelberg       Germany  \n",
       "158              Germany  1940-04-26                Heidelberg       Germany  \n",
       "159              Germany  1949-03-30              Buenos Aires     Argentina  \n",
       "160              Germany  1949-03-30              Buenos Aires     Argentina  "
      ]
     },
     "execution_count": 165,
     "metadata": {},
     "output_type": "execute_result"
    }
   ],
   "source": [
    "duplicateRowsDF = cleaned_nps_df.loc[cleaned_nps_df.duplicated(['Full Name','Year'], keep=False), :]\n",
    "duplicateRowsDF.head(6)"
   ]
  },
  {
   "cell_type": "markdown",
   "metadata": {},
   "source": [
    "We can see that the only difference between the duplicated records is <span style=\"color:#c7254e; padding: 2px 4px;background-color:#f9f2f4;borer-radius: 4px;font-family: Palatino Linotype;\">Organization Name</span>, <span style=\"color:#c7254e; padding: 2px 4px;background-color:#f9f2f4;borer-radius: 4px;font-family: Palatino Linotype;\">Organization City</span> and <span style=\"color:#c7254e; padding: 2px 4px;background-color:#f9f2f4;borer-radius: 4px;font-family: Palatino Linotype;\">Organization Country</span> as the winner was affiliated with different organizations at the time of being rewarded. \n",
    "\n",
    "Thus, we can merge the cloumns by combining the the records together."
   ]
  },
  {
   "cell_type": "code",
   "execution_count": 166,
   "metadata": {},
   "outputs": [
    {
     "name": "stdout",
     "output_type": "stream",
     "text": [
      "Total number present in our database:  911\n"
     ]
    }
   ],
   "source": [
    "renamer = lambda a: \" / \".join(a) \n",
    "\n",
    "cleaned_nps_df = cleaned_nps_df.groupby(['Year','Category','Prize','Motivation','Prize Share','Laureate ID',\n",
    "                              'Laureate Type','Full Name','Birth Date','Birth City','Birth Country',\n",
    "                              'Sex','Death Date','Death City','Death Country']).agg({'Organization Name': renamer ,\n",
    "                                                                                    'Organization City': renamer ,\n",
    "                                                                                    'Organization Country': renamer}).reset_index()\n",
    "cleaned_nps_df = cleaned_nps_df[['Year','Category','Prize','Motivation','Prize Share','Laureate ID',\n",
    "                              'Laureate Type','Full Name','Birth Date','Birth City','Birth Country',\n",
    "                              'Sex','Organization Name','Organization City','Organization Country',\n",
    "                                 'Death Date','Death City','Death Country']]\n",
    "\n",
    "print(\"Total number present in our database: \", cleaned_nps_df.shape[0])\n"
   ]
  },
  {
   "cell_type": "markdown",
   "metadata": {},
   "source": [
    "### Question 3: What are the categories that hold the most noble prizes ?\n",
    "As seen below to answer this question, the data is grouped by the types of categories offered for noble prizes and then the grouped data is sorted in a descending order, so we can see that the field of medicine holds the most noble prizes followed by the field of physics."
   ]
  },
  {
   "cell_type": "code",
   "execution_count": 167,
   "metadata": {},
   "outputs": [
    {
     "name": "stdout",
     "output_type": "stream",
     "text": [
      "Category\n",
      "Medicine      211\n",
      "Physics       204\n",
      "Chemistry     175\n",
      "Peace         130\n",
      "Literature    113\n",
      "Economics      78\n",
      "dtype: int64\n"
     ]
    },
    {
     "data": {
      "image/png": "[encoded data removed]",
      "text/plain": [
       "<Figure size 432x288 with 1 Axes>"
      ]
     },
     "metadata": {},
     "output_type": "display_data"
    }
   ],
   "source": [
    "print(cleaned_nps_df.groupby(['Category']).size().sort_values(ascending=False))\n",
    "cleaned_nps_df.groupby(['Category']).size().plot(kind='bar', color=\"#159957\")\n",
    "plt.show()"
   ]
  },
  {
   "cell_type": "markdown",
   "metadata": {},
   "source": [
    "### Question 4: Who are the youngest and the oldest noble prize winners ?\n",
    "First of all a new column holding the age is added to the data which represents the age of the noble prize winner at the time of winning the prize, it was calculated by subtracting the birth date of the winner from the year of the prize. To get the youngest and the oldest winner the minimum and the maximum values of the age column were obtained"
   ]
  },
  {
   "cell_type": "code",
   "execution_count": 168,
   "metadata": {},
   "outputs": [
    {
     "data": {
      "text/html": [
       "<div>\n",
       "<style scoped>\n",
       "    .dataframe tbody tr th:only-of-type {\n",
       "        vertical-align: middle;\n",
       "    }\n",
       "\n",
       "    .dataframe tbody tr th {\n",
       "        vertical-align: top;\n",
       "    }\n",
       "\n",
       "    .dataframe thead th {\n",
       "        text-align: right;\n",
       "    }\n",
       "</style>\n",
       "<table border=\"1\" class=\"dataframe\">\n",
       "  <thead>\n",
       "    <tr style=\"text-align: right;\">\n",
       "      <th></th>\n",
       "      <th>Year</th>\n",
       "      <th>Category</th>\n",
       "      <th>Full Name</th>\n",
       "      <th>Age</th>\n",
       "    </tr>\n",
       "  </thead>\n",
       "  <tbody>\n",
       "    <tr>\n",
       "      <th>885</th>\n",
       "      <td>2014</td>\n",
       "      <td>Peace</td>\n",
       "      <td>Malala Yousafzai</td>\n",
       "      <td>17.0</td>\n",
       "    </tr>\n",
       "  </tbody>\n",
       "</table>\n",
       "</div>"
      ],
      "text/plain": [
       "     Year Category         Full Name   Age\n",
       "885  2014    Peace  Malala Yousafzai  17.0"
      ]
     },
     "execution_count": 168,
     "metadata": {},
     "output_type": "execute_result"
    }
   ],
   "source": [
    "cleaned_nps_df['Birth Date'] = pd.to_datetime(cleaned_nps_df[\"Birth Date\"],errors='coerce')\n",
    "cleaned_nps_df['Age'] = cleaned_nps_df['Year'] - cleaned_nps_df['Birth Date'].dt.year\n",
    "Youngest= cleaned_nps_df[cleaned_nps_df['Age'] == min(cleaned_nps_df['Age'])]\n",
    "Youngest[['Year','Category','Full Name','Age']]"
   ]
  },
  {
   "cell_type": "code",
   "execution_count": 169,
   "metadata": {},
   "outputs": [
    {
     "data": {
      "text/html": [
       "<div>\n",
       "<style scoped>\n",
       "    .dataframe tbody tr th:only-of-type {\n",
       "        vertical-align: middle;\n",
       "    }\n",
       "\n",
       "    .dataframe tbody tr th {\n",
       "        vertical-align: top;\n",
       "    }\n",
       "\n",
       "    .dataframe thead th {\n",
       "        text-align: right;\n",
       "    }\n",
       "</style>\n",
       "<table border=\"1\" class=\"dataframe\">\n",
       "  <thead>\n",
       "    <tr style=\"text-align: right;\">\n",
       "      <th></th>\n",
       "      <th>Year</th>\n",
       "      <th>Category</th>\n",
       "      <th>Full Name</th>\n",
       "      <th>Age</th>\n",
       "    </tr>\n",
       "  </thead>\n",
       "  <tbody>\n",
       "    <tr>\n",
       "      <th>793</th>\n",
       "      <td>2007</td>\n",
       "      <td>Economics</td>\n",
       "      <td>Leonid Hurwicz</td>\n",
       "      <td>90.0</td>\n",
       "    </tr>\n",
       "  </tbody>\n",
       "</table>\n",
       "</div>"
      ],
      "text/plain": [
       "     Year   Category       Full Name   Age\n",
       "793  2007  Economics  Leonid Hurwicz  90.0"
      ]
     },
     "execution_count": 169,
     "metadata": {},
     "output_type": "execute_result"
    }
   ],
   "source": [
    "oldest = cleaned_nps_df[cleaned_nps_df['Age'] == max(cleaned_nps_df['Age'])]\n",
    "oldest[['Year','Category','Full Name','Age']]"
   ]
  },
  {
   "cell_type": "markdown",
   "metadata": {},
   "source": [
    "### Question 5: Who is the first female to win a noble prize ?\n",
    "In order to identify the first female noble prize winner, we filtered the data according to the column <span style=\"color:#c7254e; padding: 2px 4px;background-color:#f9f2f4;borer-radius: 4px;font-family: Palatino Linotype;\">Sex</span> to be female so we can get all the data of the female prize winners, then we chose the first one in the data to get the first ever female winner.\n"
   ]
  },
  {
   "cell_type": "code",
   "execution_count": 170,
   "metadata": {},
   "outputs": [
    {
     "data": {
      "text/html": [
       "<div>\n",
       "<style scoped>\n",
       "    .dataframe tbody tr th:only-of-type {\n",
       "        vertical-align: middle;\n",
       "    }\n",
       "\n",
       "    .dataframe tbody tr th {\n",
       "        vertical-align: top;\n",
       "    }\n",
       "\n",
       "    .dataframe thead th {\n",
       "        text-align: right;\n",
       "    }\n",
       "</style>\n",
       "<table border=\"1\" class=\"dataframe\">\n",
       "  <thead>\n",
       "    <tr style=\"text-align: right;\">\n",
       "      <th></th>\n",
       "      <th>Year</th>\n",
       "      <th>Category</th>\n",
       "      <th>Full Name</th>\n",
       "      <th>Age</th>\n",
       "    </tr>\n",
       "  </thead>\n",
       "  <tbody>\n",
       "    <tr>\n",
       "      <th>19</th>\n",
       "      <td>1903</td>\n",
       "      <td>Physics</td>\n",
       "      <td>Marie Curie, née Sklodowska</td>\n",
       "      <td>36.0</td>\n",
       "    </tr>\n",
       "  </tbody>\n",
       "</table>\n",
       "</div>"
      ],
      "text/plain": [
       "    Year Category                    Full Name   Age\n",
       "19  1903  Physics  Marie Curie, née Sklodowska  36.0"
      ]
     },
     "execution_count": 170,
     "metadata": {},
     "output_type": "execute_result"
    }
   ],
   "source": [
    "female_noble_winners = cleaned_nps_df[cleaned_nps_df['Sex'] == 'Female']\n",
    "female_noble_winners.head(1)[['Year','Category','Full Name','Age']]"
   ]
  },
  {
   "cell_type": "markdown",
   "metadata": {},
   "source": [
    "### Question 6: Top Birth Country to receive noble prizes?"
   ]
  },
  {
   "cell_type": "code",
   "execution_count": 171,
   "metadata": {},
   "outputs": [
    {
     "name": "stdout",
     "output_type": "stream",
     "text": [
      "Birth Country\n",
      "United States of America    259\n",
      "United Kingdom               85\n",
      "Germany                      61\n",
      "France                       51\n",
      "Sweden                       29\n",
      "none                         26\n",
      "Japan                        24\n",
      "Canada                       18\n",
      "Netherlands                  18\n",
      "Russia                       17\n",
      "dtype: int64\n"
     ]
    },
    {
     "data": {
      "text/plain": [
       "<matplotlib.axes._subplots.AxesSubplot at 0x7f6496e6f828>"
      ]
     },
     "execution_count": 171,
     "metadata": {},
     "output_type": "execute_result"
    },
    {
     "data": {
      "image/png": "[encoded data removed]",
      "text/plain": [
       "<Figure size 432x288 with 1 Axes>"
      ]
     },
     "metadata": {},
     "output_type": "display_data"
    }
   ],
   "source": [
    "print(cleaned_nps_df.groupby(['Birth Country']).size().sort_values(ascending=False).head(10))\n",
    "cleaned_nps_df.groupby(['Birth Country']).size().sort_values(ascending=False).head(10).plot(kind='barh', color=\"#159999\")"
   ]
  },
  {
   "cell_type": "markdown",
   "metadata": {},
   "source": [
    "### Question 7: Which Year had most and least prizes awarded?"
   ]
  },
  {
   "cell_type": "code",
   "execution_count": 172,
   "metadata": {},
   "outputs": [
    {
     "name": "stdout",
     "output_type": "stream",
     "text": [
      "Top Year: 2001 With total prizes: 15\n",
      "Least Year: 1916 With total prizes: 1\n"
     ]
    },
    {
     "name": "stderr",
     "output_type": "stream",
     "text": [
      "/home/youssef/anaconda3/lib/python3.7/site-packages/ipykernel_launcher.py:2: SettingWithCopyWarning: \n",
      "A value is trying to be set on a copy of a slice from a DataFrame.\n",
      "Try using .loc[row_indexer,col_indexer] = value instead\n",
      "\n",
      "See the caveats in the documentation: http://pandas.pydata.org/pandas-docs/stable/indexing.html#indexing-view-versus-copy\n",
      "  \n",
      "/home/youssef/anaconda3/lib/python3.7/site-packages/ipykernel_launcher.py:6: FutureWarning: get_value is deprecated and will be removed in a future release. Please use .at[] or .iat[] accessors instead\n",
      "  \n",
      "/home/youssef/anaconda3/lib/python3.7/site-packages/ipykernel_launcher.py:10: FutureWarning: get_value is deprecated and will be removed in a future release. Please use .at[] or .iat[] accessors instead\n",
      "  # Remove the CWD from sys.path while we load stuff.\n"
     ]
    }
   ],
   "source": [
    "Year_Count = cleaned_nps_df[['Year','Laureate ID']]\n",
    "Year_Count['Count'] = cleaned_nps_df.groupby('Year')['Year'].transform('count')\n",
    "Year_Count = Year_Count.sort_values(by ='Count',ascending = False)\n",
    "Most = Year_Count[Year_Count['Count'] == max(Year_Count['Count'])]\n",
    "Most.reset_index(drop=False, inplace=True)\n",
    "print(\"Top Year:\",Most.get_value(0, 'Year'),\"With total prizes:\",Most.get_value(0, 'Count'))\n",
    "\n",
    "Least = Year_Count[Year_Count['Count'] == min(Year_Count['Count'])]\n",
    "Least.reset_index(drop=False, inplace=True)\n",
    "print(\"Least Year:\",Least.get_value(0, 'Year'),\"With total prizes:\",Least.get_value(0, 'Count'))"
   ]
  },
  {
   "cell_type": "markdown",
   "metadata": {},
   "source": [
    "### Question 8: What is the lifespan of Laureates? //to be edited "
   ]
  },
  {
   "cell_type": "code",
   "execution_count": 173,
   "metadata": {},
   "outputs": [
    {
     "name": "stderr",
     "output_type": "stream",
     "text": [
      "/home/youssef/anaconda3/lib/python3.7/site-packages/ipykernel_launcher.py:4: SettingWithCopyWarning: \n",
      "A value is trying to be set on a copy of a slice from a DataFrame.\n",
      "Try using .loc[row_indexer,col_indexer] = value instead\n",
      "\n",
      "See the caveats in the documentation: http://pandas.pydata.org/pandas-docs/stable/indexing.html#indexing-view-versus-copy\n",
      "  after removing the cwd from sys.path.\n"
     ]
    },
    {
     "ename": "ValueError",
     "evalue": "time data none doesn't match format specified",
     "output_type": "error",
     "traceback": [
      "\u001b[0;31m---------------------------------------------------------------------------\u001b[0m",
      "\u001b[0;31mTypeError\u001b[0m                                 Traceback (most recent call last)",
      "\u001b[0;32m~/anaconda3/lib/python3.7/site-packages/pandas/core/arrays/datetimes.py\u001b[0m in \u001b[0;36mobjects_to_datetime64ns\u001b[0;34m(data, dayfirst, yearfirst, utc, errors, require_iso8601, allow_object)\u001b[0m\n\u001b[1;32m   1860\u001b[0m         \u001b[0;32mtry\u001b[0m\u001b[0;34m:\u001b[0m\u001b[0;34m\u001b[0m\u001b[0;34m\u001b[0m\u001b[0m\n\u001b[0;32m-> 1861\u001b[0;31m             \u001b[0mvalues\u001b[0m\u001b[0;34m,\u001b[0m \u001b[0mtz_parsed\u001b[0m \u001b[0;34m=\u001b[0m \u001b[0mconversion\u001b[0m\u001b[0;34m.\u001b[0m\u001b[0mdatetime_to_datetime64\u001b[0m\u001b[0;34m(\u001b[0m\u001b[0mdata\u001b[0m\u001b[0;34m)\u001b[0m\u001b[0;34m\u001b[0m\u001b[0;34m\u001b[0m\u001b[0m\n\u001b[0m\u001b[1;32m   1862\u001b[0m             \u001b[0;31m# If tzaware, these values represent unix timestamps, so we\u001b[0m\u001b[0;34m\u001b[0m\u001b[0;34m\u001b[0m\u001b[0;34m\u001b[0m\u001b[0m\n",
      "\u001b[0;32mpandas/_libs/tslibs/conversion.pyx\u001b[0m in \u001b[0;36mpandas._libs.tslibs.conversion.datetime_to_datetime64\u001b[0;34m()\u001b[0m\n",
      "\u001b[0;31mTypeError\u001b[0m: Unrecognized value type: <class 'str'>",
      "\nDuring handling of the above exception, another exception occurred:\n",
      "\u001b[0;31mValueError\u001b[0m                                Traceback (most recent call last)",
      "\u001b[0;32m<ipython-input-173-b01ac258d639>\u001b[0m in \u001b[0;36m<module>\u001b[0;34m\u001b[0m\n\u001b[1;32m      5\u001b[0m \u001b[0mlife_span\u001b[0m \u001b[0;34m=\u001b[0m \u001b[0mlife_span\u001b[0m\u001b[0;34m[\u001b[0m\u001b[0mpd\u001b[0m\u001b[0;34m.\u001b[0m\u001b[0mnotnull\u001b[0m\u001b[0;34m(\u001b[0m\u001b[0mlife_span\u001b[0m\u001b[0;34m[\u001b[0m\u001b[0;34m'Birth Year'\u001b[0m\u001b[0;34m]\u001b[0m\u001b[0;34m)\u001b[0m\u001b[0;34m]\u001b[0m\u001b[0;34m\u001b[0m\u001b[0;34m\u001b[0m\u001b[0m\n\u001b[1;32m      6\u001b[0m \u001b[0;34m\u001b[0m\u001b[0m\n\u001b[0;32m----> 7\u001b[0;31m \u001b[0mlife_span\u001b[0m\u001b[0;34m[\u001b[0m\u001b[0;34m'Death Date'\u001b[0m\u001b[0;34m]\u001b[0m \u001b[0;34m=\u001b[0m \u001b[0mpd\u001b[0m\u001b[0;34m.\u001b[0m\u001b[0mto_datetime\u001b[0m\u001b[0;34m(\u001b[0m\u001b[0mlife_span\u001b[0m\u001b[0;34m[\u001b[0m\u001b[0;34m'Death Date'\u001b[0m\u001b[0;34m]\u001b[0m\u001b[0;34m,\u001b[0m \u001b[0mformat\u001b[0m\u001b[0;34m=\u001b[0m\u001b[0;34m'%Y-%m-%d'\u001b[0m\u001b[0;34m)\u001b[0m\u001b[0;34m\u001b[0m\u001b[0;34m\u001b[0m\u001b[0m\n\u001b[0m\u001b[1;32m      8\u001b[0m \u001b[0mlife_span\u001b[0m\u001b[0;34m[\u001b[0m\u001b[0;34m'Death Year'\u001b[0m\u001b[0;34m]\u001b[0m \u001b[0;34m=\u001b[0m \u001b[0mlife_span\u001b[0m\u001b[0;34m[\u001b[0m\u001b[0;34m'Death Date'\u001b[0m\u001b[0;34m]\u001b[0m\u001b[0;34m.\u001b[0m\u001b[0mdt\u001b[0m\u001b[0;34m.\u001b[0m\u001b[0myear\u001b[0m\u001b[0;34m\u001b[0m\u001b[0;34m\u001b[0m\u001b[0m\n\u001b[1;32m      9\u001b[0m \u001b[0mlife_span\u001b[0m\u001b[0;34m[\u001b[0m\u001b[0;34m'Death Year'\u001b[0m\u001b[0;34m]\u001b[0m\u001b[0;34m.\u001b[0m\u001b[0mfillna\u001b[0m\u001b[0;34m(\u001b[0m\u001b[0mdatetime\u001b[0m\u001b[0;34m.\u001b[0m\u001b[0mtoday\u001b[0m\u001b[0;34m(\u001b[0m\u001b[0;34m)\u001b[0m\u001b[0;34m.\u001b[0m\u001b[0myear\u001b[0m\u001b[0;34m,\u001b[0m \u001b[0minplace\u001b[0m\u001b[0;34m=\u001b[0m\u001b[0;32mTrue\u001b[0m\u001b[0;34m)\u001b[0m\u001b[0;34m\u001b[0m\u001b[0;34m\u001b[0m\u001b[0m\n",
      "\u001b[0;32m~/anaconda3/lib/python3.7/site-packages/pandas/core/tools/datetimes.py\u001b[0m in \u001b[0;36mto_datetime\u001b[0;34m(arg, errors, dayfirst, yearfirst, utc, box, format, exact, unit, infer_datetime_format, origin, cache)\u001b[0m\n\u001b[1;32m    590\u001b[0m         \u001b[0;32melse\u001b[0m\u001b[0;34m:\u001b[0m\u001b[0;34m\u001b[0m\u001b[0;34m\u001b[0m\u001b[0m\n\u001b[1;32m    591\u001b[0m             \u001b[0;32mfrom\u001b[0m \u001b[0mpandas\u001b[0m \u001b[0;32mimport\u001b[0m \u001b[0mSeries\u001b[0m\u001b[0;34m\u001b[0m\u001b[0;34m\u001b[0m\u001b[0m\n\u001b[0;32m--> 592\u001b[0;31m             \u001b[0mvalues\u001b[0m \u001b[0;34m=\u001b[0m \u001b[0mconvert_listlike\u001b[0m\u001b[0;34m(\u001b[0m\u001b[0marg\u001b[0m\u001b[0;34m.\u001b[0m\u001b[0m_values\u001b[0m\u001b[0;34m,\u001b[0m \u001b[0;32mTrue\u001b[0m\u001b[0;34m,\u001b[0m \u001b[0mformat\u001b[0m\u001b[0;34m)\u001b[0m\u001b[0;34m\u001b[0m\u001b[0;34m\u001b[0m\u001b[0m\n\u001b[0m\u001b[1;32m    593\u001b[0m             \u001b[0mresult\u001b[0m \u001b[0;34m=\u001b[0m \u001b[0mSeries\u001b[0m\u001b[0;34m(\u001b[0m\u001b[0mvalues\u001b[0m\u001b[0;34m,\u001b[0m \u001b[0mindex\u001b[0m\u001b[0;34m=\u001b[0m\u001b[0marg\u001b[0m\u001b[0;34m.\u001b[0m\u001b[0mindex\u001b[0m\u001b[0;34m,\u001b[0m \u001b[0mname\u001b[0m\u001b[0;34m=\u001b[0m\u001b[0marg\u001b[0m\u001b[0;34m.\u001b[0m\u001b[0mname\u001b[0m\u001b[0;34m)\u001b[0m\u001b[0;34m\u001b[0m\u001b[0;34m\u001b[0m\u001b[0m\n\u001b[1;32m    594\u001b[0m     \u001b[0;32melif\u001b[0m \u001b[0misinstance\u001b[0m\u001b[0;34m(\u001b[0m\u001b[0marg\u001b[0m\u001b[0;34m,\u001b[0m \u001b[0;34m(\u001b[0m\u001b[0mABCDataFrame\u001b[0m\u001b[0;34m,\u001b[0m \u001b[0mcompat\u001b[0m\u001b[0;34m.\u001b[0m\u001b[0mMutableMapping\u001b[0m\u001b[0;34m)\u001b[0m\u001b[0;34m)\u001b[0m\u001b[0;34m:\u001b[0m\u001b[0;34m\u001b[0m\u001b[0;34m\u001b[0m\u001b[0m\n",
      "\u001b[0;32m~/anaconda3/lib/python3.7/site-packages/pandas/core/tools/datetimes.py\u001b[0m in \u001b[0;36m_convert_listlike_datetimes\u001b[0;34m(arg, box, format, name, tz, unit, errors, infer_datetime_format, dayfirst, yearfirst, exact)\u001b[0m\n\u001b[1;32m    300\u001b[0m             \u001b[0marg\u001b[0m\u001b[0;34m,\u001b[0m \u001b[0mdayfirst\u001b[0m\u001b[0;34m=\u001b[0m\u001b[0mdayfirst\u001b[0m\u001b[0;34m,\u001b[0m \u001b[0myearfirst\u001b[0m\u001b[0;34m=\u001b[0m\u001b[0myearfirst\u001b[0m\u001b[0;34m,\u001b[0m\u001b[0;34m\u001b[0m\u001b[0;34m\u001b[0m\u001b[0m\n\u001b[1;32m    301\u001b[0m             \u001b[0mutc\u001b[0m\u001b[0;34m=\u001b[0m\u001b[0mutc\u001b[0m\u001b[0;34m,\u001b[0m \u001b[0merrors\u001b[0m\u001b[0;34m=\u001b[0m\u001b[0merrors\u001b[0m\u001b[0;34m,\u001b[0m \u001b[0mrequire_iso8601\u001b[0m\u001b[0;34m=\u001b[0m\u001b[0mrequire_iso8601\u001b[0m\u001b[0;34m,\u001b[0m\u001b[0;34m\u001b[0m\u001b[0;34m\u001b[0m\u001b[0m\n\u001b[0;32m--> 302\u001b[0;31m             allow_object=True)\n\u001b[0m\u001b[1;32m    303\u001b[0m \u001b[0;34m\u001b[0m\u001b[0m\n\u001b[1;32m    304\u001b[0m     \u001b[0;32mif\u001b[0m \u001b[0mtz_parsed\u001b[0m \u001b[0;32mis\u001b[0m \u001b[0;32mnot\u001b[0m \u001b[0;32mNone\u001b[0m\u001b[0;34m:\u001b[0m\u001b[0;34m\u001b[0m\u001b[0;34m\u001b[0m\u001b[0m\n",
      "\u001b[0;32m~/anaconda3/lib/python3.7/site-packages/pandas/core/arrays/datetimes.py\u001b[0m in \u001b[0;36mobjects_to_datetime64ns\u001b[0;34m(data, dayfirst, yearfirst, utc, errors, require_iso8601, allow_object)\u001b[0m\n\u001b[1;32m   1864\u001b[0m             \u001b[0;32mreturn\u001b[0m \u001b[0mvalues\u001b[0m\u001b[0;34m.\u001b[0m\u001b[0mview\u001b[0m\u001b[0;34m(\u001b[0m\u001b[0;34m'i8'\u001b[0m\u001b[0;34m)\u001b[0m\u001b[0;34m,\u001b[0m \u001b[0mtz_parsed\u001b[0m\u001b[0;34m\u001b[0m\u001b[0;34m\u001b[0m\u001b[0m\n\u001b[1;32m   1865\u001b[0m         \u001b[0;32mexcept\u001b[0m \u001b[0;34m(\u001b[0m\u001b[0mValueError\u001b[0m\u001b[0;34m,\u001b[0m \u001b[0mTypeError\u001b[0m\u001b[0;34m)\u001b[0m\u001b[0;34m:\u001b[0m\u001b[0;34m\u001b[0m\u001b[0;34m\u001b[0m\u001b[0m\n\u001b[0;32m-> 1866\u001b[0;31m             \u001b[0;32mraise\u001b[0m \u001b[0me\u001b[0m\u001b[0;34m\u001b[0m\u001b[0;34m\u001b[0m\u001b[0m\n\u001b[0m\u001b[1;32m   1867\u001b[0m \u001b[0;34m\u001b[0m\u001b[0m\n\u001b[1;32m   1868\u001b[0m     \u001b[0;32mif\u001b[0m \u001b[0mtz_parsed\u001b[0m \u001b[0;32mis\u001b[0m \u001b[0;32mnot\u001b[0m \u001b[0;32mNone\u001b[0m\u001b[0;34m:\u001b[0m\u001b[0;34m\u001b[0m\u001b[0;34m\u001b[0m\u001b[0m\n",
      "\u001b[0;32m~/anaconda3/lib/python3.7/site-packages/pandas/core/arrays/datetimes.py\u001b[0m in \u001b[0;36mobjects_to_datetime64ns\u001b[0;34m(data, dayfirst, yearfirst, utc, errors, require_iso8601, allow_object)\u001b[0m\n\u001b[1;32m   1855\u001b[0m             \u001b[0mdayfirst\u001b[0m\u001b[0;34m=\u001b[0m\u001b[0mdayfirst\u001b[0m\u001b[0;34m,\u001b[0m\u001b[0;34m\u001b[0m\u001b[0;34m\u001b[0m\u001b[0m\n\u001b[1;32m   1856\u001b[0m             \u001b[0myearfirst\u001b[0m\u001b[0;34m=\u001b[0m\u001b[0myearfirst\u001b[0m\u001b[0;34m,\u001b[0m\u001b[0;34m\u001b[0m\u001b[0;34m\u001b[0m\u001b[0m\n\u001b[0;32m-> 1857\u001b[0;31m             \u001b[0mrequire_iso8601\u001b[0m\u001b[0;34m=\u001b[0m\u001b[0mrequire_iso8601\u001b[0m\u001b[0;34m\u001b[0m\u001b[0;34m\u001b[0m\u001b[0m\n\u001b[0m\u001b[1;32m   1858\u001b[0m         )\n\u001b[1;32m   1859\u001b[0m     \u001b[0;32mexcept\u001b[0m \u001b[0mValueError\u001b[0m \u001b[0;32mas\u001b[0m \u001b[0me\u001b[0m\u001b[0;34m:\u001b[0m\u001b[0;34m\u001b[0m\u001b[0;34m\u001b[0m\u001b[0m\n",
      "\u001b[0;32mpandas/_libs/tslib.pyx\u001b[0m in \u001b[0;36mpandas._libs.tslib.array_to_datetime\u001b[0;34m()\u001b[0m\n",
      "\u001b[0;32mpandas/_libs/tslib.pyx\u001b[0m in \u001b[0;36mpandas._libs.tslib.array_to_datetime\u001b[0;34m()\u001b[0m\n",
      "\u001b[0;31mValueError\u001b[0m: time data none doesn't match format specified"
     ]
    }
   ],
   "source": [
    "from datetime import datetime\n",
    "\n",
    "life_span = cleaned_nps_df[['Birth Date','Death Date']]\n",
    "life_span['Birth Year'] = life_span['Birth Date'].dt.year\n",
    "life_span = life_span[pd.notnull(life_span['Birth Year'])]\n",
    "\n",
    "life_span['Death Date'] = pd.to_datetime(life_span['Death Date'], format='%Y-%m-%d')\n",
    "life_span['Death Year'] = life_span['Death Date'].dt.year\n",
    "life_span['Death Year'].fillna(datetime.today().year, inplace=True)\n",
    "life_span['Life Span'] = life_span['Death Year'] - life_span['Birth Year']\n",
    "#life_span['Life Span'].sort_values(ascending=False).head(10)\n",
    "plt.hist(life_span['Life Span'],bins=30)\n",
    "plt.title('Life Span of Laureates')\n",
    "plt.show()"
   ]
  },
  {
   "cell_type": "markdown",
   "metadata": {},
   "source": [
    "### Question 9: Did anyone win noble prize more than once? "
   ]
  },
  {
   "cell_type": "code",
   "execution_count": null,
   "metadata": {},
   "outputs": [],
   "source": [
    "print(cleaned_nps_df.groupby(['Full Name','Year']).size().sort_values(ascending=False).head(1))"
   ]
  },
  {
   "cell_type": "markdown",
   "metadata": {},
   "source": [
    "No laurate in this data set won more than one nobel prize."
   ]
  },
  {
   "cell_type": "markdown",
   "metadata": {},
   "source": [
    "### Question 10: Is there a relation between the nobel prize winners?"
   ]
  },
  {
   "cell_type": "code",
   "execution_count": null,
   "metadata": {},
   "outputs": [],
   "source": [
    "# To be answered"
   ]
  }
 ],
 "metadata": {
  "celltoolbar": "Raw Cell Format",
  "kernelspec": {
   "display_name": "Python 3",
   "language": "python",
   "name": "python3"
  },
  "language_info": {
   "codemirror_mode": {
    "name": "ipython",
    "version": 3
   },
   "file_extension": ".py",
   "mimetype": "text/x-python",
   "name": "python",
   "nbconvert_exporter": "python",
   "pygments_lexer": "ipython3",
   "version": "3.7.3"
  }
 },
 "nbformat": 4,
 "nbformat_minor": 2
}
