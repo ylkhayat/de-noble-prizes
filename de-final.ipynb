{
 "cells": [
  {
   "cell_type": "markdown",
   "metadata": {},
   "source": [
    "# Course Project\n",
    "## CSEN 1095 - Data Engineering\n",
    "### _German University in Cairo_\n",
    "\n",
    "Collaborators:\n",
    "- Nada Hammouda\n",
    "- Aya Ibrahim -37-1574\n",
    "- Habiba ElHussein - 37-0846\n",
    "- Youssef Tarek - 37-3865"
   ]
  },
  {
   "cell_type": "markdown",
   "metadata": {},
   "source": [
    "<div style=\"background-color:rgba(0, 0, 0, 0.6); text-align:center; vertical-align: middle; padding:40px 0;color:rgb(255,255,255);\">\n",
    "    <h1>Visual History of Nobel Prize Winners</h1>\n",
    "</div>\n",
    "\n"
   ]
  },
  {
   "cell_type": "markdown",
   "metadata": {},
   "source": [
    "- Project Website: https://yousseftarekkh.github.io/de-noble-prizes/\n",
    "- Github: https://github.com/yousseftarekkh/de-noble-prizes/"
   ]
  },
  {
   "cell_type": "markdown",
   "metadata": {},
   "source": [
    "## Overview & Motivation\n",
    "\n",
    "This project aims to apply several steps of data refactoring and cleaning in order to visually analyze and introduce potential data fixes to the acquired data set. Such steps can help further identify relations, recognize hidden patterns in different countries, pay attention to trending categories and generally reach conclusions and answers about many proposed questions among the data records which in our case represents **<span style=\"color:brown\">Nobel Prize winners</span>**.\n",
    "\n",
    "The following research will be held in a **Q&A** driven structure; meaning we will propose potential questions and put effort into trying to derive answers and conclusions.\n",
    "\n",
    "Initially, we used the following data set found at https://www.datacamp.com/projects/441. Additional data sets may be used in order to succesfully form a tidy data with less missing values and for the sake of adding more valuable records to the existing data set. All used references will be included in the next section."
   ]
  },
  {
   "cell_type": "markdown",
   "metadata": {},
   "source": [
    "## Related Work\n",
    "\n",
    "We have been influenced by a lot of work after a research we conducted on this particular topic and we found the following sites interesting for a certain cause.\n",
    "- https://www.datacamp.com/projects/441 - The mentioned project tasks included some interesting questions we needed to find answers to, thus we decided to re-engineer the data to properly formulate answers.\n",
    "- https://www.kaggle.com/devisangeetha/nobel-prize-winners-story - Inspired on how well and organized that research was and the outcome that this research helped discovering.\n",
    "- https://www.nobelprize.org/prizes/facts/nobel-prize-facts/ - Website contains a large bulk of Nobel Prize winners facts including both interesting and shocking events in the history."
   ]
  },
  {
   "cell_type": "markdown",
   "metadata": {},
   "source": [
    "## Questions\n",
    "\n",
    "The main questions that motivated that project were: \n",
    "    1. What are the categories that hold the most noble prizes ?\n",
    "    2. Who are the youngest and the oldest noble prize winners ?\n",
    "    3. Who is the first female to win a noble prize ?\n",
    "    4. Toppest Birth Country to receive noble prize?\n",
    "    4. Is there a relation between the nobel prize winners?\n",
    "    5. \n"
   ]
  },
  {
   "cell_type": "markdown",
   "metadata": {},
   "source": [
    "Modules we will be using are listed bellow."
   ]
  },
  {
   "cell_type": "code",
   "execution_count": 1,
   "metadata": {},
   "outputs": [],
   "source": [
    "import pandas as pd\n",
    "import numpy as np\n",
    "import matplotlib.pyplot as plt"
   ]
  },
  {
   "cell_type": "markdown",
   "metadata": {},
   "source": [
    "In order to get a better look at the data, we will preview a sample to visually analyze the attributes assigned to each record. "
   ]
  },
  {
   "cell_type": "code",
   "execution_count": 2,
   "metadata": {},
   "outputs": [
    {
     "data": {
      "text/html": [
       "<div>\n",
       "<style scoped>\n",
       "    .dataframe tbody tr th:only-of-type {\n",
       "        vertical-align: middle;\n",
       "    }\n",
       "\n",
       "    .dataframe tbody tr th {\n",
       "        vertical-align: top;\n",
       "    }\n",
       "\n",
       "    .dataframe thead th {\n",
       "        text-align: right;\n",
       "    }\n",
       "</style>\n",
       "<table border=\"1\" class=\"dataframe\">\n",
       "  <thead>\n",
       "    <tr style=\"text-align: right;\">\n",
       "      <th></th>\n",
       "      <th>Year</th>\n",
       "      <th>Category</th>\n",
       "      <th>Prize</th>\n",
       "      <th>Motivation</th>\n",
       "      <th>Prize Share</th>\n",
       "      <th>Laureate ID</th>\n",
       "      <th>Laureate Type</th>\n",
       "      <th>Full Name</th>\n",
       "      <th>Birth Date</th>\n",
       "      <th>Birth City</th>\n",
       "      <th>Birth Country</th>\n",
       "      <th>Sex</th>\n",
       "      <th>Organization Name</th>\n",
       "      <th>Organization City</th>\n",
       "      <th>Organization Country</th>\n",
       "      <th>Death Date</th>\n",
       "      <th>Death City</th>\n",
       "      <th>Death Country</th>\n",
       "    </tr>\n",
       "  </thead>\n",
       "  <tbody>\n",
       "    <tr>\n",
       "      <th>85</th>\n",
       "      <td>1915</td>\n",
       "      <td>Physics</td>\n",
       "      <td>The Nobel Prize in Physics 1915</td>\n",
       "      <td>\"for their services in the analysis of crystal...</td>\n",
       "      <td>1/2</td>\n",
       "      <td>20</td>\n",
       "      <td>Individual</td>\n",
       "      <td>Sir William Henry Bragg</td>\n",
       "      <td>1862-07-02</td>\n",
       "      <td>Wigton</td>\n",
       "      <td>United Kingdom</td>\n",
       "      <td>Male</td>\n",
       "      <td>University College</td>\n",
       "      <td>London</td>\n",
       "      <td>United Kingdom</td>\n",
       "      <td>1942-03-12</td>\n",
       "      <td>London</td>\n",
       "      <td>United Kingdom</td>\n",
       "    </tr>\n",
       "    <tr>\n",
       "      <th>452</th>\n",
       "      <td>1973</td>\n",
       "      <td>Peace</td>\n",
       "      <td>The Nobel Peace Prize 1973</td>\n",
       "      <td>NaN</td>\n",
       "      <td>1/2</td>\n",
       "      <td>531</td>\n",
       "      <td>Organization</td>\n",
       "      <td>Le Duc Tho</td>\n",
       "      <td>1911-10-14</td>\n",
       "      <td>Nam Ha province</td>\n",
       "      <td>Vietnam</td>\n",
       "      <td>Male</td>\n",
       "      <td>NaN</td>\n",
       "      <td>NaN</td>\n",
       "      <td>NaN</td>\n",
       "      <td>1990-10-13</td>\n",
       "      <td>Hanoi</td>\n",
       "      <td>Vietnam</td>\n",
       "    </tr>\n",
       "    <tr>\n",
       "      <th>451</th>\n",
       "      <td>1973</td>\n",
       "      <td>Peace</td>\n",
       "      <td>The Nobel Peace Prize 1973</td>\n",
       "      <td>NaN</td>\n",
       "      <td>1/2</td>\n",
       "      <td>530</td>\n",
       "      <td>Individual</td>\n",
       "      <td>Henry A. Kissinger</td>\n",
       "      <td>1923-05-27</td>\n",
       "      <td>Fürth</td>\n",
       "      <td>Germany</td>\n",
       "      <td>Male</td>\n",
       "      <td>NaN</td>\n",
       "      <td>NaN</td>\n",
       "      <td>NaN</td>\n",
       "      <td>NaN</td>\n",
       "      <td>NaN</td>\n",
       "      <td>NaN</td>\n",
       "    </tr>\n",
       "  </tbody>\n",
       "</table>\n",
       "</div>"
      ],
      "text/plain": [
       "     Year Category                            Prize  \\\n",
       "85   1915  Physics  The Nobel Prize in Physics 1915   \n",
       "452  1973    Peace       The Nobel Peace Prize 1973   \n",
       "451  1973    Peace       The Nobel Peace Prize 1973   \n",
       "\n",
       "                                            Motivation Prize Share  \\\n",
       "85   \"for their services in the analysis of crystal...         1/2   \n",
       "452                                                NaN         1/2   \n",
       "451                                                NaN         1/2   \n",
       "\n",
       "     Laureate ID Laureate Type                Full Name  Birth Date  \\\n",
       "85            20    Individual  Sir William Henry Bragg  1862-07-02   \n",
       "452          531  Organization               Le Duc Tho  1911-10-14   \n",
       "451          530    Individual       Henry A. Kissinger  1923-05-27   \n",
       "\n",
       "          Birth City   Birth Country   Sex   Organization Name  \\\n",
       "85            Wigton  United Kingdom  Male  University College   \n",
       "452  Nam Ha province         Vietnam  Male                 NaN   \n",
       "451            Fürth         Germany  Male                 NaN   \n",
       "\n",
       "    Organization City Organization Country  Death Date Death City  \\\n",
       "85             London       United Kingdom  1942-03-12     London   \n",
       "452               NaN                  NaN  1990-10-13      Hanoi   \n",
       "451               NaN                  NaN         NaN        NaN   \n",
       "\n",
       "      Death Country  \n",
       "85   United Kingdom  \n",
       "452         Vietnam  \n",
       "451             NaN  "
      ]
     },
     "execution_count": 2,
     "metadata": {},
     "output_type": "execute_result"
    }
   ],
   "source": [
    "nps_df = pd.read_csv(\"data/archive.csv\")\n",
    "nps_df.sample(3)"
   ]
  },
  {
   "cell_type": "markdown",
   "metadata": {},
   "source": [
    "After having a look at the columns, we need to examine some columns of concerns which could help us in picking the right methods to perform data cleaning."
   ]
  },
  {
   "cell_type": "code",
   "execution_count": 3,
   "metadata": {},
   "outputs": [],
   "source": [
    "def renameNan(n):\n",
    "    key, value = n\n",
    "    if key != key:\n",
    "        return (\"none\",value)\n",
    "    return (key, value)"
   ]
  },
  {
   "cell_type": "code",
   "execution_count": 4,
   "metadata": {},
   "outputs": [
    {
     "data": {
      "image/png": "[encoded data removed]",
      "text/plain": [
       "<Figure size 432x288 with 3 Axes>"
      ]
     },
     "metadata": {
      "needs_background": "light"
     },
     "output_type": "display_data"
    }
   ],
   "source": [
    "ind = np.arange(2)\n",
    "width = 0.35\n",
    "fig, axs = plt.subplots(1,3)\n",
    "items = nps_df['Laureate Type'].value_counts(dropna=False)\n",
    "laureates_types = list(items.items())\n",
    "items = nps_df['Sex'].value_counts(dropna=False)\n",
    "items_na = nps_df['Sex'].isnull().sum(axis = 0)\n",
    "gender = list(map(renameNan, items.items()))\n",
    "laureates_types_count = [[ i for i, j in laureates_types ], \n",
    "       [ j for i, j in laureates_types ]] \n",
    "gender_count = [[ i for i, j in gender ], \n",
    "       [ j for i, j in gender ]]\n",
    "axs[0].bar(ind, laureates_types_count[1], width,color=\"#af5d62\", tick_label = laureates_types_count[0])\n",
    "axs[0].set_title(\"Laureate Type\")\n",
    "axs[0].textcoords=\"offset points\"\n",
    "\n",
    "axs[1].axis('off')\n",
    "ind = np.arange(3)\n",
    "width = 0.35\n",
    "axs[2].bar(ind, gender_count[1], width, color=\"#1b9c84\", tick_label = gender_count[0])\n",
    "axs[2].set_title(\"Gender\")\n",
    "\n",
    "\n",
    "plt.show()"
   ]
  },
  {
   "cell_type": "markdown",
   "metadata": {},
   "source": [
    "From the above graphs, we see that the data is not entirely consistent since the records contain both `Individual` and `Organization` values for the <span style=\"color:#c7254e; padding: 2px 4px;background-color:#f9f2f4;borer-radius: 4px;\">Laureate Type</span> winning the nobel prizes. Moreover indicated by the <span style=\"color:#c7254e; padding: 2px 4px;background-color:#f9f2f4;borer-radius: 4px;\">Sex</span> column which denotes that the data contains attribute variations which are crucial for some of the questions.\n",
    "\n",
    "Next step for our data cleaning process is to strictly indicate that some of the missing values are not missing due to falsified data nor noise existence, simply irrelevant attribute for certain records. Thus we must inspect the occurence of the missing values in each column and re-engineer the entire column if the missing value exceeded a significant percentage from the data set."
   ]
  },
  {
   "cell_type": "code",
   "execution_count": 5,
   "metadata": {},
   "outputs": [
    {
     "data": {
      "text/plain": [
       "Motivation               88\n",
       "Birth Date               29\n",
       "Birth City               28\n",
       "Birth Country            26\n",
       "Sex                      26\n",
       "Organization Name       247\n",
       "Organization City       253\n",
       "Organization Country    253\n",
       "Death Date              352\n",
       "Death City              370\n",
       "Death Country           364\n",
       "dtype: int64"
      ]
     },
     "execution_count": 5,
     "metadata": {},
     "output_type": "execute_result"
    }
   ],
   "source": [
    "missing_values_count = nps_df.isnull().sum()\n",
    "missing_values_count[missing_values_count > 0]"
   ]
  },
  {
   "cell_type": "markdown",
   "metadata": {},
   "source": [
    "Apparently, multiple columns include missing values. Thus we will calculate the percentage of the missing values among the entire data set."
   ]
  },
  {
   "cell_type": "code",
   "execution_count": 6,
   "metadata": {},
   "outputs": [
    {
     "name": "stdout",
     "output_type": "stream",
     "text": [
      "12.0%\n"
     ]
    }
   ],
   "source": [
    "total_cells_nfl = np.product(nps_df.shape) \n",
    "total_missing_nfl = missing_values_count.sum()\n",
    "\n",
    "percentage_missign_values_nfl = (total_missing_nfl/total_cells_nfl) * 100\n",
    "print(str(percentage_missign_values_nfl.round())+'%')"
   ]
  },
  {
   "cell_type": "code",
   "execution_count": 7,
   "metadata": {},
   "outputs": [
    {
     "data": {
      "text/html": [
       "<div>\n",
       "<style scoped>\n",
       "    .dataframe tbody tr th:only-of-type {\n",
       "        vertical-align: middle;\n",
       "    }\n",
       "\n",
       "    .dataframe tbody tr th {\n",
       "        vertical-align: top;\n",
       "    }\n",
       "\n",
       "    .dataframe thead th {\n",
       "        text-align: right;\n",
       "    }\n",
       "</style>\n",
       "<table border=\"1\" class=\"dataframe\">\n",
       "  <thead>\n",
       "    <tr style=\"text-align: right;\">\n",
       "      <th></th>\n",
       "      <th>Year</th>\n",
       "      <th>Category</th>\n",
       "      <th>Prize</th>\n",
       "      <th>Motivation</th>\n",
       "      <th>Prize Share</th>\n",
       "      <th>Laureate ID</th>\n",
       "      <th>Laureate Type</th>\n",
       "      <th>Full Name</th>\n",
       "      <th>Birth Date</th>\n",
       "      <th>Birth City</th>\n",
       "      <th>Birth Country</th>\n",
       "      <th>Sex</th>\n",
       "      <th>Organization Name</th>\n",
       "      <th>Organization City</th>\n",
       "      <th>Organization Country</th>\n",
       "      <th>Death Date</th>\n",
       "      <th>Death City</th>\n",
       "      <th>Death Country</th>\n",
       "    </tr>\n",
       "  </thead>\n",
       "  <tbody>\n",
       "    <tr>\n",
       "      <th>61</th>\n",
       "      <td>1910</td>\n",
       "      <td>Peace</td>\n",
       "      <td>The Nobel Peace Prize 1910</td>\n",
       "      <td>NaN</td>\n",
       "      <td>1/1</td>\n",
       "      <td>477</td>\n",
       "      <td>Organization</td>\n",
       "      <td>Bureau international permanent de la Paix (Per...</td>\n",
       "      <td>NaN</td>\n",
       "      <td>NaN</td>\n",
       "      <td>NaN</td>\n",
       "      <td>NaN</td>\n",
       "      <td>NaN</td>\n",
       "      <td>NaN</td>\n",
       "      <td>NaN</td>\n",
       "      <td>NaN</td>\n",
       "      <td>NaN</td>\n",
       "      <td>NaN</td>\n",
       "    </tr>\n",
       "    <tr>\n",
       "      <th>927</th>\n",
       "      <td>2013</td>\n",
       "      <td>Peace</td>\n",
       "      <td>The Nobel Peace Prize 2013</td>\n",
       "      <td>\"for its extensive efforts to eliminate chemic...</td>\n",
       "      <td>1/1</td>\n",
       "      <td>893</td>\n",
       "      <td>Organization</td>\n",
       "      <td>Organisation for the Prohibition of Chemical W...</td>\n",
       "      <td>NaN</td>\n",
       "      <td>NaN</td>\n",
       "      <td>NaN</td>\n",
       "      <td>NaN</td>\n",
       "      <td>NaN</td>\n",
       "      <td>NaN</td>\n",
       "      <td>NaN</td>\n",
       "      <td>NaN</td>\n",
       "      <td>NaN</td>\n",
       "      <td>NaN</td>\n",
       "    </tr>\n",
       "    <tr>\n",
       "      <th>295</th>\n",
       "      <td>1954</td>\n",
       "      <td>Peace</td>\n",
       "      <td>The Nobel Peace Prize 1954</td>\n",
       "      <td>NaN</td>\n",
       "      <td>1/1</td>\n",
       "      <td>515</td>\n",
       "      <td>Organization</td>\n",
       "      <td>Office of the United Nations High Commissioner...</td>\n",
       "      <td>NaN</td>\n",
       "      <td>NaN</td>\n",
       "      <td>NaN</td>\n",
       "      <td>NaN</td>\n",
       "      <td>NaN</td>\n",
       "      <td>NaN</td>\n",
       "      <td>NaN</td>\n",
       "      <td>NaN</td>\n",
       "      <td>NaN</td>\n",
       "      <td>NaN</td>\n",
       "    </tr>\n",
       "  </tbody>\n",
       "</table>\n",
       "</div>"
      ],
      "text/plain": [
       "     Year Category                       Prize  \\\n",
       "61   1910    Peace  The Nobel Peace Prize 1910   \n",
       "927  2013    Peace  The Nobel Peace Prize 2013   \n",
       "295  1954    Peace  The Nobel Peace Prize 1954   \n",
       "\n",
       "                                            Motivation Prize Share  \\\n",
       "61                                                 NaN         1/1   \n",
       "927  \"for its extensive efforts to eliminate chemic...         1/1   \n",
       "295                                                NaN         1/1   \n",
       "\n",
       "     Laureate ID Laureate Type  \\\n",
       "61           477  Organization   \n",
       "927          893  Organization   \n",
       "295          515  Organization   \n",
       "\n",
       "                                             Full Name Birth Date Birth City  \\\n",
       "61   Bureau international permanent de la Paix (Per...        NaN        NaN   \n",
       "927  Organisation for the Prohibition of Chemical W...        NaN        NaN   \n",
       "295  Office of the United Nations High Commissioner...        NaN        NaN   \n",
       "\n",
       "    Birth Country  Sex Organization Name Organization City  \\\n",
       "61            NaN  NaN               NaN               NaN   \n",
       "927           NaN  NaN               NaN               NaN   \n",
       "295           NaN  NaN               NaN               NaN   \n",
       "\n",
       "    Organization Country Death Date Death City Death Country  \n",
       "61                   NaN        NaN        NaN           NaN  \n",
       "927                  NaN        NaN        NaN           NaN  \n",
       "295                  NaN        NaN        NaN           NaN  "
      ]
     },
     "execution_count": 7,
     "metadata": {},
     "output_type": "execute_result"
    }
   ],
   "source": [
    "nps_df[nps_df['Sex'].isnull()].sample(3)"
   ]
  },
  {
   "cell_type": "markdown",
   "metadata": {},
   "source": [
    "Laureate Types can have more than one value."
   ]
  },
  {
   "cell_type": "code",
   "execution_count": null,
   "metadata": {},
   "outputs": [],
   "source": []
  },
  {
   "cell_type": "markdown",
   "metadata": {},
   "source": [
    "Changing the null values of the <span style=\"color:#c7254e; padding: 2px 4px;background-color:#f9f2f4;borer-radius: 4px;\">Birth Date</span> column to `none` as it does not exist\n",
    "\n",
    "Changing the null values of the <span style=\"color:#c7254e; padding: 2px 4px;background-color:#f9f2f4;borer-radius: 4px;\">Birth City</span> column to `none` as it does not exist\n",
    "\n",
    "Changing the null values of the <span style=\"color:#c7254e; padding: 2px 4px;background-color:#f9f2f4;borer-radius: 4px;\">Birth Country</span> column to `none` as it does not exist"
   ]
  },
  {
   "cell_type": "code",
   "execution_count": 8,
   "metadata": {},
   "outputs": [
    {
     "name": "stdout",
     "output_type": "stream",
     "text": [
      "24     Institut de droit international (Institute of ...\n",
      "61     Bureau international permanent de la Paix (Per...\n",
      "90     Comité international de la Croix Rouge (Intern...\n",
      "206    Office international Nansen pour les Réfugiés ...\n",
      "222    Comité international de la Croix Rouge (Intern...\n",
      "244                Friends Service Council (The Quakers)\n",
      "245     American Friends Service Committee (The Quakers)\n",
      "295    Office of the United Nations High Commissioner...\n",
      "365    Comité international de la Croix Rouge (Intern...\n",
      "366    Ligue des Sociétés de la Croix-Rouge (League o...\n",
      "383              United Nations Children's Fund (UNICEF)\n",
      "416           International Labour Organization (I.L.O.)\n",
      "498                                Amnesty International\n",
      "543    Office of the United Nations High Commissioner...\n",
      "578    International Physicians for the Prevention of...\n",
      "610                   United Nations Peacekeeping Forces\n",
      "682     Pugwash Conferences on Science and World Affairs\n",
      "705       International Campaign to Ban Landmines (ICBL)\n",
      "728                             Médecins Sans Frontières\n",
      "754                                United Nations (U.N.)\n",
      "808            International Atomic Energy Agency (IAEA)\n",
      "821                                         Grameen Bank\n",
      "833     Intergovernmental Panel on Climate Change (IPCC)\n",
      "909                                  European Union (EU)\n",
      "927    Organisation for the Prohibition of Chemical W...\n",
      "955                            National Dialogue Quartet\n",
      "Name: Full Name, dtype: object\n"
     ]
    },
    {
     "data": {
      "text/plain": [
       "Motivation               88\n",
       "Birth Date                3\n",
       "Birth City                2\n",
       "Organization Name       247\n",
       "Organization City       253\n",
       "Organization Country    253\n",
       "Death Date              352\n",
       "Death City              370\n",
       "Death Country           364\n",
       "dtype: int64"
      ]
     },
     "execution_count": 8,
     "metadata": {},
     "output_type": "execute_result"
    }
   ],
   "source": [
    "cleaned_nps_df = nps_df.copy()\n",
    "\n",
    "cleaned_nps_df.loc[cleaned_nps_df['Sex'].isnull() & (cleaned_nps_df['Laureate Type'] == 'Organization'), 'Sex'] = 'Organization'\n",
    "print(cleaned_nps_df[cleaned_nps_df['Sex']== 'Organization']['Full Name'])\n",
    "\n",
    "cleaned_nps_df.loc[cleaned_nps_df['Birth Date'].isnull() & (cleaned_nps_df['Laureate Type'] == 'Organization') & \n",
    "         (cleaned_nps_df['Sex'] == 'Organization'), 'Birth Date'] = 'none'\n",
    "\n",
    "\n",
    "cleaned_nps_df.loc[cleaned_nps_df['Birth City'].isnull() & (cleaned_nps_df['Laureate Type'] == 'Organization') & \n",
    "         (cleaned_nps_df['Sex'] == 'Organization'), 'Birth City'] = 'none'\n",
    "\n",
    "\n",
    "\n",
    "cleaned_nps_df.loc[cleaned_nps_df['Birth Country'].isnull() & (cleaned_nps_df['Laureate Type'] == 'Organization') & \n",
    "         (cleaned_nps_df['Sex'] == 'Organization'), 'Birth Country'] = 'none'\n",
    "\n",
    "missing_values_count = cleaned_nps_df.isnull().sum()\n",
    "missing_values_count[missing_values_count > 0]"
   ]
  },
  {
   "cell_type": "code",
   "execution_count": 9,
   "metadata": {},
   "outputs": [
    {
     "data": {
      "text/plain": [
       "array([nan, 'Tunis'], dtype=object)"
      ]
     },
     "execution_count": 9,
     "metadata": {},
     "output_type": "execute_result"
    }
   ],
   "source": [
    "\n",
    "cleaned_nps_df.loc[cleaned_nps_df['Organization Country'].isnull(), 'Organization City'].unique()"
   ]
  },
  {
   "cell_type": "code",
   "execution_count": 10,
   "metadata": {},
   "outputs": [
    {
     "data": {
      "text/plain": [
       "Motivation               88\n",
       "Birth Date                3\n",
       "Birth City                2\n",
       "Organization Name       247\n",
       "Organization City       253\n",
       "Organization Country    252\n",
       "Death Date              352\n",
       "Death City              370\n",
       "Death Country           364\n",
       "dtype: int64"
      ]
     },
     "execution_count": 10,
     "metadata": {},
     "output_type": "execute_result"
    }
   ],
   "source": [
    "cleaned_nps_df.loc[cleaned_nps_df['Organization City'] == 'Tunis', 'Organization Country'] = 'Tunis'\n",
    "\n",
    "missing_values_count = cleaned_nps_df.isnull().sum()\n",
    "missing_values_count[missing_values_count > 0]"
   ]
  },
  {
   "cell_type": "markdown",
   "metadata": {},
   "source": [
    "Imputing the <span style=\"color:#c7254e; padding: 2px 4px;background-color:#f9f2f4;borer-radius: 4px;\">Organization Name</span> from <span style=\"color:#c7254e; padding: 2px 4px;background-color:#f9f2f4;borer-radius: 4px;\">Full Name</span> based on the fact that the name of organization is the <span style=\"color:#c7254e; padding: 2px 4px;background-color:#f9f2f4;borer-radius: 4px;\">Full Name</span> when the laureate type is <span style=\"color:#c7254e; padding: 2px 4px;background-color:#f9f2f4;borer-radius: 4px;\">Organization</span>"
   ]
  },
  {
   "cell_type": "code",
   "execution_count": 11,
   "metadata": {},
   "outputs": [
    {
     "data": {
      "text/plain": [
       "Motivation               88\n",
       "Birth Date                3\n",
       "Birth City                2\n",
       "Organization Name       221\n",
       "Organization City       253\n",
       "Organization Country    252\n",
       "Death Date              352\n",
       "Death City              370\n",
       "Death Country           364\n",
       "dtype: int64"
      ]
     },
     "execution_count": 11,
     "metadata": {},
     "output_type": "execute_result"
    }
   ],
   "source": [
    "cleaned_nps_df.loc[cleaned_nps_df['Organization Name'].isnull() & (cleaned_nps_df['Laureate Type'] == 'Organization') &\n",
    "         (cleaned_nps_df['Sex'] == 'Organization'), 'Organization Name'] = cleaned_nps_df['Full Name']\n",
    "\n",
    "missing_values_count = cleaned_nps_df.isnull().sum()\n",
    "missing_values_count[missing_values_count > 0]"
   ]
  },
  {
   "cell_type": "markdown",
   "metadata": {},
   "source": [
    "### Question 1: What are the categories that hold the most noble prizes ?\n",
    "As seen below to answer this question, the data is grouped by the types of categories offered for noble prizes and then the grouped data is sorted in a descending order, so we can see that the field of medicine holds the most noble prizes followed by the field of physics."
   ]
  },
  {
   "cell_type": "code",
   "execution_count": 12,
   "metadata": {},
   "outputs": [
    {
     "name": "stdout",
     "output_type": "stream",
     "text": [
      "Category\n",
      "Medicine      227\n",
      "Physics       222\n",
      "Chemistry     194\n",
      "Peace         130\n",
      "Literature    113\n",
      "Economics      83\n",
      "dtype: int64\n"
     ]
    },
    {
     "data": {
      "image/png": "[encoded data removed]",
      "text/plain": [
       "<Figure size 432x288 with 1 Axes>"
      ]
     },
     "metadata": {
      "needs_background": "light"
     },
     "output_type": "display_data"
    }
   ],
   "source": [
    "print(cleaned_nps_df.groupby(['Category']).size().sort_values(ascending=False))\n",
    "cleaned_nps_df.groupby(['Category']).size().plot(kind='bar')\n",
    "plt.show()"
   ]
  },
  {
   "cell_type": "markdown",
   "metadata": {},
   "source": [
    "### Question 2: Who are the youngest and the oldest noble prize winners ?\n",
    "First of all a new column holding the age is added to the data which represents the age of the noble prize winner at the time of winning the prize, it was calculated by subtracting the birth date of the winner from the year of the prize. To get the youngest and the oldest winner the minimum and the maximum values of the age column were obtained"
   ]
  },
  {
   "cell_type": "code",
   "execution_count": 13,
   "metadata": {},
   "outputs": [
    {
     "data": {
      "text/html": [
       "<div>\n",
       "<style scoped>\n",
       "    .dataframe tbody tr th:only-of-type {\n",
       "        vertical-align: middle;\n",
       "    }\n",
       "\n",
       "    .dataframe tbody tr th {\n",
       "        vertical-align: top;\n",
       "    }\n",
       "\n",
       "    .dataframe thead th {\n",
       "        text-align: right;\n",
       "    }\n",
       "</style>\n",
       "<table border=\"1\" class=\"dataframe\">\n",
       "  <thead>\n",
       "    <tr style=\"text-align: right;\">\n",
       "      <th></th>\n",
       "      <th>Year</th>\n",
       "      <th>Category</th>\n",
       "      <th>Full Name</th>\n",
       "      <th>Age</th>\n",
       "    </tr>\n",
       "  </thead>\n",
       "  <tbody>\n",
       "    <tr>\n",
       "      <th>940</th>\n",
       "      <td>2014</td>\n",
       "      <td>Peace</td>\n",
       "      <td>Malala Yousafzai</td>\n",
       "      <td>17.0</td>\n",
       "    </tr>\n",
       "  </tbody>\n",
       "</table>\n",
       "</div>"
      ],
      "text/plain": [
       "     Year Category         Full Name   Age\n",
       "940  2014    Peace  Malala Yousafzai  17.0"
      ]
     },
     "execution_count": 13,
     "metadata": {},
     "output_type": "execute_result"
    }
   ],
   "source": [
    "cleaned_nps_df['Birth Date'] = pd.to_datetime(cleaned_nps_df[\"Birth Date\"],errors='coerce')\n",
    "cleaned_nps_df['Age'] = cleaned_nps_df['Year'] - cleaned_nps_df['Birth Date'].dt.year\n",
    "Youngest= cleaned_nps_df[cleaned_nps_df['Age'] == min(cleaned_nps_df['Age'])]\n",
    "Youngest[['Year','Category','Full Name','Age']]"
   ]
  },
  {
   "cell_type": "code",
   "execution_count": 14,
   "metadata": {},
   "outputs": [
    {
     "data": {
      "text/html": [
       "<div>\n",
       "<style scoped>\n",
       "    .dataframe tbody tr th:only-of-type {\n",
       "        vertical-align: middle;\n",
       "    }\n",
       "\n",
       "    .dataframe tbody tr th {\n",
       "        vertical-align: top;\n",
       "    }\n",
       "\n",
       "    .dataframe thead th {\n",
       "        text-align: right;\n",
       "    }\n",
       "</style>\n",
       "<table border=\"1\" class=\"dataframe\">\n",
       "  <thead>\n",
       "    <tr style=\"text-align: right;\">\n",
       "      <th></th>\n",
       "      <th>Year</th>\n",
       "      <th>Category</th>\n",
       "      <th>Full Name</th>\n",
       "      <th>Age</th>\n",
       "    </tr>\n",
       "  </thead>\n",
       "  <tbody>\n",
       "    <tr>\n",
       "      <th>825</th>\n",
       "      <td>2007</td>\n",
       "      <td>Economics</td>\n",
       "      <td>Leonid Hurwicz</td>\n",
       "      <td>90.0</td>\n",
       "    </tr>\n",
       "  </tbody>\n",
       "</table>\n",
       "</div>"
      ],
      "text/plain": [
       "     Year   Category       Full Name   Age\n",
       "825  2007  Economics  Leonid Hurwicz  90.0"
      ]
     },
     "execution_count": 14,
     "metadata": {},
     "output_type": "execute_result"
    }
   ],
   "source": [
    "oldest = cleaned_nps_df[cleaned_nps_df['Age'] == max(cleaned_nps_df['Age'])]\n",
    "oldest[['Year','Category','Full Name','Age']]"
   ]
  },
  {
   "cell_type": "markdown",
   "metadata": {},
   "source": [
    "### Question 3: Who is the first female to win a noble prize ?\n",
    "In order to identify the first female noble prize winner, we filtered the data according to the column 'Sex' to be female so we can get all the data of the female prize winners, then we chose the first one in the data to get the first ever female winner.\n"
   ]
  },
  {
   "cell_type": "code",
   "execution_count": 15,
   "metadata": {},
   "outputs": [
    {
     "data": {
      "text/html": [
       "<div>\n",
       "<style scoped>\n",
       "    .dataframe tbody tr th:only-of-type {\n",
       "        vertical-align: middle;\n",
       "    }\n",
       "\n",
       "    .dataframe tbody tr th {\n",
       "        vertical-align: top;\n",
       "    }\n",
       "\n",
       "    .dataframe thead th {\n",
       "        text-align: right;\n",
       "    }\n",
       "</style>\n",
       "<table border=\"1\" class=\"dataframe\">\n",
       "  <thead>\n",
       "    <tr style=\"text-align: right;\">\n",
       "      <th></th>\n",
       "      <th>Year</th>\n",
       "      <th>Category</th>\n",
       "      <th>Full Name</th>\n",
       "      <th>Age</th>\n",
       "    </tr>\n",
       "  </thead>\n",
       "  <tbody>\n",
       "    <tr>\n",
       "      <th>19</th>\n",
       "      <td>1903</td>\n",
       "      <td>Physics</td>\n",
       "      <td>Marie Curie, née Sklodowska</td>\n",
       "      <td>36.0</td>\n",
       "    </tr>\n",
       "  </tbody>\n",
       "</table>\n",
       "</div>"
      ],
      "text/plain": [
       "    Year Category                    Full Name   Age\n",
       "19  1903  Physics  Marie Curie, née Sklodowska  36.0"
      ]
     },
     "execution_count": 15,
     "metadata": {},
     "output_type": "execute_result"
    }
   ],
   "source": [
    "female_noble_winners = cleaned_nps_df[cleaned_nps_df['Sex'] == 'Female']\n",
    "female_noble_winners.head(1)[['Year','Category','Full Name','Age']]"
   ]
  },
  {
   "cell_type": "markdown",
   "metadata": {},
   "source": [
    "### Question 4: Top Birth Country to receive noble prizes?"
   ]
  },
  {
   "cell_type": "code",
   "execution_count": 51,
   "metadata": {},
   "outputs": [
    {
     "name": "stdout",
     "output_type": "stream",
     "text": [
      "Birth Country\n",
      "United States of America    276\n",
      "United Kingdom               88\n",
      "Germany                      70\n",
      "France                       53\n",
      "Sweden                       30\n",
      "Japan                        29\n",
      "none                         26\n",
      "Russia                       20\n",
      "Netherlands                  19\n",
      "Canada                       18\n",
      "dtype: int64\n"
     ]
    },
    {
     "data": {
      "text/plain": [
       "<matplotlib.axes._subplots.AxesSubplot at 0x1acb3197748>"
      ]
     },
     "execution_count": 51,
     "metadata": {},
     "output_type": "execute_result"
    },
    {
     "data": {
      "image/png": "[encoded data removed]",
      "text/plain": [
       "<Figure size 432x288 with 1 Axes>"
      ]
     },
     "metadata": {
      "needs_background": "light"
     },
     "output_type": "display_data"
    }
   ],
   "source": [
    "print(cleaned_nps_df.groupby(['Birth Country']).size().sort_values(ascending=False).head(10))\n",
    "cleaned_nps_df.groupby(['Birth Country']).size().sort_values(ascending=False).head(10).plot(kind='barh')"
   ]
  },
  {
   "cell_type": "markdown",
   "metadata": {},
   "source": [
    "### Question 5: Which Year had most and least prizes awarded?"
   ]
  },
  {
   "cell_type": "code",
   "execution_count": 121,
   "metadata": {},
   "outputs": [
    {
     "name": "stdout",
     "output_type": "stream",
     "text": [
      "Top Year: 2009 With total prizes: 18\n",
      "Least Year: 1916 With total prizes: 1\n"
     ]
    },
    {
     "name": "stderr",
     "output_type": "stream",
     "text": [
      "C:\\Users\\hp\\Anaconda3\\lib\\site-packages\\ipykernel_launcher.py:2: SettingWithCopyWarning: \n",
      "A value is trying to be set on a copy of a slice from a DataFrame.\n",
      "Try using .loc[row_indexer,col_indexer] = value instead\n",
      "\n",
      "See the caveats in the documentation: http://pandas.pydata.org/pandas-docs/stable/indexing.html#indexing-view-versus-copy\n",
      "  \n",
      "C:\\Users\\hp\\Anaconda3\\lib\\site-packages\\ipykernel_launcher.py:6: FutureWarning: get_value is deprecated and will be removed in a future release. Please use .at[] or .iat[] accessors instead\n",
      "  \n",
      "C:\\Users\\hp\\Anaconda3\\lib\\site-packages\\ipykernel_launcher.py:10: FutureWarning: get_value is deprecated and will be removed in a future release. Please use .at[] or .iat[] accessors instead\n",
      "  # Remove the CWD from sys.path while we load stuff.\n"
     ]
    }
   ],
   "source": [
    "Year_Count = cleaned_nps_df[['Year','Laureate ID']]\n",
    "Year_Count['Count'] = cleaned_nps_df.groupby('Year')['Year'].transform('count')\n",
    "Year_Count = Year_Count.sort_values(by ='Count',ascending = False)\n",
    "Most = Year_Count[Year_Count['Count'] == max(Year_Count['Count'])]\n",
    "Most.reset_index(drop=False, inplace=True)\n",
    "print(\"Top Year:\",Most.get_value(0, 'Year'),\"With total prizes:\",Most.get_value(0, 'Count'))\n",
    "\n",
    "Least = Year_Count[Year_Count['Count'] == min(Year_Count['Count'])]\n",
    "Least.reset_index(drop=False, inplace=True)\n",
    "print(\"Least Year:\",Least.get_value(0, 'Year'),\"With total prizes:\",Least.get_value(0, 'Count'))"
   ]
  },
  {
   "cell_type": "markdown",
   "metadata": {},
   "source": [
    "### Question 6: What is the lifespan of Laureates? //to be edited "
   ]
  },
  {
   "cell_type": "code",
   "execution_count": 160,
   "metadata": {},
   "outputs": [
    {
     "name": "stderr",
     "output_type": "stream",
     "text": [
      "C:\\Users\\hp\\Anaconda3\\lib\\site-packages\\ipykernel_launcher.py:4: SettingWithCopyWarning: \n",
      "A value is trying to be set on a copy of a slice from a DataFrame.\n",
      "Try using .loc[row_indexer,col_indexer] = value instead\n",
      "\n",
      "See the caveats in the documentation: http://pandas.pydata.org/pandas-docs/stable/indexing.html#indexing-view-versus-copy\n",
      "  after removing the cwd from sys.path.\n"
     ]
    },
    {
     "data": {
      "text/plain": [
       "<function matplotlib.pyplot.show(*args, **kw)>"
      ]
     },
     "execution_count": 160,
     "metadata": {},
     "output_type": "execute_result"
    },
    {
     "data": {
      "image/png": "[encoded data removed]",
      "text/plain": [
       "<Figure size 432x288 with 1 Axes>"
      ]
     },
     "metadata": {
      "needs_background": "light"
     },
     "output_type": "display_data"
    }
   ],
   "source": [
    "from datetime import datetime\n",
    "\n",
    "life_span = cleaned_nps_df[['Birth Date','Death Date']]  \n",
    "life_span['Birth Year'] = life_span['Birth Date'].dt.year\n",
    "life_span = life_span[pd.notnull(life_span['Birth Year'])]\n",
    "\n",
    "life_span['Death Date'] = pd.to_datetime(life_span['Death Date'], format='%Y-%m-%d')\n",
    "life_span['Death Year'] = life_span['Death Date'].dt.year\n",
    "life_span['Death Year'].fillna(datetime.today().year, inplace=True)\n",
    "life_span['Life Span'] = life_span['Death Year'] - life_span['Birth Year']\n",
    "#life_span['Life Span'].sort_values(ascending=False).head(10)\n",
    "plt.hist(life_span['Life Span'],bins=30)\n",
    "plt.title('Life Span of Laureates')\n",
    "plt.show"
   ]
  },
  {
   "cell_type": "markdown",
   "metadata": {},
   "source": [
    "### Question 7: Did anyone win noble prize more than once? "
   ]
  },
  {
   "cell_type": "code",
   "execution_count": 162,
   "metadata": {},
   "outputs": [
    {
     "name": "stdout",
     "output_type": "stream",
     "text": [
      "Full Name                                                                                 Year\n",
      "Jack W. Szostak                                                                           2009    3\n",
      "Petrus (Peter) Josephus Wilhelmus Debye                                                   1936    2\n",
      "David J. Wineland                                                                         2012    2\n",
      "Stefan W. Hell                                                                            2014    2\n",
      "Osamu Shimomura                                                                           2008    2\n",
      "Antonio Caetano de Abreu Freire Egas Moniz                                                1949    2\n",
      "Edward C. Prescott                                                                        2004    2\n",
      "Bruce A. Beutler                                                                          2011    2\n",
      "Rudolf Ludwig Mössbauer                                                                   1961    2\n",
      "Richard Kuhn                                                                              1938    2\n",
      "Carl Bosch                                                                                1931    2\n",
      "Walther Bothe                                                                             1954    2\n",
      "Fritz Albert Lipmann                                                                      1953    2\n",
      "Elinor Ostrom                                                                             2009    2\n",
      "Werner Forssmann                                                                          1956    2\n",
      "Alvin E. Roth                                                                             2012    2\n",
      "Roger Y. Tsien                                                                            2008    2\n",
      "Hermann Staudinger                                                                        1953    2\n",
      "Toshihide Maskawa                                                                         2008    2\n",
      "Isamu Akasaki                                                                             2014    2\n",
      "Christian de Duve                                                                         1974    2\n",
      "Tomas Lindahl                                                                             2015    2\n",
      "Robert J. Lefkowitz                                                                       2012    2\n",
      "Kurt Wüthrich                                                                             2002    2\n",
      "Georges Charpak                                                                           1992    2\n",
      "Hideki Yukawa                                                                             1949    2\n",
      "Igor Yevgenyevich Tamm                                                                    1958    2\n",
      "Theodor W. Hänsch                                                                         2005    2\n",
      "Roderick MacKinnon                                                                        2003    2\n",
      "Thomas C. Südhof                                                                          2013    2\n",
      "                                                                                                 ..\n",
      "Maurice Allais                                                                            1988    1\n",
      "Masatoshi Koshiba                                                                         2002    1\n",
      "Mother Teresa                                                                             1979    1\n",
      "Muhammad Yunus                                                                            2006    1\n",
      "Murray Gell-Mann                                                                          1969    1\n",
      "Myron S. Scholes                                                                          1997    1\n",
      "Office of the United Nations High Commissioner for Refugees (UNHCR)                       1981    1\n",
      "                                                                                          1954    1\n",
      "Office international Nansen pour les Réfugiés (Nansen International Office for Refugees)  1938    1\n",
      "Odysseus Elytis                                                                           1979    1\n",
      "Odd Hassel                                                                                1969    1\n",
      "Octavio Paz                                                                               1990    1\n",
      "Norman F. Ramsey                                                                          1989    1\n",
      "Norman E. Borlaug                                                                         1970    1\n",
      "Nils Gustaf Dalén                                                                         1912    1\n",
      "Nikolay Nikolaevich Semenov                                                               1956    1\n",
      "Nikolaas Tinbergen                                                                        1973    1\n",
      "Niels Ryberg Finsen                                                                       1903    1\n",
      "Niels K. Jerne                                                                            1984    1\n",
      "Niels Henrik David Bohr                                                                   1922    1\n",
      "Nicolay Gennadiyevich Basov                                                               1964    1\n",
      "Nicolaas Bloembergen                                                                      1981    1\n",
      "Nicholas Murray Butler                                                                    1931    1\n",
      "Nelson Mandela                                                                            1993    1\n",
      "Nelly Sachs                                                                               1966    1\n",
      "National Dialogue Quartet                                                                 2015    1\n",
      "Naguib Mahfouz                                                                            1988    1\n",
      "Nadine Gordimer                                                                           1991    1\n",
      "Médecins Sans Frontières                                                                  1999    1\n",
      "A. Michael Spence                                                                         2001    1\n",
      "Length: 911, dtype: int64\n"
     ]
    }
   ],
   "source": [
    "print(cleaned_nps_df.groupby(['Full Name','Year']).size().sort_values(ascending=False))"
   ]
  },
  {
   "cell_type": "code",
   "execution_count": null,
   "metadata": {},
   "outputs": [],
   "source": []
  }
 ],
 "metadata": {
  "celltoolbar": "Raw Cell Format",
  "kernelspec": {
   "display_name": "Python 3",
   "language": "python",
   "name": "python3"
  },
  "language_info": {
   "codemirror_mode": {
    "name": "ipython",
    "version": 3
   },
   "file_extension": ".py",
   "mimetype": "text/x-python",
   "name": "python",
   "nbconvert_exporter": "python",
   "pygments_lexer": "ipython3",
   "version": "3.7.3"
  }
 },
 "nbformat": 4,
 "nbformat_minor": 2
}
